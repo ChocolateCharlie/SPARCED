{
 "cells": [
  {
   "cell_type": "code",
   "execution_count": null,
   "metadata": {},
   "outputs": [],
   "source": [
    "import libsbml\n",
    "import importlib\n",
    "import amici\n",
    "import amici.plotting\n",
    "import os\n",
    "import sys\n",
    "import numpy as np\n",
    "import matplotlib.pyplot as plt\n",
    "import pandas as pd\n",
    "from datetime import datetime\n",
    "import scipy.stats\n",
    "\n",
    "from gm import gm\n",
    "from gm_Prep import gm_Prep"
   ]
  },
  {
   "cell_type": "code",
   "execution_count": null,
   "metadata": {},
   "outputs": [],
   "source": [
    "# np.random.seed(1337)"
   ]
  },
  {
   "cell_type": "code",
   "execution_count": null,
   "metadata": {},
   "outputs": [],
   "source": [
    "# SBML model we want to import\n",
    "sbml_file = 'SPARCED_Brep.xml'\n",
    "# Name of the model that will also be the name of the python module\n",
    "model_name = sbml_file[0:-4]\n",
    "# Directory to which the generated model code is written\n",
    "model_output_dir = model_name\n",
    "\n",
    "spdata0 = pd.read_csv('Species_Brep.txt',header=0,index_col=0,sep=\"\\t\")\n",
    "spdata = np.double(spdata0.values[:,1])\n",
    "\n",
    "spVolNames = spdata0.values[:,0]\n",
    "spVols = np.zeros(shape=(774,1))\n",
    "spVols[np.argwhere(spVolNames=='Cytoplasm')] = 5.2500E-12\n",
    "spVols[np.argwhere(spVolNames=='Nucleus')] = 1.7500E-12\n",
    "spVols[np.argwhere(spVolNames=='Mitochondrion')] = 3.6750E-13\n",
    "spVols[np.argwhere(spVolNames=='Extracellular')] = 5.0000E-05\n",
    "\n",
    "kGsRead = pd.read_csv('OmicsData.txt',header=0,index_col=0,sep=\"\\t\")\n",
    "gExp_mpc = np.float64(kGsRead.values[:,0])\n",
    "mExp_mpc = np.float64(kGsRead.values[:,1])\n",
    "kGin = np.float64(kGsRead.values[:,2])\n",
    "kGac = np.float64(kGsRead.values[:,3])\n",
    "kTCleak = np.float64(kGsRead.values[:,4])\n",
    "kTCmaxs = np.float64(kGsRead.values[:,5])\n",
    "kTCd = np.float64(kGsRead.values[:,6])\n",
    "kmRNAs = kGsRead.values[:,7]\n",
    "\n",
    "# Read-in the activators matrix and assign concentrations of activators\n",
    "TAsRead = pd.read_csv('TAs.csv',header=0,index_col=0)\n",
    "TAs0 = np.float64(TAsRead.values)\n",
    "# Read-in the repressors matrix and assign concentrations of repressors\n",
    "TRsRead = pd.read_csv('TRs.csv',header=0,index_col=0)\n",
    "TRs0 = np.float64(TRsRead.values)"
   ]
  },
  {
   "cell_type": "code",
   "execution_count": null,
   "metadata": {},
   "outputs": [],
   "source": [
    "genedata, GenePositionMatrix, AllGenesVec, xgac_mpc_D, xgin_mpc_D, xgac_mpc, xgin_mpc, kTCleak2 \\\n",
    "= gm_Prep(flagD, gExp_mpc, mExp_mpc, kGin, kGac, kTCleak, kTCmaxs, kTCd)"
   ]
  },
  {
   "cell_type": "code",
   "execution_count": null,
   "metadata": {},
   "outputs": [],
   "source": [
    "flagD = 1\n",
    "th = 3\n",
    "nmxlsfile = 'FigS3C_det_'\n",
    "ligConcs = [0.001,0.01,0.1,1.0,10.0,100.0,1000.0]\n",
    "ligandInds = [155,156,157,158,159,160,161]\n",
    "\n",
    "ts = 30\n",
    "NSteps = th*3600/ts\n",
    "NSteps = int(NSteps)\n",
    "Vn = 1.75E-12\n",
    "Vc = 5.25E-12\n",
    "tout_all = np.arange(0,th*3600+1,30)\n",
    "\n",
    "sys.path.insert(0, os.path.abspath(model_output_dir))\n",
    "model_module = importlib.import_module(model_name)\n",
    "model = model_module.getModel()\n",
    "solver = model.getSolver() # Create solver instance\n",
    "solver.setMaxSteps = 1e10\n",
    "model.setTimepoints(np.linspace(0,ts)) # np.linspace(0, 30) # set timepoints\n",
    "\n",
    "startTime = datetime.now()\n",
    "print(startTime)\n",
    "conds = []\n",
    "for count,cond in enumerate(ligandInds):\n",
    "    for count2,cond2 in enumerate(ligConcs):\n",
    "        spdata2 = spdata.copy()\n",
    "        spdata2[cond] = cond2   \n",
    "        xoutS_all = np.zeros(shape=(NSteps+1,len(spdata2)))\n",
    "        xoutS_all[0,:] = spdata2\n",
    "        for qq in range(NSteps):\n",
    "            genedata,AllGenesVec = gm(flagD,ts,genedata,xoutS_all[qq,:],Vn,Vc,kGin,kGac, \\\n",
    "                                       kTCmaxs,kTCleak,kTCd,AllGenesVec,GenePositionMatrix,TAs0,TRs0)\n",
    "            for ii,kk in enumerate(kmRNAs):\n",
    "                model.setFixedParameterById(kk,genedata[ii+282]*(1E9/(Vc*6.023E+23)))\n",
    "            model.setInitialStates(xoutS_all[qq,:])\n",
    "            rdata = amici.runAmiciSimulation(model, solver)  # Run simulation\n",
    "            xoutS_all[qq+1,:] = rdata['x'][-1,:]\n",
    "            if rdata['x'][-1,103] < rdata['x'][-1,105]:\n",
    "                print('Apoptosis happened')\n",
    "                break\n",
    "        xoutS_all = xoutS_all[~np.all(xoutS_all == 0, axis=1)]\n",
    "        condsSDF = pd.DataFrame(data=xoutS_all,columns=[ele for ele in model.getStateIds()]) \n",
    "        condsSDF.to_csv(nmxlsfile+'S_'+str(count)+'_'+str(count2)+'.txt',sep=\"\\t\")    \n",
    "        condsSDF = None\n",
    "print(datetime.now())"
   ]
  },
  {
   "cell_type": "code",
   "execution_count": null,
   "metadata": {
    "scrolled": true
   },
   "outputs": [],
   "source": [
    "currentDirectory = os.getcwd()\n",
    "nmxlsfile = 'FigS3C_det_'\n",
    "tppERKinds = [150,154,225,226,227,675,717,728,729,732,737,739,741,749,756,757]\n",
    "ERKvols = spVols[tppERKinds]\n",
    "tppAktinds = [32,152,696,703,746,748,753]\n",
    "Aktvols = spVols[tppAktinds]\n",
    "for aa,cond in enumerate(ligandInds):\n",
    "    plt.figure(figsize=(7, 4))\n",
    "    for cc,cond2 in enumerate(ligConcs):\n",
    "        namer = nmxlsfile+'S_'+str(aa)+'_'+str(cc)+'.txt'\n",
    "        condsDF = pd.read_csv(namer,header=0,index_col=0,sep=\"\\t\")\n",
    "        condsDF = np.double(condsDF.values[:])\n",
    "        condsDF = condsDF[~np.all(condsDF == 0, axis=1)]\n",
    "        yy = np.array((((condsDF[:,tppERKinds])*((ERKvols/Vc).transpose())).sum(axis=1)))\n",
    "        tt = (np.arange(0,len(condsDF))*30.0/60.0)\n",
    "        plt.plot(tt, yy,linewidth=2)\n",
    "    plt.ylim([0, 130])\n",
    "    plt.xlim([0, 120])\n",
    "    plt.savefig('FigS3C_E_'+str(aa+1)+'.png')"
   ]
  },
  {
   "cell_type": "code",
   "execution_count": null,
   "metadata": {},
   "outputs": [],
   "source": [
    "currentDirectory = os.getcwd()\n",
    "nmxlsfile = 'FigS3C_det_'\n",
    "tppERKinds = [150,154,225,226,227,675,717,728,729,732,737,739,741,749,756,757]\n",
    "ERKvols = spVols[tppERKinds]\n",
    "tppAktinds = [32,152,696,703,746,748,753]\n",
    "Aktvols = spVols[tppAktinds]\n",
    "for aa,cond in enumerate(ligandInds):\n",
    "    plt.figure(figsize=(7, 4))\n",
    "    for cc,cond2 in enumerate(ligConcs):\n",
    "        namer = nmxlsfile+'S_'+str(aa)+'_'+str(cc)+'.txt'\n",
    "        condsDF = pd.read_csv(namer,header=0,index_col=0,sep=\"\\t\")\n",
    "        condsDF = np.double(condsDF.values[:])\n",
    "        condsDF = condsDF[~np.all(condsDF == 0, axis=1)]\n",
    "        yy = np.array((((condsDF[:,tppAktinds])*((Aktvols/Vc).transpose())).sum(axis=1)))\n",
    "        tt = (np.arange(0,len(condsDF))*30.0/60.0)\n",
    "        plt.plot(tt, yy,linewidth=2)\n",
    "    plt.ylim([0, 40])\n",
    "    plt.xlim([0, 120])\n",
    "    plt.savefig('FigS3C_A_'+str(aa+1)+'.png')"
   ]
  }
 ],
 "metadata": {
  "kernelspec": {
   "display_name": "Python 3",
   "language": "python",
   "name": "python3"
  },
  "language_info": {
   "codemirror_mode": {
    "name": "ipython",
    "version": 3
   },
   "file_extension": ".py",
   "mimetype": "text/x-python",
   "name": "python",
   "nbconvert_exporter": "python",
   "pygments_lexer": "ipython3",
   "version": "3.7.4"
  }
 },
 "nbformat": 4,
 "nbformat_minor": 2
}
