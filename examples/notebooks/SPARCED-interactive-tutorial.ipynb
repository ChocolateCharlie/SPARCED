{
 "cells": [
  {
   "cell_type": "markdown",
   "id": "4640375a-adb5-4dcf-8725-c584f83330ce",
   "metadata": {},
   "source": [
    "# SPARCED's Interactive Tutorial"
   ]
  },
  {
   "cell_type": "markdown",
   "id": "803e1496-256e-4d1c-8f3b-6675d361684b",
   "metadata": {},
   "source": [
    "Welcome to SPARCED!\n",
    "\n",
    "This tutorial covers the internals of SPARCED's pipeline, including compilation and simulation. It aims to explain:\n",
    "  - which steps are followed to compile and run the model\n",
    "  - which arguments are required\n",
    "  - how those arguments are processed"
   ]
  },
  {
   "cell_type": "markdown",
   "id": "9ca63fe2-3428-46cd-a43c-531e66e66e6b",
   "metadata": {},
   "source": [
    "## (Optional) Place yourself into the correct folder"
   ]
  },
  {
   "cell_type": "markdown",
   "id": "834cdf7e-4ce1-4013-80d0-c7eb7b2861e6",
   "metadata": {},
   "source": [
    "SPARCED is designed to be run from the ```SPARCED/src``` subfolder. If you want to run SPARCED from elsewhere (which is the case of this tutorial, that is located by default in the ```examples/notebooks``` subfolder), you will first need to add a path to that folder."
   ]
  },
  {
   "cell_type": "markdown",
   "id": "28e816ec-bd36-4f3b-92b7-8cffb4eab2d7",
   "metadata": {},
   "source": [
    "**WARNING:** If you moved this tutorial from its default location, please make sure the relative path is still correct."
   ]
  },
  {
   "cell_type": "code",
   "execution_count": null,
   "id": "bb08ce48-b387-435d-bc82-377d14df6569",
   "metadata": {},
   "outputs": [],
   "source": [
    "import os\n",
    "import sys\n",
    "\n",
    "from pathlib import Path\n",
    "import yaml\n",
    "\n",
    "sys.path.insert(0, os.path.abspath(\"../../SPARCED/src\"))"
   ]
  },
  {
   "cell_type": "markdown",
   "id": "26a6631b-780d-45cf-9dc5-195a6dfd1580",
   "metadata": {},
   "source": [
    "## 0 - Imports"
   ]
  },
  {
   "cell_type": "markdown",
   "id": "f6060f36-3b64-4751-bea0-7259df00a047",
   "metadata": {},
   "source": [
    "It is a good practice to add the imports at the beginning of your script or notebook."
   ]
  },
  {
   "cell_type": "code",
   "execution_count": null,
   "id": "c3190d5e-16a5-4f52-8f95-37b81856d8cc",
   "metadata": {},
   "outputs": [],
   "source": [
    "# Step 1: model creation\n",
    "from compilation.launcher import load_compilation_input_files\n",
    "from compilation.create_model import create_model\n",
    "# Step 2: model simulation\n",
    "from simulation.launchers import launch_experiment_simulation, load_perturbations, load_simulation_config\n",
    "from simulation.run_model import run_experiment"
   ]
  },
  {
   "cell_type": "markdown",
   "id": "61986548-5af7-460d-8c13-1de4b8b0b376",
   "metadata": {},
   "source": [
    "## 1 - Create the Model: Compilation"
   ]
  },
  {
   "cell_type": "markdown",
   "id": "ea2203ed-4b34-498d-a577-f89b79c5803c",
   "metadata": {},
   "source": [
    "### Overview"
   ]
  },
  {
   "cell_type": "markdown",
   "id": "b61b8851-d164-48f5-b05e-d96b7bb4bc91",
   "metadata": {},
   "source": [
    "The model creation pipeline works as follow:\n",
    "  1. Some TSV (tab separated values) **input files** are read to generate an Antimony model.\n",
    "  2. Next, this **Antimony model** is converted into SBML format.\n",
    "  3. Finally, the **SBML model** is compiled into an AMICI model\n",
    "SPARCED can only run if an **AMICI model** was generated.\n",
    "\n",
    "_NB: Although it is possible to run SPARCED starting from an Antimony or an SBML file, in this tutorial will only cover how to create a SPARCED model from the input files._"
   ]
  },
  {
   "cell_type": "markdown",
   "id": "e338831a-3e04-4236-845f-9400038f3fd3",
   "metadata": {},
   "source": [
    "### Details"
   ]
  },
  {
   "cell_type": "markdown",
   "id": "eb19f038-3a6a-4a61-9cf4-ffa70cc508bc",
   "metadata": {},
   "source": [
    "Instead of using the launcher, we will cover what it does by directly calling the ```create_model()``` function."
   ]
  },
  {
   "cell_type": "code",
   "execution_count": null,
   "id": "95f4045b-4641-42f8-9ac1-b84a7975f728",
   "metadata": {},
   "outputs": [],
   "source": [
    "# Model name\n",
    "# The launcher gets and sanitizes that variable based on the \"name\" argument\n",
    "model_name = \"SPARCED_tutorial\"\n",
    "# Model path\n",
    "# The launcher automatically reconstructs that path based on:\n",
    "#     - the \"model\" argument, which is the path to the models directory\n",
    "#     - the model_name variable above\n",
    "model_path = Path(\"../../SPARCED/models/SPARCED_tutorial\")\n",
    "# Input data files\n",
    "# The launcher loads a dictionnary containing the paths of all the input data files based on:\n",
    "#     - the model_path variable name above\n",
    "#     - the \"input_data\" argument, which is the name of the folder containing this data\n",
    "#     - the \"yaml\" argument, which is the name of the YAML file containing description of the data organization\n",
    "input_data_folder = Path(\"../../SPARCED/models/SPARCED_tutorial/data\")\n",
    "input_files = load_compilation_input_files(input_data_folder, \"config.yaml\")\n",
    "# Output parameters\n",
    "# The launcher automatically reconstructs that path based on:\n",
    "#     - the model_path variable name above\n",
    "#     - the \"output_parameters\" argument, which is the desired name for this file\n",
    "output_parameters_path = Path(\"../../SPARCED/models/SPARCED_tutorial/out_Parameters.txt\")\n",
    "# Runtime booleans\n",
    "# The launcher gets those variables based on the \"wild\" and \"verbose\" arguments\n",
    "is_SPARCED = True\n",
    "verbose = True\n",
    "create_model(model_name, model_path, input_files, output_parameters_path, verbose, is_SPARCED)\n",
    "# NB: AMICI is very verbose, so don't be afraid if it loads tons of lines.\n",
    "# The model takes several minutes to compile."
   ]
  },
  {
   "cell_type": "markdown",
   "id": "97e838d4-166e-4208-9645-8a5688709711",
   "metadata": {},
   "source": [
    "Although this might seem overwhelming, note that you may simply call the ```launch_model_creation()``` function from your script or the command line, which will collect all the default values and arguments you pass, process these and call the ```create_model()``` function for you."
   ]
  },
  {
   "cell_type": "markdown",
   "id": "5f861681-c4a4-4248-be5d-7d78b8f1824f",
   "metadata": {},
   "source": [
    "A call to ```launch_model_creation()``` looks as simple as this:"
   ]
  },
  {
   "cell_type": "code",
   "execution_count": null,
   "id": "5c73259b-8416-4474-8c83-cd37df2fface",
   "metadata": {},
   "outputs": [],
   "source": [
    "# WARNING: the Notebook doesn\"t handle well command-line arguments\n",
    "# We encourage you to see the __main__.py file located in SPARCED/src for a working example\n",
    "# from compilation.launcher import launch_model_creation()\n",
    "# launch_model_creation()"
   ]
  },
  {
   "cell_type": "markdown",
   "id": "17425419-2219-414c-8915-9aa99c6acaae",
   "metadata": {},
   "source": [
    "## 2 - Run the Model: Simulation"
   ]
  },
  {
   "cell_type": "markdown",
   "id": "b5a99ce2-d397-4f89-ac73-6c23d955fb54",
   "metadata": {},
   "source": [
    "### Overview"
   ]
  },
  {
   "cell_type": "markdown",
   "id": "4c16b76e-7f1a-4357-ba17-d7cf1555fe0a",
   "metadata": {},
   "source": [
    "The model simulation pipeline works as follow:\n",
    "  1. The experiment's model and **initial conditions** are loaded.\n",
    "  2. A **single-cell simulation** is run until reaching the desired number of cells.\n",
    "  3. Files are **saved** at the end of each single-cell simulation."
   ]
  },
  {
   "cell_type": "markdown",
   "id": "0e627c79-557f-4681-aefb-068667d38ea5",
   "metadata": {},
   "source": [
    "### Details"
   ]
  },
  {
   "cell_type": "markdown",
   "id": "8a0bae7e-2a81-4c80-86e6-6f04a0f308f2",
   "metadata": {},
   "source": [
    "Instead of using the launcher, we will cover what it does by directly calling the ```run_experiment()``` function.\n",
    "The ```run_experiment()``` function is a wrapper that will call the ```run_single_simulation()``` function for each cell in your population."
   ]
  },
  {
   "cell_type": "markdown",
   "id": "a463b0f5-6b4a-4156-be35-757f52db0d1b",
   "metadata": {},
   "source": [
    "_Please note that in the example bellow, we redefined some variables previously set to give you an overview of what you need to call the ```run_experiment()``` function. In practice, you wouldn't want to redefine variables in your script of course._"
   ]
  },
  {
   "cell_type": "code",
   "execution_count": null,
   "id": "f59adc1a-c40b-4c75-958d-8fa32911d83e",
   "metadata": {},
   "outputs": [],
   "source": [
    "# Model name\n",
    "# The launcher gets and sanitizes that variable based on the \"name\" argument\n",
    "model_name = \"SPARCED_tutorial\"\n",
    "# Model path\n",
    "# The launcher automatically reconstructs that path based on:\n",
    "#     - the \"model\" argument, which is the path to the models directory\n",
    "#     - the model_name variable above\n",
    "model_path = Path(\"../../SPARCED/models/SPARCED_tutorial\")\n",
    "# Simulation name\n",
    "# The launcher gets that variable based on the \"simulation\" argument\n",
    "simulation_name = \"Tutorial\"\n",
    "# Results path\n",
    "# The launcher automatically reconstructs that path based on the \"results\" argument,\n",
    "# which is the path to the directory where you wish the results to be saved\n",
    "results_path = \"../../SPARCED/results/New-Simulation/\"\n",
    "# AMICI and SBML paths\n",
    "# The launcher automatically reconstructs those paths based on the model_name and model_path variables above.\n",
    "amici_path = Path(\"../../SPARCED/models/SPARCED_tutorial/amici_SPARCED_tutorial\")\n",
    "sbml_path = Path(\"../../SPARCED/models/SPARCED_tutorial/sbml_SPARCED_tutorial.xml\")\n",
    "# Input data files\n",
    "# The launcher loads a dictionnary containing the paths of all the input data files based on:\n",
    "#     - the model_path variable name above\n",
    "#     - the \"input_data\" argument, which is the name of the folder containing this data\n",
    "#     - the \"yaml\" argument, which is the name of the YAML file containing description of the data organization\n",
    "input_data_folder = Path(\"../../SPARCED/models/SPARCED_tutorial/data\")\n",
    "input_files = load_simulation_config(input_data_folder, \"config.yaml\")\n",
    "# Pertubations\n",
    "# You may override the perturbations specified in the YAML file through the \"perturbations\" argument\n",
    "perturbations = None\n",
    "if \"perturbations\" in input_files:\n",
    "    perturbations = load_perturbations(input_files[\"root\"], input_files[\"perturbations\"], perturbations)\n",
    "# Runtime variables\n",
    "# The launcher gets those variables based on the \"deterministic\", \"population_size\", \"time\", \"exchange\", \"verbose\" and \"wild\" arguments.\n",
    "deterministic = True\n",
    "population_size = 1\n",
    "time = 1.0 # in hours\n",
    "exchange = 30 # don't touch this if you don't know how a systems biology model works\n",
    "verbose = True\n",
    "is_SPARCED = True\n",
    "run_experiment(model_name, simulation_name, results_path, amici_path, sbml_path, input_files, deterministic, population_size, \\\n",
    "               time, exchange, verbose, is_SPARCED, perturbations)\n",
    "# It will take several minutes for the model to run."
   ]
  },
  {
   "cell_type": "markdown",
   "id": "d9b8abd6-7e8e-49ff-b9aa-0edf23d82a07",
   "metadata": {},
   "source": [
    "Although this might seem overwhelming, note that you may simply call the ```launch_experiment_simulation()``` function from your script or the command line, which will collect all the default values and arguments you pass, process these and call the ```run_experiment()``` function for you."
   ]
  },
  {
   "cell_type": "markdown",
   "id": "9485823f-2c64-4f99-8c98-337a5367004d",
   "metadata": {},
   "source": [
    "A call to ```launch_experiment_simulation()``` looks as simple as this:"
   ]
  },
  {
   "cell_type": "code",
   "execution_count": null,
   "id": "a9e70250-bb28-4b37-9418-f88fd970c013",
   "metadata": {},
   "outputs": [],
   "source": [
    "# WARNING: the Notebook doesn\"t handle well command-line arguments\n",
    "# We encourage you to see the __main__.py file located in SPARCED/src for a working example\n",
    "# from simulation.launchers import launch_experiment_simulation()\n",
    "# launch_experiment_simulation()"
   ]
  }
 ],
 "metadata": {
  "kernelspec": {
   "display_name": "Python 3 (ipykernel)",
   "language": "python",
   "name": "python3"
  },
  "language_info": {
   "codemirror_mode": {
    "name": "ipython",
    "version": 3
   },
   "file_extension": ".py",
   "mimetype": "text/x-python",
   "name": "python",
   "nbconvert_exporter": "python",
   "pygments_lexer": "ipython3",
   "version": "3.12.2"
  }
 },
 "nbformat": 4,
 "nbformat_minor": 5
}
