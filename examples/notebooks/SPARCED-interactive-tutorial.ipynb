{
 "cells": [
  {
   "cell_type": "markdown",
   "id": "f08ea4c3-ffe8-440f-96b0-337673e2fd80",
   "metadata": {},
   "source": [
    "# SPARCED's Interactive Tutorial"
   ]
  },
  {
   "cell_type": "markdown",
   "id": "4743d739-abcc-4182-af12-052c5d2efae5",
   "metadata": {},
   "source": [
    "Start here if you are new to the SPARCED model.\n",
    "This tutorial covers both how to create and how to run a SPARCED model."
   ]
  },
  {
   "cell_type": "markdown",
   "id": "814869e7-77a3-4c42-bd09-8c5799553bd4",
   "metadata": {},
   "source": [
    "## (Optional) Place yourself into the correct folder"
   ]
  },
  {
   "cell_type": "markdown",
   "id": "0a613104-97a6-4193-8903-dacd4a4474d4",
   "metadata": {},
   "source": [
    "SPARCED is designed to be run from the ```SPARCED/src``` subfolder.\n",
    "If you want to run SPARCED from elsewhere (like in this tutorial), you will first need to add a path to that folder."
   ]
  },
  {
   "cell_type": "code",
   "execution_count": 1,
   "id": "bb08ce48-b387-435d-bc82-377d14df6569",
   "metadata": {},
   "outputs": [],
   "source": [
    "import os\n",
    "import sys\n",
    "sys.path.insert(0, os.path.abspath(\"../../SPARCED/src\"))"
   ]
  },
  {
   "cell_type": "markdown",
   "id": "26a6631b-780d-45cf-9dc5-195a6dfd1580",
   "metadata": {},
   "source": [
    "# 0 - Imports"
   ]
  },
  {
   "cell_type": "markdown",
   "id": "f6060f36-3b64-4751-bea0-7259df00a047",
   "metadata": {},
   "source": [
    "It is a good practice to add the imports at the beginning of your script or notebook."
   ]
  },
  {
   "cell_type": "code",
   "execution_count": 2,
   "id": "c3190d5e-16a5-4f52-8f95-37b81856d8cc",
   "metadata": {},
   "outputs": [],
   "source": [
    "# Step 1: model creation\n",
    "from compilation.create_model import *\n",
    "# Step 2: model simulation\n",
    "from simulation.utils.ligands import *\n",
    "from simulation.run_model import *"
   ]
  },
  {
   "cell_type": "markdown",
   "id": "61986548-5af7-460d-8c13-1de4b8b0b376",
   "metadata": {},
   "source": [
    "## 1 - Model creation"
   ]
  },
  {
   "cell_type": "markdown",
   "id": "b61b8851-d164-48f5-b05e-d96b7bb4bc91",
   "metadata": {},
   "source": [
    "The model creation pipeline works as follow:\n",
    "  1. Some TSV (tab separated values) **input files** are read to generate an Antimony model.\n",
    "  2. Next, this **Antimony model** is converted into SBML format.\n",
    "  3. Finally, the **SBML model** is compiled into an AMICI model\n",
    "SPARCED can only run if an **AMICI model** was generated.\n",
    "\n",
    "_NB: Although it is possible to run SPARCED starting from an Antimony or an SBML file, in this tutorial will only cover how to create a SPARCED model from the input files._"
   ]
  },
  {
   "cell_type": "code",
   "execution_count": 3,
   "id": "95f4045b-4641-42f8-9ac1-b84a7975f728",
   "metadata": {},
   "outputs": [
    {
     "name": "stdout",
     "output_type": "stream",
     "text": [
      "SPARCED: Success loading Antimony file\n",
      "SPARCED: Success converting Antimony file to SBML\n"
     ]
    },
    {
     "name": "stderr",
     "output_type": "stream",
     "text": [
      "2024-04-26 17:22:24.521 - amici.sbml_import - INFO - Finished gathering local SBML symbols        + (9.70E+00s)\n",
      "2024-04-26 17:22:24.775 - amici.sbml_import - INFO - Finished processing SBML parameters          + (2.42E-01s)\n",
      "2024-04-26 17:22:24.786 - amici.sbml_import - INFO - Finished processing SBML compartments        + (9.17E-04s)\n",
      "2024-04-26 17:22:26.418 - amici.sbml_import - INFO - Finished processing SBML species initials   ++ (1.53E+00s)\n",
      "2024-04-26 17:22:26.428 - amici.sbml_import - INFO - Finished processing SBML rate rules         ++ (4.94E-05s)\n",
      "2024-04-26 17:22:26.429 - amici.sbml_import - INFO - Finished processing SBML species             + (1.63E+00s)\n",
      "2024-04-26 17:22:27.850 - amici.sbml_import - INFO - Finished processing SBML reactions           + (1.41E+00s)\n",
      "2024-04-26 17:22:29.491 - amici.sbml_import - INFO - Finished processing SBML rules               + (1.63E+00s)\n",
      "2024-04-26 17:22:29.501 - amici.sbml_import - INFO - Finished processing SBML initial assignments + (4.96E-05s)\n",
      "2024-04-26 17:22:30.084 - amici.sbml_import - INFO - Finished processing SBML species references  + (5.72E-01s)\n",
      "2024-04-26 17:22:30.085 - amici.sbml_import - INFO - Finished importing SBML                        (1.53E+01s)\n",
      "2024-04-26 17:22:45.617 - amici.sbml_import - INFO - Finished processing SBML observables           (1.55E+01s)\n",
      "2024-04-26 17:25:06.286 - amici.ode_export - INFO - Finished running smart_multiply               + (1.94E+00s)\n",
      "2024-04-26 17:25:40.838 - amici.ode_export - INFO - Finished importing SbmlImporter                 (3.66E+01s)\n",
      "2024-04-26 17:25:56.131 - amici.ode_export - INFO - Finished simplifying Jy                     +++ (1.52E+01s)\n",
      "2024-04-26 17:25:56.132 - amici.ode_export - INFO - Finished computing Jy                        ++ (1.53E+01s)\n",
      "2024-04-26 17:26:05.229 - amici.ode_export - INFO - Finished writing Jy.cpp                       + (2.44E+01s)\n",
      "2024-04-26 17:28:01.253 - amici.ode_export - INFO - Finished running smart_jacobian             +++ (1.16E+02s)\n",
      "2024-04-26 17:28:21.562 - amici.ode_export - INFO - Finished simplifying dJydsigmay             +++ (2.03E+01s)\n",
      "2024-04-26 17:28:21.563 - amici.ode_export - INFO - Finished computing dJydsigmay                ++ (1.36E+02s)\n",
      "2024-04-26 17:28:36.833 - amici.ode_export - INFO - Finished writing dJydsigmay.cpp               + (1.52E+02s)\n",
      "2024-04-26 17:30:16.199 - amici.ode_export - INFO - Finished running smart_jacobian             +++ (9.93E+01s)\n",
      "2024-04-26 17:30:35.597 - amici.ode_export - INFO - Finished simplifying dJydy                  +++ (1.94E+01s)\n",
      "2024-04-26 17:30:35.598 - amici.ode_export - INFO - Finished computing dJydy                     ++ (1.19E+02s)\n",
      "2024-04-26 17:30:43.055 - amici.ode_export - INFO - Finished writing dJydy.cpp                    + (1.26E+02s)\n",
      "2024-04-26 17:30:43.317 - amici.ode_export - INFO - Finished simplifying root                   +++ (2.23E-04s)\n",
      "2024-04-26 17:30:43.318 - amici.ode_export - INFO - Finished computing root                      ++ (2.99E-02s)\n",
      "2024-04-26 17:30:43.320 - amici.ode_export - INFO - Finished writing root.cpp                     + (4.39E-02s)\n",
      "2024-04-26 17:30:47.714 - amici.ode_export - INFO - Finished simplifying w                    +++++ (4.30E+00s)\n",
      "2024-04-26 17:30:47.715 - amici.ode_export - INFO - Finished computing w                       ++++ (4.33E+00s)\n",
      "2024-04-26 17:36:18.168 - amici.ode_export - INFO - Finished running smart_jacobian            ++++ (3.30E+02s)\n",
      "2024-04-26 17:37:13.251 - amici.ode_export - INFO - Finished simplifying dwdp                  ++++ (5.51E+01s)\n",
      "2024-04-26 17:37:13.259 - amici.ode_export - INFO - Finished computing dwdp                     +++ (3.90E+02s)\n",
      "2024-04-26 17:37:28.566 - amici.ode_export - INFO - Finished running smart_jacobian            ++++ (1.53E+01s)\n",
      "2024-04-26 17:37:31.885 - amici.ode_export - INFO - Finished simplifying dwdtcl                ++++ (3.31E+00s)\n",
      "2024-04-26 17:37:31.886 - amici.ode_export - INFO - Finished computing dwdtcl                   +++ (1.86E+01s)\n",
      "2024-04-26 17:38:29.283 - amici.ode_export - INFO - Finished simplifying dwdp                   +++ (5.56E+01s)\n",
      "2024-04-26 17:38:29.287 - amici.ode_export - INFO - Finished computing dwdp                      ++ (4.66E+02s)\n",
      "2024-04-26 17:38:55.682 - amici.ode_export - INFO - Finished writing dwdp.cpp                     + (4.92E+02s)\n",
      "2024-04-26 17:40:34.943 - amici.ode_export - INFO - Finished running smart_jacobian             +++ (9.92E+01s)\n",
      "2024-04-26 17:40:54.859 - amici.ode_export - INFO - Finished simplifying dwdx                   +++ (1.99E+01s)\n",
      "2024-04-26 17:40:54.865 - amici.ode_export - INFO - Finished computing dwdx                      ++ (1.19E+02s)\n",
      "2024-04-26 17:41:05.829 - amici.ode_export - INFO - Finished writing dwdx.cpp                     + (1.30E+02s)\n",
      "2024-04-26 17:46:26.673 - amici.ode_export - INFO - Finished running smart_jacobian             +++ (3.21E+02s)\n",
      "2024-04-26 17:51:02.601 - amici.ode_export - INFO - Finished simplifying dwdw                   +++ (5.16E+01s)\n",
      "2024-04-26 17:51:02.602 - amici.ode_export - INFO - Finished computing dwdw                      ++ (5.97E+02s)\n",
      "2024-04-26 17:51:22.422 - amici.ode_export - INFO - Finished writing dwdw.cpp                     + (6.17E+02s)\n",
      "2024-04-26 17:51:25.367 - amici.ode_export - INFO - Finished simplifying xdot                   +++ (2.91E+00s)\n",
      "2024-04-26 17:51:25.368 - amici.ode_export - INFO - Finished computing xdot                      ++ (2.93E+00s)\n",
      "2024-04-26 17:51:36.608 - amici.ode_export - INFO - Finished writing dxdotdw.cpp                  + (1.42E+01s)\n",
      "2024-04-26 17:51:36.686 - amici.ode_export - INFO - Finished running smart_jacobian             +++ (4.48E-02s)\n",
      "2024-04-26 17:51:42.053 - amici.ode_export - INFO - Finished simplifying dxdotdx_explicit       +++ (5.36E+00s)\n",
      "2024-04-26 17:51:42.054 - amici.ode_export - INFO - Finished computing dxdotdx_explicit          ++ (5.42E+00s)\n",
      "2024-04-26 17:51:44.450 - amici.ode_export - INFO - Finished writing dxdotdx_explicit.cpp         + (7.83E+00s)\n",
      "2024-04-26 17:51:44.524 - amici.ode_export - INFO - Finished running smart_jacobian             +++ (5.00E-02s)\n",
      "2024-04-26 17:52:02.436 - amici.ode_export - INFO - Finished simplifying dxdotdp_explicit       +++ (1.79E+01s)\n",
      "2024-04-26 17:52:02.437 - amici.ode_export - INFO - Finished computing dxdotdp_explicit          ++ (1.80E+01s)\n",
      "2024-04-26 17:52:10.304 - amici.ode_export - INFO - Finished writing dxdotdp_explicit.cpp         + (2.58E+01s)\n",
      "2024-04-26 17:52:10.354 - amici.ode_export - INFO - Finished simplifying y                    +++++ (6.84E-03s)\n",
      "2024-04-26 17:52:10.355 - amici.ode_export - INFO - Finished computing y                       ++++ (2.11E-02s)\n",
      "2024-04-26 17:52:36.738 - amici.ode_export - INFO - Finished running smart_jacobian            ++++ (2.64E+01s)\n",
      "2024-04-26 17:52:45.515 - amici.ode_export - INFO - Finished simplifying dydx                  ++++ (8.76E+00s)\n",
      "2024-04-26 17:52:45.518 - amici.ode_export - INFO - Finished computing dydx                     +++ (3.52E+01s)\n",
      "2024-04-26 17:54:20.484 - amici.ode_export - INFO - Finished running smart_jacobian            ++++ (9.49E+01s)\n",
      "2024-04-26 17:54:21.725 - amici.ode_export - INFO - Finished running smart_multiply            ++++ (7.87E-01s)\n",
      "2024-04-26 17:54:49.069 - amici.ode_export - INFO - Finished simplifying dydw                  ++++ (2.68E+01s)\n",
      "2024-04-26 17:54:49.071 - amici.ode_export - INFO - Finished computing dydw                     +++ (1.24E+02s)\n",
      "2024-04-26 17:54:51.091 - amici.ode_export - INFO - Finished running smart_multiply             +++ (1.57E+00s)\n",
      "2024-04-26 17:54:57.841 - amici.ode_export - INFO - Finished simplifying dydx                   +++ (6.73E+00s)\n",
      "2024-04-26 17:54:57.845 - amici.ode_export - INFO - Finished computing dydx                      ++ (1.68E+02s)\n",
      "2024-04-26 17:55:04.114 - amici.ode_export - INFO - Finished writing dydx.cpp                     + (1.74E+02s)\n",
      "2024-04-26 17:55:04.191 - amici.ode_export - INFO - Finished running smart_jacobian            ++++ (3.50E-02s)\n",
      "2024-04-26 17:55:29.466 - amici.ode_export - INFO - Finished simplifying dydp                  ++++ (2.53E+01s)\n",
      "2024-04-26 17:55:29.467 - amici.ode_export - INFO - Finished computing dydp                     +++ (2.53E+01s)\n",
      "2024-04-26 17:55:31.054 - amici.ode_export - INFO - Finished running smart_multiply             +++ (1.04E+00s)\n",
      "2024-04-26 17:55:52.917 - amici.ode_export - INFO - Finished simplifying dydp                   +++ (2.18E+01s)\n",
      "2024-04-26 17:55:52.918 - amici.ode_export - INFO - Finished computing dydp                      ++ (4.88E+01s)\n",
      "2024-04-26 17:55:55.298 - amici.ode_export - INFO - Finished writing dydp.cpp                     + (5.12E+01s)\n",
      "2024-04-26 17:55:55.372 - amici.ode_export - INFO - Finished simplifying sigmay                ++++ (1.61E-02s)\n",
      "2024-04-26 17:55:55.373 - amici.ode_export - INFO - Finished computing sigmay                   +++ (4.08E-02s)\n",
      "2024-04-26 17:55:55.412 - amici.ode_export - INFO - Finished running smart_jacobian             +++ (2.63E-02s)\n",
      "2024-04-26 17:56:22.926 - amici.ode_export - INFO - Finished simplifying dsigmaydp              +++ (2.75E+01s)\n",
      "2024-04-26 17:56:22.927 - amici.ode_export - INFO - Finished computing dsigmaydp                 ++ (2.76E+01s)\n",
      "2024-04-26 17:56:25.111 - amici.ode_export - INFO - Finished writing dsigmaydp.cpp                + (2.98E+01s)\n",
      "2024-04-26 17:56:25.508 - amici.ode_export - INFO - Finished writing sigmay.cpp                   + (3.88E-01s)\n",
      "2024-04-26 17:56:25.526 - amici.ode_export - INFO - Finished computing stau                      ++ (1.63E-04s)\n",
      "2024-04-26 17:56:25.527 - amici.ode_export - INFO - Finished writing stau.cpp                     + (9.83E-03s)\n",
      "2024-04-26 17:56:25.549 - amici.ode_export - INFO - Finished computing deltasx                   ++ (1.44E-04s)\n",
      "2024-04-26 17:56:25.550 - amici.ode_export - INFO - Finished writing deltasx.cpp                  + (1.34E-02s)\n",
      "2024-04-26 17:56:27.270 - amici.ode_export - INFO - Finished writing w.cpp                        + (1.70E+00s)\n",
      "2024-04-26 17:56:27.319 - amici.ode_export - INFO - Finished simplifying x0                     +++ (1.35E-02s)\n",
      "2024-04-26 17:56:27.320 - amici.ode_export - INFO - Finished computing x0                        ++ (3.38E-02s)\n",
      "2024-04-26 17:56:27.649 - amici.ode_export - INFO - Finished writing x0.cpp                       + (3.71E-01s)\n",
      "2024-04-26 17:56:27.677 - amici.ode_export - INFO - Finished simplifying x0_fixedParameters     +++ (8.31E-05s)\n",
      "2024-04-26 17:56:27.677 - amici.ode_export - INFO - Finished computing x0_fixedParameters        ++ (1.31E-02s)\n",
      "2024-04-26 17:56:27.678 - amici.ode_export - INFO - Finished writing x0_fixedParameters.cpp       + (2.16E-02s)\n",
      "2024-04-26 17:56:28.204 - amici.ode_export - INFO - Finished running smart_jacobian             +++ (4.88E-01s)\n",
      "2024-04-26 17:56:56.065 - amici.ode_export - INFO - Finished simplifying sx0                    +++ (2.78E+01s)\n",
      "2024-04-26 17:56:56.070 - amici.ode_export - INFO - Finished computing sx0                       ++ (2.84E+01s)\n",
      "2024-04-26 17:56:58.450 - amici.ode_export - INFO - Finished writing sx0.cpp                      + (3.08E+01s)\n",
      "2024-04-26 17:56:58.488 - amici.ode_export - INFO - Finished running smart_jacobian             +++ (4.43E-05s)\n",
      "2024-04-26 17:56:58.501 - amici.ode_export - INFO - Finished running smart_jacobian             +++ (5.77E-05s)\n",
      "2024-04-26 17:56:58.516 - amici.ode_export - INFO - Finished simplifying sx0_fixedParameters    +++ (1.01E-04s)\n",
      "2024-04-26 17:56:58.519 - amici.ode_export - INFO - Finished computing sx0_fixedParameters       ++ (4.49E-02s)\n",
      "2024-04-26 17:56:58.522 - amici.ode_export - INFO - Finished writing sx0_fixedParameters.cpp      + (5.77E-02s)\n",
      "2024-04-26 17:57:02.356 - amici.ode_export - INFO - Finished writing xdot.cpp                     + (3.82E+00s)\n",
      "2024-04-26 17:57:02.617 - amici.ode_export - INFO - Finished writing y.cpp                        + (2.45E-01s)\n",
      "2024-04-26 17:57:02.662 - amici.ode_export - INFO - Finished simplifying x_rdata                +++ (8.00E-03s)\n",
      "2024-04-26 17:57:02.667 - amici.ode_export - INFO - Finished computing x_rdata                   ++ (2.78E-02s)\n",
      "2024-04-26 17:57:02.934 - amici.ode_export - INFO - Finished writing x_rdata.cpp                  + (3.02E-01s)\n",
      "2024-04-26 17:57:02.970 - amici.ode_export - INFO - Finished simplifying total_cl               +++ (1.27E-03s)\n",
      "2024-04-26 17:57:02.973 - amici.ode_export - INFO - Finished computing total_cl                  ++ (1.61E-02s)\n",
      "2024-04-26 17:57:03.006 - amici.ode_export - INFO - Finished writing total_cl.cpp                 + (5.78E-02s)\n",
      "2024-04-26 17:57:03.065 - amici.ode_export - INFO - Finished simplifying x_solver               +++ (8.72E-03s)\n",
      "2024-04-26 17:57:03.069 - amici.ode_export - INFO - Finished computing x_solver                  ++ (3.15E-02s)\n",
      "2024-04-26 17:57:03.278 - amici.ode_export - INFO - Finished writing x_solver.cpp                 + (2.59E-01s)\n",
      "2024-04-26 17:57:10.914 - amici.ode_export - INFO - Finished generating cpp code                    (1.89E+03s)\n",
      "2024-04-26 17:58:42.064 - amici.ode_export - INFO - Finished compiling cpp code                     (9.11E+01s)\n"
     ]
    },
    {
     "name": "stdout",
     "output_type": "stream",
     "text": [
      "running build_ext\n",
      "Changed extra_compile_args for unix to ['-fopenmp', '-std=c++14']\n",
      "building 'SPARCED._SPARCED' extension\n",
      "Testing SWIG executable swig4.0... SUCCEEDED.\n",
      "swigging swig/SPARCED.i to swig/SPARCED_wrap.cpp\n",
      "swig4.0 -python -c++ -modern -outdir SPARCED -I/home/chocolatecharlie/anaconda3/envs/sparced/lib/python3.12/site-packages/amici/swig -I/home/chocolatecharlie/anaconda3/envs/sparced/lib/python3.12/site-packages/amici/include -o swig/SPARCED_wrap.cpp swig/SPARCED.i\n",
      "Deprecated command line option: -modern. This option is now always on.\n",
      "creating build\n",
      "creating build/temp.linux-x86_64-cpython-312\n",
      "creating build/temp.linux-x86_64-cpython-312/swig\n",
      "gcc -pthread -B /home/chocolatecharlie/anaconda3/envs/sparced/compiler_compat -fno-strict-overflow -DNDEBUG -O2 -Wall -fPIC -O2 -isystem /home/chocolatecharlie/anaconda3/envs/sparced/include -fPIC -O2 -isystem /home/chocolatecharlie/anaconda3/envs/sparced/include -fPIC -I/home/chocolatecharlie/Documents/SPARCED/SPARCED/models/SPARCED-tutorial/amici_SPARCED -I/home/chocolatecharlie/anaconda3/envs/sparced/lib/python3.12/site-packages/amici/include -I/home/chocolatecharlie/anaconda3/envs/sparced/lib/python3.12/site-packages/amici/ThirdParty/gsl -I/home/chocolatecharlie/anaconda3/envs/sparced/lib/python3.12/site-packages/amici/ThirdParty/sundials/include -I/home/chocolatecharlie/anaconda3/envs/sparced/lib/python3.12/site-packages/amici/ThirdParty/SuiteSparse/include -I/home/chocolatecharlie/anaconda3/envs/sparced/include/python3.12 -c SPARCED.cpp -o build/temp.linux-x86_64-cpython-312/SPARCED.o -fopenmp -std=c++14\n",
      "gcc -pthread -B /home/chocolatecharlie/anaconda3/envs/sparced/compiler_compat -fno-strict-overflow -DNDEBUG -O2 -Wall -fPIC -O2 -isystem /home/chocolatecharlie/anaconda3/envs/sparced/include -fPIC -O2 -isystem /home/chocolatecharlie/anaconda3/envs/sparced/include -fPIC -I/home/chocolatecharlie/Documents/SPARCED/SPARCED/models/SPARCED-tutorial/amici_SPARCED -I/home/chocolatecharlie/anaconda3/envs/sparced/lib/python3.12/site-packages/amici/include -I/home/chocolatecharlie/anaconda3/envs/sparced/lib/python3.12/site-packages/amici/ThirdParty/gsl -I/home/chocolatecharlie/anaconda3/envs/sparced/lib/python3.12/site-packages/amici/ThirdParty/sundials/include -I/home/chocolatecharlie/anaconda3/envs/sparced/lib/python3.12/site-packages/amici/ThirdParty/SuiteSparse/include -I/home/chocolatecharlie/anaconda3/envs/sparced/include/python3.12 -c SPARCED_Jy.cpp -o build/temp.linux-x86_64-cpython-312/SPARCED_Jy.o -fopenmp -std=c++14\n",
      "gcc -pthread -B /home/chocolatecharlie/anaconda3/envs/sparced/compiler_compat -fno-strict-overflow -DNDEBUG -O2 -Wall -fPIC -O2 -isystem /home/chocolatecharlie/anaconda3/envs/sparced/include -fPIC -O2 -isystem /home/chocolatecharlie/anaconda3/envs/sparced/include -fPIC -I/home/chocolatecharlie/Documents/SPARCED/SPARCED/models/SPARCED-tutorial/amici_SPARCED -I/home/chocolatecharlie/anaconda3/envs/sparced/lib/python3.12/site-packages/amici/include -I/home/chocolatecharlie/anaconda3/envs/sparced/lib/python3.12/site-packages/amici/ThirdParty/gsl -I/home/chocolatecharlie/anaconda3/envs/sparced/lib/python3.12/site-packages/amici/ThirdParty/sundials/include -I/home/chocolatecharlie/anaconda3/envs/sparced/lib/python3.12/site-packages/amici/ThirdParty/SuiteSparse/include -I/home/chocolatecharlie/anaconda3/envs/sparced/include/python3.12 -c SPARCED_dJydsigmay.cpp -o build/temp.linux-x86_64-cpython-312/SPARCED_dJydsigmay.o -fopenmp -std=c++14\n",
      "gcc -pthread -B /home/chocolatecharlie/anaconda3/envs/sparced/compiler_compat -fno-strict-overflow -DNDEBUG -O2 -Wall -fPIC -O2 -isystem /home/chocolatecharlie/anaconda3/envs/sparced/include -fPIC -O2 -isystem /home/chocolatecharlie/anaconda3/envs/sparced/include -fPIC -I/home/chocolatecharlie/Documents/SPARCED/SPARCED/models/SPARCED-tutorial/amici_SPARCED -I/home/chocolatecharlie/anaconda3/envs/sparced/lib/python3.12/site-packages/amici/include -I/home/chocolatecharlie/anaconda3/envs/sparced/lib/python3.12/site-packages/amici/ThirdParty/gsl -I/home/chocolatecharlie/anaconda3/envs/sparced/lib/python3.12/site-packages/amici/ThirdParty/sundials/include -I/home/chocolatecharlie/anaconda3/envs/sparced/lib/python3.12/site-packages/amici/ThirdParty/SuiteSparse/include -I/home/chocolatecharlie/anaconda3/envs/sparced/include/python3.12 -c SPARCED_dJydy.cpp -o build/temp.linux-x86_64-cpython-312/SPARCED_dJydy.o -fopenmp -std=c++14\n",
      "gcc -pthread -B /home/chocolatecharlie/anaconda3/envs/sparced/compiler_compat -fno-strict-overflow -DNDEBUG -O2 -Wall -fPIC -O2 -isystem /home/chocolatecharlie/anaconda3/envs/sparced/include -fPIC -O2 -isystem /home/chocolatecharlie/anaconda3/envs/sparced/include -fPIC -I/home/chocolatecharlie/Documents/SPARCED/SPARCED/models/SPARCED-tutorial/amici_SPARCED -I/home/chocolatecharlie/anaconda3/envs/sparced/lib/python3.12/site-packages/amici/include -I/home/chocolatecharlie/anaconda3/envs/sparced/lib/python3.12/site-packages/amici/ThirdParty/gsl -I/home/chocolatecharlie/anaconda3/envs/sparced/lib/python3.12/site-packages/amici/ThirdParty/sundials/include -I/home/chocolatecharlie/anaconda3/envs/sparced/lib/python3.12/site-packages/amici/ThirdParty/SuiteSparse/include -I/home/chocolatecharlie/anaconda3/envs/sparced/include/python3.12 -c SPARCED_dJydy_colptrs.cpp -o build/temp.linux-x86_64-cpython-312/SPARCED_dJydy_colptrs.o -fopenmp -std=c++14\n",
      "gcc -pthread -B /home/chocolatecharlie/anaconda3/envs/sparced/compiler_compat -fno-strict-overflow -DNDEBUG -O2 -Wall -fPIC -O2 -isystem /home/chocolatecharlie/anaconda3/envs/sparced/include -fPIC -O2 -isystem /home/chocolatecharlie/anaconda3/envs/sparced/include -fPIC -I/home/chocolatecharlie/Documents/SPARCED/SPARCED/models/SPARCED-tutorial/amici_SPARCED -I/home/chocolatecharlie/anaconda3/envs/sparced/lib/python3.12/site-packages/amici/include -I/home/chocolatecharlie/anaconda3/envs/sparced/lib/python3.12/site-packages/amici/ThirdParty/gsl -I/home/chocolatecharlie/anaconda3/envs/sparced/lib/python3.12/site-packages/amici/ThirdParty/sundials/include -I/home/chocolatecharlie/anaconda3/envs/sparced/lib/python3.12/site-packages/amici/ThirdParty/SuiteSparse/include -I/home/chocolatecharlie/anaconda3/envs/sparced/include/python3.12 -c SPARCED_dJydy_rowvals.cpp -o build/temp.linux-x86_64-cpython-312/SPARCED_dJydy_rowvals.o -fopenmp -std=c++14\n",
      "gcc -pthread -B /home/chocolatecharlie/anaconda3/envs/sparced/compiler_compat -fno-strict-overflow -DNDEBUG -O2 -Wall -fPIC -O2 -isystem /home/chocolatecharlie/anaconda3/envs/sparced/include -fPIC -O2 -isystem /home/chocolatecharlie/anaconda3/envs/sparced/include -fPIC -I/home/chocolatecharlie/Documents/SPARCED/SPARCED/models/SPARCED-tutorial/amici_SPARCED -I/home/chocolatecharlie/anaconda3/envs/sparced/lib/python3.12/site-packages/amici/include -I/home/chocolatecharlie/anaconda3/envs/sparced/lib/python3.12/site-packages/amici/ThirdParty/gsl -I/home/chocolatecharlie/anaconda3/envs/sparced/lib/python3.12/site-packages/amici/ThirdParty/sundials/include -I/home/chocolatecharlie/anaconda3/envs/sparced/lib/python3.12/site-packages/amici/ThirdParty/SuiteSparse/include -I/home/chocolatecharlie/anaconda3/envs/sparced/include/python3.12 -c SPARCED_deltasx.cpp -o build/temp.linux-x86_64-cpython-312/SPARCED_deltasx.o -fopenmp -std=c++14\n",
      "gcc -pthread -B /home/chocolatecharlie/anaconda3/envs/sparced/compiler_compat -fno-strict-overflow -DNDEBUG -O2 -Wall -fPIC -O2 -isystem /home/chocolatecharlie/anaconda3/envs/sparced/include -fPIC -O2 -isystem /home/chocolatecharlie/anaconda3/envs/sparced/include -fPIC -I/home/chocolatecharlie/Documents/SPARCED/SPARCED/models/SPARCED-tutorial/amici_SPARCED -I/home/chocolatecharlie/anaconda3/envs/sparced/lib/python3.12/site-packages/amici/include -I/home/chocolatecharlie/anaconda3/envs/sparced/lib/python3.12/site-packages/amici/ThirdParty/gsl -I/home/chocolatecharlie/anaconda3/envs/sparced/lib/python3.12/site-packages/amici/ThirdParty/sundials/include -I/home/chocolatecharlie/anaconda3/envs/sparced/lib/python3.12/site-packages/amici/ThirdParty/SuiteSparse/include -I/home/chocolatecharlie/anaconda3/envs/sparced/include/python3.12 -c SPARCED_dsigmaydp.cpp -o build/temp.linux-x86_64-cpython-312/SPARCED_dsigmaydp.o -fopenmp -std=c++14\n",
      "gcc -pthread -B /home/chocolatecharlie/anaconda3/envs/sparced/compiler_compat -fno-strict-overflow -DNDEBUG -O2 -Wall -fPIC -O2 -isystem /home/chocolatecharlie/anaconda3/envs/sparced/include -fPIC -O2 -isystem /home/chocolatecharlie/anaconda3/envs/sparced/include -fPIC -I/home/chocolatecharlie/Documents/SPARCED/SPARCED/models/SPARCED-tutorial/amici_SPARCED -I/home/chocolatecharlie/anaconda3/envs/sparced/lib/python3.12/site-packages/amici/include -I/home/chocolatecharlie/anaconda3/envs/sparced/lib/python3.12/site-packages/amici/ThirdParty/gsl -I/home/chocolatecharlie/anaconda3/envs/sparced/lib/python3.12/site-packages/amici/ThirdParty/sundials/include -I/home/chocolatecharlie/anaconda3/envs/sparced/lib/python3.12/site-packages/amici/ThirdParty/SuiteSparse/include -I/home/chocolatecharlie/anaconda3/envs/sparced/include/python3.12 -c SPARCED_dwdp.cpp -o build/temp.linux-x86_64-cpython-312/SPARCED_dwdp.o -fopenmp -std=c++14\n",
      "gcc -pthread -B /home/chocolatecharlie/anaconda3/envs/sparced/compiler_compat -fno-strict-overflow -DNDEBUG -O2 -Wall -fPIC -O2 -isystem /home/chocolatecharlie/anaconda3/envs/sparced/include -fPIC -O2 -isystem /home/chocolatecharlie/anaconda3/envs/sparced/include -fPIC -I/home/chocolatecharlie/Documents/SPARCED/SPARCED/models/SPARCED-tutorial/amici_SPARCED -I/home/chocolatecharlie/anaconda3/envs/sparced/lib/python3.12/site-packages/amici/include -I/home/chocolatecharlie/anaconda3/envs/sparced/lib/python3.12/site-packages/amici/ThirdParty/gsl -I/home/chocolatecharlie/anaconda3/envs/sparced/lib/python3.12/site-packages/amici/ThirdParty/sundials/include -I/home/chocolatecharlie/anaconda3/envs/sparced/lib/python3.12/site-packages/amici/ThirdParty/SuiteSparse/include -I/home/chocolatecharlie/anaconda3/envs/sparced/include/python3.12 -c SPARCED_dwdp_colptrs.cpp -o build/temp.linux-x86_64-cpython-312/SPARCED_dwdp_colptrs.o -fopenmp -std=c++14\n",
      "gcc -pthread -B /home/chocolatecharlie/anaconda3/envs/sparced/compiler_compat -fno-strict-overflow -DNDEBUG -O2 -Wall -fPIC -O2 -isystem /home/chocolatecharlie/anaconda3/envs/sparced/include -fPIC -O2 -isystem /home/chocolatecharlie/anaconda3/envs/sparced/include -fPIC -I/home/chocolatecharlie/Documents/SPARCED/SPARCED/models/SPARCED-tutorial/amici_SPARCED -I/home/chocolatecharlie/anaconda3/envs/sparced/lib/python3.12/site-packages/amici/include -I/home/chocolatecharlie/anaconda3/envs/sparced/lib/python3.12/site-packages/amici/ThirdParty/gsl -I/home/chocolatecharlie/anaconda3/envs/sparced/lib/python3.12/site-packages/amici/ThirdParty/sundials/include -I/home/chocolatecharlie/anaconda3/envs/sparced/lib/python3.12/site-packages/amici/ThirdParty/SuiteSparse/include -I/home/chocolatecharlie/anaconda3/envs/sparced/include/python3.12 -c SPARCED_dwdp_rowvals.cpp -o build/temp.linux-x86_64-cpython-312/SPARCED_dwdp_rowvals.o -fopenmp -std=c++14\n",
      "gcc -pthread -B /home/chocolatecharlie/anaconda3/envs/sparced/compiler_compat -fno-strict-overflow -DNDEBUG -O2 -Wall -fPIC -O2 -isystem /home/chocolatecharlie/anaconda3/envs/sparced/include -fPIC -O2 -isystem /home/chocolatecharlie/anaconda3/envs/sparced/include -fPIC -I/home/chocolatecharlie/Documents/SPARCED/SPARCED/models/SPARCED-tutorial/amici_SPARCED -I/home/chocolatecharlie/anaconda3/envs/sparced/lib/python3.12/site-packages/amici/include -I/home/chocolatecharlie/anaconda3/envs/sparced/lib/python3.12/site-packages/amici/ThirdParty/gsl -I/home/chocolatecharlie/anaconda3/envs/sparced/lib/python3.12/site-packages/amici/ThirdParty/sundials/include -I/home/chocolatecharlie/anaconda3/envs/sparced/lib/python3.12/site-packages/amici/ThirdParty/SuiteSparse/include -I/home/chocolatecharlie/anaconda3/envs/sparced/include/python3.12 -c SPARCED_dwdw.cpp -o build/temp.linux-x86_64-cpython-312/SPARCED_dwdw.o -fopenmp -std=c++14\n",
      "gcc -pthread -B /home/chocolatecharlie/anaconda3/envs/sparced/compiler_compat -fno-strict-overflow -DNDEBUG -O2 -Wall -fPIC -O2 -isystem /home/chocolatecharlie/anaconda3/envs/sparced/include -fPIC -O2 -isystem /home/chocolatecharlie/anaconda3/envs/sparced/include -fPIC -I/home/chocolatecharlie/Documents/SPARCED/SPARCED/models/SPARCED-tutorial/amici_SPARCED -I/home/chocolatecharlie/anaconda3/envs/sparced/lib/python3.12/site-packages/amici/include -I/home/chocolatecharlie/anaconda3/envs/sparced/lib/python3.12/site-packages/amici/ThirdParty/gsl -I/home/chocolatecharlie/anaconda3/envs/sparced/lib/python3.12/site-packages/amici/ThirdParty/sundials/include -I/home/chocolatecharlie/anaconda3/envs/sparced/lib/python3.12/site-packages/amici/ThirdParty/SuiteSparse/include -I/home/chocolatecharlie/anaconda3/envs/sparced/include/python3.12 -c SPARCED_dwdw_colptrs.cpp -o build/temp.linux-x86_64-cpython-312/SPARCED_dwdw_colptrs.o -fopenmp -std=c++14\n",
      "gcc -pthread -B /home/chocolatecharlie/anaconda3/envs/sparced/compiler_compat -fno-strict-overflow -DNDEBUG -O2 -Wall -fPIC -O2 -isystem /home/chocolatecharlie/anaconda3/envs/sparced/include -fPIC -O2 -isystem /home/chocolatecharlie/anaconda3/envs/sparced/include -fPIC -I/home/chocolatecharlie/Documents/SPARCED/SPARCED/models/SPARCED-tutorial/amici_SPARCED -I/home/chocolatecharlie/anaconda3/envs/sparced/lib/python3.12/site-packages/amici/include -I/home/chocolatecharlie/anaconda3/envs/sparced/lib/python3.12/site-packages/amici/ThirdParty/gsl -I/home/chocolatecharlie/anaconda3/envs/sparced/lib/python3.12/site-packages/amici/ThirdParty/sundials/include -I/home/chocolatecharlie/anaconda3/envs/sparced/lib/python3.12/site-packages/amici/ThirdParty/SuiteSparse/include -I/home/chocolatecharlie/anaconda3/envs/sparced/include/python3.12 -c SPARCED_dwdw_rowvals.cpp -o build/temp.linux-x86_64-cpython-312/SPARCED_dwdw_rowvals.o -fopenmp -std=c++14\n",
      "gcc -pthread -B /home/chocolatecharlie/anaconda3/envs/sparced/compiler_compat -fno-strict-overflow -DNDEBUG -O2 -Wall -fPIC -O2 -isystem /home/chocolatecharlie/anaconda3/envs/sparced/include -fPIC -O2 -isystem /home/chocolatecharlie/anaconda3/envs/sparced/include -fPIC -I/home/chocolatecharlie/Documents/SPARCED/SPARCED/models/SPARCED-tutorial/amici_SPARCED -I/home/chocolatecharlie/anaconda3/envs/sparced/lib/python3.12/site-packages/amici/include -I/home/chocolatecharlie/anaconda3/envs/sparced/lib/python3.12/site-packages/amici/ThirdParty/gsl -I/home/chocolatecharlie/anaconda3/envs/sparced/lib/python3.12/site-packages/amici/ThirdParty/sundials/include -I/home/chocolatecharlie/anaconda3/envs/sparced/lib/python3.12/site-packages/amici/ThirdParty/SuiteSparse/include -I/home/chocolatecharlie/anaconda3/envs/sparced/include/python3.12 -c SPARCED_dwdx.cpp -o build/temp.linux-x86_64-cpython-312/SPARCED_dwdx.o -fopenmp -std=c++14\n",
      "gcc -pthread -B /home/chocolatecharlie/anaconda3/envs/sparced/compiler_compat -fno-strict-overflow -DNDEBUG -O2 -Wall -fPIC -O2 -isystem /home/chocolatecharlie/anaconda3/envs/sparced/include -fPIC -O2 -isystem /home/chocolatecharlie/anaconda3/envs/sparced/include -fPIC -I/home/chocolatecharlie/Documents/SPARCED/SPARCED/models/SPARCED-tutorial/amici_SPARCED -I/home/chocolatecharlie/anaconda3/envs/sparced/lib/python3.12/site-packages/amici/include -I/home/chocolatecharlie/anaconda3/envs/sparced/lib/python3.12/site-packages/amici/ThirdParty/gsl -I/home/chocolatecharlie/anaconda3/envs/sparced/lib/python3.12/site-packages/amici/ThirdParty/sundials/include -I/home/chocolatecharlie/anaconda3/envs/sparced/lib/python3.12/site-packages/amici/ThirdParty/SuiteSparse/include -I/home/chocolatecharlie/anaconda3/envs/sparced/include/python3.12 -c SPARCED_dwdx_colptrs.cpp -o build/temp.linux-x86_64-cpython-312/SPARCED_dwdx_colptrs.o -fopenmp -std=c++14\n",
      "gcc -pthread -B /home/chocolatecharlie/anaconda3/envs/sparced/compiler_compat -fno-strict-overflow -DNDEBUG -O2 -Wall -fPIC -O2 -isystem /home/chocolatecharlie/anaconda3/envs/sparced/include -fPIC -O2 -isystem /home/chocolatecharlie/anaconda3/envs/sparced/include -fPIC -I/home/chocolatecharlie/Documents/SPARCED/SPARCED/models/SPARCED-tutorial/amici_SPARCED -I/home/chocolatecharlie/anaconda3/envs/sparced/lib/python3.12/site-packages/amici/include -I/home/chocolatecharlie/anaconda3/envs/sparced/lib/python3.12/site-packages/amici/ThirdParty/gsl -I/home/chocolatecharlie/anaconda3/envs/sparced/lib/python3.12/site-packages/amici/ThirdParty/sundials/include -I/home/chocolatecharlie/anaconda3/envs/sparced/lib/python3.12/site-packages/amici/ThirdParty/SuiteSparse/include -I/home/chocolatecharlie/anaconda3/envs/sparced/include/python3.12 -c SPARCED_dwdx_rowvals.cpp -o build/temp.linux-x86_64-cpython-312/SPARCED_dwdx_rowvals.o -fopenmp -std=c++14\n",
      "gcc -pthread -B /home/chocolatecharlie/anaconda3/envs/sparced/compiler_compat -fno-strict-overflow -DNDEBUG -O2 -Wall -fPIC -O2 -isystem /home/chocolatecharlie/anaconda3/envs/sparced/include -fPIC -O2 -isystem /home/chocolatecharlie/anaconda3/envs/sparced/include -fPIC -I/home/chocolatecharlie/Documents/SPARCED/SPARCED/models/SPARCED-tutorial/amici_SPARCED -I/home/chocolatecharlie/anaconda3/envs/sparced/lib/python3.12/site-packages/amici/include -I/home/chocolatecharlie/anaconda3/envs/sparced/lib/python3.12/site-packages/amici/ThirdParty/gsl -I/home/chocolatecharlie/anaconda3/envs/sparced/lib/python3.12/site-packages/amici/ThirdParty/sundials/include -I/home/chocolatecharlie/anaconda3/envs/sparced/lib/python3.12/site-packages/amici/ThirdParty/SuiteSparse/include -I/home/chocolatecharlie/anaconda3/envs/sparced/include/python3.12 -c SPARCED_dxdotdp_explicit.cpp -o build/temp.linux-x86_64-cpython-312/SPARCED_dxdotdp_explicit.o -fopenmp -std=c++14\n",
      "gcc -pthread -B /home/chocolatecharlie/anaconda3/envs/sparced/compiler_compat -fno-strict-overflow -DNDEBUG -O2 -Wall -fPIC -O2 -isystem /home/chocolatecharlie/anaconda3/envs/sparced/include -fPIC -O2 -isystem /home/chocolatecharlie/anaconda3/envs/sparced/include -fPIC -I/home/chocolatecharlie/Documents/SPARCED/SPARCED/models/SPARCED-tutorial/amici_SPARCED -I/home/chocolatecharlie/anaconda3/envs/sparced/lib/python3.12/site-packages/amici/include -I/home/chocolatecharlie/anaconda3/envs/sparced/lib/python3.12/site-packages/amici/ThirdParty/gsl -I/home/chocolatecharlie/anaconda3/envs/sparced/lib/python3.12/site-packages/amici/ThirdParty/sundials/include -I/home/chocolatecharlie/anaconda3/envs/sparced/lib/python3.12/site-packages/amici/ThirdParty/SuiteSparse/include -I/home/chocolatecharlie/anaconda3/envs/sparced/include/python3.12 -c SPARCED_dxdotdp_explicit_colptrs.cpp -o build/temp.linux-x86_64-cpython-312/SPARCED_dxdotdp_explicit_colptrs.o -fopenmp -std=c++14\n",
      "gcc -pthread -B /home/chocolatecharlie/anaconda3/envs/sparced/compiler_compat -fno-strict-overflow -DNDEBUG -O2 -Wall -fPIC -O2 -isystem /home/chocolatecharlie/anaconda3/envs/sparced/include -fPIC -O2 -isystem /home/chocolatecharlie/anaconda3/envs/sparced/include -fPIC -I/home/chocolatecharlie/Documents/SPARCED/SPARCED/models/SPARCED-tutorial/amici_SPARCED -I/home/chocolatecharlie/anaconda3/envs/sparced/lib/python3.12/site-packages/amici/include -I/home/chocolatecharlie/anaconda3/envs/sparced/lib/python3.12/site-packages/amici/ThirdParty/gsl -I/home/chocolatecharlie/anaconda3/envs/sparced/lib/python3.12/site-packages/amici/ThirdParty/sundials/include -I/home/chocolatecharlie/anaconda3/envs/sparced/lib/python3.12/site-packages/amici/ThirdParty/SuiteSparse/include -I/home/chocolatecharlie/anaconda3/envs/sparced/include/python3.12 -c SPARCED_dxdotdp_explicit_rowvals.cpp -o build/temp.linux-x86_64-cpython-312/SPARCED_dxdotdp_explicit_rowvals.o -fopenmp -std=c++14\n",
      "gcc -pthread -B /home/chocolatecharlie/anaconda3/envs/sparced/compiler_compat -fno-strict-overflow -DNDEBUG -O2 -Wall -fPIC -O2 -isystem /home/chocolatecharlie/anaconda3/envs/sparced/include -fPIC -O2 -isystem /home/chocolatecharlie/anaconda3/envs/sparced/include -fPIC -I/home/chocolatecharlie/Documents/SPARCED/SPARCED/models/SPARCED-tutorial/amici_SPARCED -I/home/chocolatecharlie/anaconda3/envs/sparced/lib/python3.12/site-packages/amici/include -I/home/chocolatecharlie/anaconda3/envs/sparced/lib/python3.12/site-packages/amici/ThirdParty/gsl -I/home/chocolatecharlie/anaconda3/envs/sparced/lib/python3.12/site-packages/amici/ThirdParty/sundials/include -I/home/chocolatecharlie/anaconda3/envs/sparced/lib/python3.12/site-packages/amici/ThirdParty/SuiteSparse/include -I/home/chocolatecharlie/anaconda3/envs/sparced/include/python3.12 -c SPARCED_dxdotdw.cpp -o build/temp.linux-x86_64-cpython-312/SPARCED_dxdotdw.o -fopenmp -std=c++14\n",
      "gcc -pthread -B /home/chocolatecharlie/anaconda3/envs/sparced/compiler_compat -fno-strict-overflow -DNDEBUG -O2 -Wall -fPIC -O2 -isystem /home/chocolatecharlie/anaconda3/envs/sparced/include -fPIC -O2 -isystem /home/chocolatecharlie/anaconda3/envs/sparced/include -fPIC -I/home/chocolatecharlie/Documents/SPARCED/SPARCED/models/SPARCED-tutorial/amici_SPARCED -I/home/chocolatecharlie/anaconda3/envs/sparced/lib/python3.12/site-packages/amici/include -I/home/chocolatecharlie/anaconda3/envs/sparced/lib/python3.12/site-packages/amici/ThirdParty/gsl -I/home/chocolatecharlie/anaconda3/envs/sparced/lib/python3.12/site-packages/amici/ThirdParty/sundials/include -I/home/chocolatecharlie/anaconda3/envs/sparced/lib/python3.12/site-packages/amici/ThirdParty/SuiteSparse/include -I/home/chocolatecharlie/anaconda3/envs/sparced/include/python3.12 -c SPARCED_dxdotdw_colptrs.cpp -o build/temp.linux-x86_64-cpython-312/SPARCED_dxdotdw_colptrs.o -fopenmp -std=c++14\n",
      "gcc -pthread -B /home/chocolatecharlie/anaconda3/envs/sparced/compiler_compat -fno-strict-overflow -DNDEBUG -O2 -Wall -fPIC -O2 -isystem /home/chocolatecharlie/anaconda3/envs/sparced/include -fPIC -O2 -isystem /home/chocolatecharlie/anaconda3/envs/sparced/include -fPIC -I/home/chocolatecharlie/Documents/SPARCED/SPARCED/models/SPARCED-tutorial/amici_SPARCED -I/home/chocolatecharlie/anaconda3/envs/sparced/lib/python3.12/site-packages/amici/include -I/home/chocolatecharlie/anaconda3/envs/sparced/lib/python3.12/site-packages/amici/ThirdParty/gsl -I/home/chocolatecharlie/anaconda3/envs/sparced/lib/python3.12/site-packages/amici/ThirdParty/sundials/include -I/home/chocolatecharlie/anaconda3/envs/sparced/lib/python3.12/site-packages/amici/ThirdParty/SuiteSparse/include -I/home/chocolatecharlie/anaconda3/envs/sparced/include/python3.12 -c SPARCED_dxdotdw_rowvals.cpp -o build/temp.linux-x86_64-cpython-312/SPARCED_dxdotdw_rowvals.o -fopenmp -std=c++14\n",
      "gcc -pthread -B /home/chocolatecharlie/anaconda3/envs/sparced/compiler_compat -fno-strict-overflow -DNDEBUG -O2 -Wall -fPIC -O2 -isystem /home/chocolatecharlie/anaconda3/envs/sparced/include -fPIC -O2 -isystem /home/chocolatecharlie/anaconda3/envs/sparced/include -fPIC -I/home/chocolatecharlie/Documents/SPARCED/SPARCED/models/SPARCED-tutorial/amici_SPARCED -I/home/chocolatecharlie/anaconda3/envs/sparced/lib/python3.12/site-packages/amici/include -I/home/chocolatecharlie/anaconda3/envs/sparced/lib/python3.12/site-packages/amici/ThirdParty/gsl -I/home/chocolatecharlie/anaconda3/envs/sparced/lib/python3.12/site-packages/amici/ThirdParty/sundials/include -I/home/chocolatecharlie/anaconda3/envs/sparced/lib/python3.12/site-packages/amici/ThirdParty/SuiteSparse/include -I/home/chocolatecharlie/anaconda3/envs/sparced/include/python3.12 -c SPARCED_dxdotdx_explicit.cpp -o build/temp.linux-x86_64-cpython-312/SPARCED_dxdotdx_explicit.o -fopenmp -std=c++14\n",
      "gcc -pthread -B /home/chocolatecharlie/anaconda3/envs/sparced/compiler_compat -fno-strict-overflow -DNDEBUG -O2 -Wall -fPIC -O2 -isystem /home/chocolatecharlie/anaconda3/envs/sparced/include -fPIC -O2 -isystem /home/chocolatecharlie/anaconda3/envs/sparced/include -fPIC -I/home/chocolatecharlie/Documents/SPARCED/SPARCED/models/SPARCED-tutorial/amici_SPARCED -I/home/chocolatecharlie/anaconda3/envs/sparced/lib/python3.12/site-packages/amici/include -I/home/chocolatecharlie/anaconda3/envs/sparced/lib/python3.12/site-packages/amici/ThirdParty/gsl -I/home/chocolatecharlie/anaconda3/envs/sparced/lib/python3.12/site-packages/amici/ThirdParty/sundials/include -I/home/chocolatecharlie/anaconda3/envs/sparced/lib/python3.12/site-packages/amici/ThirdParty/SuiteSparse/include -I/home/chocolatecharlie/anaconda3/envs/sparced/include/python3.12 -c SPARCED_dxdotdx_explicit_colptrs.cpp -o build/temp.linux-x86_64-cpython-312/SPARCED_dxdotdx_explicit_colptrs.o -fopenmp -std=c++14\n",
      "gcc -pthread -B /home/chocolatecharlie/anaconda3/envs/sparced/compiler_compat -fno-strict-overflow -DNDEBUG -O2 -Wall -fPIC -O2 -isystem /home/chocolatecharlie/anaconda3/envs/sparced/include -fPIC -O2 -isystem /home/chocolatecharlie/anaconda3/envs/sparced/include -fPIC -I/home/chocolatecharlie/Documents/SPARCED/SPARCED/models/SPARCED-tutorial/amici_SPARCED -I/home/chocolatecharlie/anaconda3/envs/sparced/lib/python3.12/site-packages/amici/include -I/home/chocolatecharlie/anaconda3/envs/sparced/lib/python3.12/site-packages/amici/ThirdParty/gsl -I/home/chocolatecharlie/anaconda3/envs/sparced/lib/python3.12/site-packages/amici/ThirdParty/sundials/include -I/home/chocolatecharlie/anaconda3/envs/sparced/lib/python3.12/site-packages/amici/ThirdParty/SuiteSparse/include -I/home/chocolatecharlie/anaconda3/envs/sparced/include/python3.12 -c SPARCED_dxdotdx_explicit_rowvals.cpp -o build/temp.linux-x86_64-cpython-312/SPARCED_dxdotdx_explicit_rowvals.o -fopenmp -std=c++14\n",
      "gcc -pthread -B /home/chocolatecharlie/anaconda3/envs/sparced/compiler_compat -fno-strict-overflow -DNDEBUG -O2 -Wall -fPIC -O2 -isystem /home/chocolatecharlie/anaconda3/envs/sparced/include -fPIC -O2 -isystem /home/chocolatecharlie/anaconda3/envs/sparced/include -fPIC -I/home/chocolatecharlie/Documents/SPARCED/SPARCED/models/SPARCED-tutorial/amici_SPARCED -I/home/chocolatecharlie/anaconda3/envs/sparced/lib/python3.12/site-packages/amici/include -I/home/chocolatecharlie/anaconda3/envs/sparced/lib/python3.12/site-packages/amici/ThirdParty/gsl -I/home/chocolatecharlie/anaconda3/envs/sparced/lib/python3.12/site-packages/amici/ThirdParty/sundials/include -I/home/chocolatecharlie/anaconda3/envs/sparced/lib/python3.12/site-packages/amici/ThirdParty/SuiteSparse/include -I/home/chocolatecharlie/anaconda3/envs/sparced/include/python3.12 -c SPARCED_dydp.cpp -o build/temp.linux-x86_64-cpython-312/SPARCED_dydp.o -fopenmp -std=c++14\n",
      "gcc -pthread -B /home/chocolatecharlie/anaconda3/envs/sparced/compiler_compat -fno-strict-overflow -DNDEBUG -O2 -Wall -fPIC -O2 -isystem /home/chocolatecharlie/anaconda3/envs/sparced/include -fPIC -O2 -isystem /home/chocolatecharlie/anaconda3/envs/sparced/include -fPIC -I/home/chocolatecharlie/Documents/SPARCED/SPARCED/models/SPARCED-tutorial/amici_SPARCED -I/home/chocolatecharlie/anaconda3/envs/sparced/lib/python3.12/site-packages/amici/include -I/home/chocolatecharlie/anaconda3/envs/sparced/lib/python3.12/site-packages/amici/ThirdParty/gsl -I/home/chocolatecharlie/anaconda3/envs/sparced/lib/python3.12/site-packages/amici/ThirdParty/sundials/include -I/home/chocolatecharlie/anaconda3/envs/sparced/lib/python3.12/site-packages/amici/ThirdParty/SuiteSparse/include -I/home/chocolatecharlie/anaconda3/envs/sparced/include/python3.12 -c SPARCED_dydx.cpp -o build/temp.linux-x86_64-cpython-312/SPARCED_dydx.o -fopenmp -std=c++14\n",
      "gcc -pthread -B /home/chocolatecharlie/anaconda3/envs/sparced/compiler_compat -fno-strict-overflow -DNDEBUG -O2 -Wall -fPIC -O2 -isystem /home/chocolatecharlie/anaconda3/envs/sparced/include -fPIC -O2 -isystem /home/chocolatecharlie/anaconda3/envs/sparced/include -fPIC -I/home/chocolatecharlie/Documents/SPARCED/SPARCED/models/SPARCED-tutorial/amici_SPARCED -I/home/chocolatecharlie/anaconda3/envs/sparced/lib/python3.12/site-packages/amici/include -I/home/chocolatecharlie/anaconda3/envs/sparced/lib/python3.12/site-packages/amici/ThirdParty/gsl -I/home/chocolatecharlie/anaconda3/envs/sparced/lib/python3.12/site-packages/amici/ThirdParty/sundials/include -I/home/chocolatecharlie/anaconda3/envs/sparced/lib/python3.12/site-packages/amici/ThirdParty/SuiteSparse/include -I/home/chocolatecharlie/anaconda3/envs/sparced/include/python3.12 -c SPARCED_root.cpp -o build/temp.linux-x86_64-cpython-312/SPARCED_root.o -fopenmp -std=c++14\n",
      "gcc -pthread -B /home/chocolatecharlie/anaconda3/envs/sparced/compiler_compat -fno-strict-overflow -DNDEBUG -O2 -Wall -fPIC -O2 -isystem /home/chocolatecharlie/anaconda3/envs/sparced/include -fPIC -O2 -isystem /home/chocolatecharlie/anaconda3/envs/sparced/include -fPIC -I/home/chocolatecharlie/Documents/SPARCED/SPARCED/models/SPARCED-tutorial/amici_SPARCED -I/home/chocolatecharlie/anaconda3/envs/sparced/lib/python3.12/site-packages/amici/include -I/home/chocolatecharlie/anaconda3/envs/sparced/lib/python3.12/site-packages/amici/ThirdParty/gsl -I/home/chocolatecharlie/anaconda3/envs/sparced/lib/python3.12/site-packages/amici/ThirdParty/sundials/include -I/home/chocolatecharlie/anaconda3/envs/sparced/lib/python3.12/site-packages/amici/ThirdParty/SuiteSparse/include -I/home/chocolatecharlie/anaconda3/envs/sparced/include/python3.12 -c SPARCED_sigmay.cpp -o build/temp.linux-x86_64-cpython-312/SPARCED_sigmay.o -fopenmp -std=c++14\n",
      "gcc -pthread -B /home/chocolatecharlie/anaconda3/envs/sparced/compiler_compat -fno-strict-overflow -DNDEBUG -O2 -Wall -fPIC -O2 -isystem /home/chocolatecharlie/anaconda3/envs/sparced/include -fPIC -O2 -isystem /home/chocolatecharlie/anaconda3/envs/sparced/include -fPIC -I/home/chocolatecharlie/Documents/SPARCED/SPARCED/models/SPARCED-tutorial/amici_SPARCED -I/home/chocolatecharlie/anaconda3/envs/sparced/lib/python3.12/site-packages/amici/include -I/home/chocolatecharlie/anaconda3/envs/sparced/lib/python3.12/site-packages/amici/ThirdParty/gsl -I/home/chocolatecharlie/anaconda3/envs/sparced/lib/python3.12/site-packages/amici/ThirdParty/sundials/include -I/home/chocolatecharlie/anaconda3/envs/sparced/lib/python3.12/site-packages/amici/ThirdParty/SuiteSparse/include -I/home/chocolatecharlie/anaconda3/envs/sparced/include/python3.12 -c SPARCED_stau.cpp -o build/temp.linux-x86_64-cpython-312/SPARCED_stau.o -fopenmp -std=c++14\n",
      "gcc -pthread -B /home/chocolatecharlie/anaconda3/envs/sparced/compiler_compat -fno-strict-overflow -DNDEBUG -O2 -Wall -fPIC -O2 -isystem /home/chocolatecharlie/anaconda3/envs/sparced/include -fPIC -O2 -isystem /home/chocolatecharlie/anaconda3/envs/sparced/include -fPIC -I/home/chocolatecharlie/Documents/SPARCED/SPARCED/models/SPARCED-tutorial/amici_SPARCED -I/home/chocolatecharlie/anaconda3/envs/sparced/lib/python3.12/site-packages/amici/include -I/home/chocolatecharlie/anaconda3/envs/sparced/lib/python3.12/site-packages/amici/ThirdParty/gsl -I/home/chocolatecharlie/anaconda3/envs/sparced/lib/python3.12/site-packages/amici/ThirdParty/sundials/include -I/home/chocolatecharlie/anaconda3/envs/sparced/lib/python3.12/site-packages/amici/ThirdParty/SuiteSparse/include -I/home/chocolatecharlie/anaconda3/envs/sparced/include/python3.12 -c SPARCED_sx0.cpp -o build/temp.linux-x86_64-cpython-312/SPARCED_sx0.o -fopenmp -std=c++14\n",
      "gcc -pthread -B /home/chocolatecharlie/anaconda3/envs/sparced/compiler_compat -fno-strict-overflow -DNDEBUG -O2 -Wall -fPIC -O2 -isystem /home/chocolatecharlie/anaconda3/envs/sparced/include -fPIC -O2 -isystem /home/chocolatecharlie/anaconda3/envs/sparced/include -fPIC -I/home/chocolatecharlie/Documents/SPARCED/SPARCED/models/SPARCED-tutorial/amici_SPARCED -I/home/chocolatecharlie/anaconda3/envs/sparced/lib/python3.12/site-packages/amici/include -I/home/chocolatecharlie/anaconda3/envs/sparced/lib/python3.12/site-packages/amici/ThirdParty/gsl -I/home/chocolatecharlie/anaconda3/envs/sparced/lib/python3.12/site-packages/amici/ThirdParty/sundials/include -I/home/chocolatecharlie/anaconda3/envs/sparced/lib/python3.12/site-packages/amici/ThirdParty/SuiteSparse/include -I/home/chocolatecharlie/anaconda3/envs/sparced/include/python3.12 -c SPARCED_sx0_fixedParameters.cpp -o build/temp.linux-x86_64-cpython-312/SPARCED_sx0_fixedParameters.o -fopenmp -std=c++14\n",
      "gcc -pthread -B /home/chocolatecharlie/anaconda3/envs/sparced/compiler_compat -fno-strict-overflow -DNDEBUG -O2 -Wall -fPIC -O2 -isystem /home/chocolatecharlie/anaconda3/envs/sparced/include -fPIC -O2 -isystem /home/chocolatecharlie/anaconda3/envs/sparced/include -fPIC -I/home/chocolatecharlie/Documents/SPARCED/SPARCED/models/SPARCED-tutorial/amici_SPARCED -I/home/chocolatecharlie/anaconda3/envs/sparced/lib/python3.12/site-packages/amici/include -I/home/chocolatecharlie/anaconda3/envs/sparced/lib/python3.12/site-packages/amici/ThirdParty/gsl -I/home/chocolatecharlie/anaconda3/envs/sparced/lib/python3.12/site-packages/amici/ThirdParty/sundials/include -I/home/chocolatecharlie/anaconda3/envs/sparced/lib/python3.12/site-packages/amici/ThirdParty/SuiteSparse/include -I/home/chocolatecharlie/anaconda3/envs/sparced/include/python3.12 -c SPARCED_total_cl.cpp -o build/temp.linux-x86_64-cpython-312/SPARCED_total_cl.o -fopenmp -std=c++14\n",
      "gcc -pthread -B /home/chocolatecharlie/anaconda3/envs/sparced/compiler_compat -fno-strict-overflow -DNDEBUG -O2 -Wall -fPIC -O2 -isystem /home/chocolatecharlie/anaconda3/envs/sparced/include -fPIC -O2 -isystem /home/chocolatecharlie/anaconda3/envs/sparced/include -fPIC -I/home/chocolatecharlie/Documents/SPARCED/SPARCED/models/SPARCED-tutorial/amici_SPARCED -I/home/chocolatecharlie/anaconda3/envs/sparced/lib/python3.12/site-packages/amici/include -I/home/chocolatecharlie/anaconda3/envs/sparced/lib/python3.12/site-packages/amici/ThirdParty/gsl -I/home/chocolatecharlie/anaconda3/envs/sparced/lib/python3.12/site-packages/amici/ThirdParty/sundials/include -I/home/chocolatecharlie/anaconda3/envs/sparced/lib/python3.12/site-packages/amici/ThirdParty/SuiteSparse/include -I/home/chocolatecharlie/anaconda3/envs/sparced/include/python3.12 -c SPARCED_w.cpp -o build/temp.linux-x86_64-cpython-312/SPARCED_w.o -fopenmp -std=c++14\n",
      "gcc -pthread -B /home/chocolatecharlie/anaconda3/envs/sparced/compiler_compat -fno-strict-overflow -DNDEBUG -O2 -Wall -fPIC -O2 -isystem /home/chocolatecharlie/anaconda3/envs/sparced/include -fPIC -O2 -isystem /home/chocolatecharlie/anaconda3/envs/sparced/include -fPIC -I/home/chocolatecharlie/Documents/SPARCED/SPARCED/models/SPARCED-tutorial/amici_SPARCED -I/home/chocolatecharlie/anaconda3/envs/sparced/lib/python3.12/site-packages/amici/include -I/home/chocolatecharlie/anaconda3/envs/sparced/lib/python3.12/site-packages/amici/ThirdParty/gsl -I/home/chocolatecharlie/anaconda3/envs/sparced/lib/python3.12/site-packages/amici/ThirdParty/sundials/include -I/home/chocolatecharlie/anaconda3/envs/sparced/lib/python3.12/site-packages/amici/ThirdParty/SuiteSparse/include -I/home/chocolatecharlie/anaconda3/envs/sparced/include/python3.12 -c SPARCED_x0.cpp -o build/temp.linux-x86_64-cpython-312/SPARCED_x0.o -fopenmp -std=c++14\n",
      "gcc -pthread -B /home/chocolatecharlie/anaconda3/envs/sparced/compiler_compat -fno-strict-overflow -DNDEBUG -O2 -Wall -fPIC -O2 -isystem /home/chocolatecharlie/anaconda3/envs/sparced/include -fPIC -O2 -isystem /home/chocolatecharlie/anaconda3/envs/sparced/include -fPIC -I/home/chocolatecharlie/Documents/SPARCED/SPARCED/models/SPARCED-tutorial/amici_SPARCED -I/home/chocolatecharlie/anaconda3/envs/sparced/lib/python3.12/site-packages/amici/include -I/home/chocolatecharlie/anaconda3/envs/sparced/lib/python3.12/site-packages/amici/ThirdParty/gsl -I/home/chocolatecharlie/anaconda3/envs/sparced/lib/python3.12/site-packages/amici/ThirdParty/sundials/include -I/home/chocolatecharlie/anaconda3/envs/sparced/lib/python3.12/site-packages/amici/ThirdParty/SuiteSparse/include -I/home/chocolatecharlie/anaconda3/envs/sparced/include/python3.12 -c SPARCED_x0_fixedParameters.cpp -o build/temp.linux-x86_64-cpython-312/SPARCED_x0_fixedParameters.o -fopenmp -std=c++14\n",
      "gcc -pthread -B /home/chocolatecharlie/anaconda3/envs/sparced/compiler_compat -fno-strict-overflow -DNDEBUG -O2 -Wall -fPIC -O2 -isystem /home/chocolatecharlie/anaconda3/envs/sparced/include -fPIC -O2 -isystem /home/chocolatecharlie/anaconda3/envs/sparced/include -fPIC -I/home/chocolatecharlie/Documents/SPARCED/SPARCED/models/SPARCED-tutorial/amici_SPARCED -I/home/chocolatecharlie/anaconda3/envs/sparced/lib/python3.12/site-packages/amici/include -I/home/chocolatecharlie/anaconda3/envs/sparced/lib/python3.12/site-packages/amici/ThirdParty/gsl -I/home/chocolatecharlie/anaconda3/envs/sparced/lib/python3.12/site-packages/amici/ThirdParty/sundials/include -I/home/chocolatecharlie/anaconda3/envs/sparced/lib/python3.12/site-packages/amici/ThirdParty/SuiteSparse/include -I/home/chocolatecharlie/anaconda3/envs/sparced/include/python3.12 -c SPARCED_x_rdata.cpp -o build/temp.linux-x86_64-cpython-312/SPARCED_x_rdata.o -fopenmp -std=c++14\n",
      "gcc -pthread -B /home/chocolatecharlie/anaconda3/envs/sparced/compiler_compat -fno-strict-overflow -DNDEBUG -O2 -Wall -fPIC -O2 -isystem /home/chocolatecharlie/anaconda3/envs/sparced/include -fPIC -O2 -isystem /home/chocolatecharlie/anaconda3/envs/sparced/include -fPIC -I/home/chocolatecharlie/Documents/SPARCED/SPARCED/models/SPARCED-tutorial/amici_SPARCED -I/home/chocolatecharlie/anaconda3/envs/sparced/lib/python3.12/site-packages/amici/include -I/home/chocolatecharlie/anaconda3/envs/sparced/lib/python3.12/site-packages/amici/ThirdParty/gsl -I/home/chocolatecharlie/anaconda3/envs/sparced/lib/python3.12/site-packages/amici/ThirdParty/sundials/include -I/home/chocolatecharlie/anaconda3/envs/sparced/lib/python3.12/site-packages/amici/ThirdParty/SuiteSparse/include -I/home/chocolatecharlie/anaconda3/envs/sparced/include/python3.12 -c SPARCED_x_solver.cpp -o build/temp.linux-x86_64-cpython-312/SPARCED_x_solver.o -fopenmp -std=c++14\n",
      "gcc -pthread -B /home/chocolatecharlie/anaconda3/envs/sparced/compiler_compat -fno-strict-overflow -DNDEBUG -O2 -Wall -fPIC -O2 -isystem /home/chocolatecharlie/anaconda3/envs/sparced/include -fPIC -O2 -isystem /home/chocolatecharlie/anaconda3/envs/sparced/include -fPIC -I/home/chocolatecharlie/Documents/SPARCED/SPARCED/models/SPARCED-tutorial/amici_SPARCED -I/home/chocolatecharlie/anaconda3/envs/sparced/lib/python3.12/site-packages/amici/include -I/home/chocolatecharlie/anaconda3/envs/sparced/lib/python3.12/site-packages/amici/ThirdParty/gsl -I/home/chocolatecharlie/anaconda3/envs/sparced/lib/python3.12/site-packages/amici/ThirdParty/sundials/include -I/home/chocolatecharlie/anaconda3/envs/sparced/lib/python3.12/site-packages/amici/ThirdParty/SuiteSparse/include -I/home/chocolatecharlie/anaconda3/envs/sparced/include/python3.12 -c SPARCED_xdot.cpp -o build/temp.linux-x86_64-cpython-312/SPARCED_xdot.o -fopenmp -std=c++14\n",
      "gcc -pthread -B /home/chocolatecharlie/anaconda3/envs/sparced/compiler_compat -fno-strict-overflow -DNDEBUG -O2 -Wall -fPIC -O2 -isystem /home/chocolatecharlie/anaconda3/envs/sparced/include -fPIC -O2 -isystem /home/chocolatecharlie/anaconda3/envs/sparced/include -fPIC -I/home/chocolatecharlie/Documents/SPARCED/SPARCED/models/SPARCED-tutorial/amici_SPARCED -I/home/chocolatecharlie/anaconda3/envs/sparced/lib/python3.12/site-packages/amici/include -I/home/chocolatecharlie/anaconda3/envs/sparced/lib/python3.12/site-packages/amici/ThirdParty/gsl -I/home/chocolatecharlie/anaconda3/envs/sparced/lib/python3.12/site-packages/amici/ThirdParty/sundials/include -I/home/chocolatecharlie/anaconda3/envs/sparced/lib/python3.12/site-packages/amici/ThirdParty/SuiteSparse/include -I/home/chocolatecharlie/anaconda3/envs/sparced/include/python3.12 -c SPARCED_y.cpp -o build/temp.linux-x86_64-cpython-312/SPARCED_y.o -fopenmp -std=c++14\n",
      "gcc -pthread -B /home/chocolatecharlie/anaconda3/envs/sparced/compiler_compat -fno-strict-overflow -DNDEBUG -O2 -Wall -fPIC -O2 -isystem /home/chocolatecharlie/anaconda3/envs/sparced/include -fPIC -O2 -isystem /home/chocolatecharlie/anaconda3/envs/sparced/include -fPIC -I/home/chocolatecharlie/Documents/SPARCED/SPARCED/models/SPARCED-tutorial/amici_SPARCED -I/home/chocolatecharlie/anaconda3/envs/sparced/lib/python3.12/site-packages/amici/include -I/home/chocolatecharlie/anaconda3/envs/sparced/lib/python3.12/site-packages/amici/ThirdParty/gsl -I/home/chocolatecharlie/anaconda3/envs/sparced/lib/python3.12/site-packages/amici/ThirdParty/sundials/include -I/home/chocolatecharlie/anaconda3/envs/sparced/lib/python3.12/site-packages/amici/ThirdParty/SuiteSparse/include -I/home/chocolatecharlie/anaconda3/envs/sparced/include/python3.12 -c swig/SPARCED_wrap.cpp -o build/temp.linux-x86_64-cpython-312/swig/SPARCED_wrap.o -fopenmp -std=c++14\n",
      "gcc -pthread -B /home/chocolatecharlie/anaconda3/envs/sparced/compiler_compat -fno-strict-overflow -DNDEBUG -O2 -Wall -fPIC -O2 -isystem /home/chocolatecharlie/anaconda3/envs/sparced/include -fPIC -O2 -isystem /home/chocolatecharlie/anaconda3/envs/sparced/include -fPIC -I/home/chocolatecharlie/Documents/SPARCED/SPARCED/models/SPARCED-tutorial/amici_SPARCED -I/home/chocolatecharlie/anaconda3/envs/sparced/lib/python3.12/site-packages/amici/include -I/home/chocolatecharlie/anaconda3/envs/sparced/lib/python3.12/site-packages/amici/ThirdParty/gsl -I/home/chocolatecharlie/anaconda3/envs/sparced/lib/python3.12/site-packages/amici/ThirdParty/sundials/include -I/home/chocolatecharlie/anaconda3/envs/sparced/lib/python3.12/site-packages/amici/ThirdParty/SuiteSparse/include -I/home/chocolatecharlie/anaconda3/envs/sparced/include/python3.12 -c wrapfunctions.cpp -o build/temp.linux-x86_64-cpython-312/wrapfunctions.o -fopenmp -std=c++14\n",
      "g++ -pthread -B /home/chocolatecharlie/anaconda3/envs/sparced/compiler_compat -shared -Wl,-rpath,/home/chocolatecharlie/anaconda3/envs/sparced/lib -Wl,-rpath-link,/home/chocolatecharlie/anaconda3/envs/sparced/lib -L/home/chocolatecharlie/anaconda3/envs/sparced/lib -Wl,-rpath,/home/chocolatecharlie/anaconda3/envs/sparced/lib -Wl,-rpath-link,/home/chocolatecharlie/anaconda3/envs/sparced/lib -L/home/chocolatecharlie/anaconda3/envs/sparced/lib build/temp.linux-x86_64-cpython-312/SPARCED.o build/temp.linux-x86_64-cpython-312/SPARCED_Jy.o build/temp.linux-x86_64-cpython-312/SPARCED_dJydsigmay.o build/temp.linux-x86_64-cpython-312/SPARCED_dJydy.o build/temp.linux-x86_64-cpython-312/SPARCED_dJydy_colptrs.o build/temp.linux-x86_64-cpython-312/SPARCED_dJydy_rowvals.o build/temp.linux-x86_64-cpython-312/SPARCED_deltasx.o build/temp.linux-x86_64-cpython-312/SPARCED_dsigmaydp.o build/temp.linux-x86_64-cpython-312/SPARCED_dwdp.o build/temp.linux-x86_64-cpython-312/SPARCED_dwdp_colptrs.o build/temp.linux-x86_64-cpython-312/SPARCED_dwdp_rowvals.o build/temp.linux-x86_64-cpython-312/SPARCED_dwdw.o build/temp.linux-x86_64-cpython-312/SPARCED_dwdw_colptrs.o build/temp.linux-x86_64-cpython-312/SPARCED_dwdw_rowvals.o build/temp.linux-x86_64-cpython-312/SPARCED_dwdx.o build/temp.linux-x86_64-cpython-312/SPARCED_dwdx_colptrs.o build/temp.linux-x86_64-cpython-312/SPARCED_dwdx_rowvals.o build/temp.linux-x86_64-cpython-312/SPARCED_dxdotdp_explicit.o build/temp.linux-x86_64-cpython-312/SPARCED_dxdotdp_explicit_colptrs.o build/temp.linux-x86_64-cpython-312/SPARCED_dxdotdp_explicit_rowvals.o build/temp.linux-x86_64-cpython-312/SPARCED_dxdotdw.o build/temp.linux-x86_64-cpython-312/SPARCED_dxdotdw_colptrs.o build/temp.linux-x86_64-cpython-312/SPARCED_dxdotdw_rowvals.o build/temp.linux-x86_64-cpython-312/SPARCED_dxdotdx_explicit.o build/temp.linux-x86_64-cpython-312/SPARCED_dxdotdx_explicit_colptrs.o build/temp.linux-x86_64-cpython-312/SPARCED_dxdotdx_explicit_rowvals.o build/temp.linux-x86_64-cpython-312/SPARCED_dydp.o build/temp.linux-x86_64-cpython-312/SPARCED_dydx.o build/temp.linux-x86_64-cpython-312/SPARCED_root.o build/temp.linux-x86_64-cpython-312/SPARCED_sigmay.o build/temp.linux-x86_64-cpython-312/SPARCED_stau.o build/temp.linux-x86_64-cpython-312/SPARCED_sx0.o build/temp.linux-x86_64-cpython-312/SPARCED_sx0_fixedParameters.o build/temp.linux-x86_64-cpython-312/SPARCED_total_cl.o build/temp.linux-x86_64-cpython-312/SPARCED_w.o build/temp.linux-x86_64-cpython-312/SPARCED_x0.o build/temp.linux-x86_64-cpython-312/SPARCED_x0_fixedParameters.o build/temp.linux-x86_64-cpython-312/SPARCED_x_rdata.o build/temp.linux-x86_64-cpython-312/SPARCED_x_solver.o build/temp.linux-x86_64-cpython-312/SPARCED_xdot.o build/temp.linux-x86_64-cpython-312/SPARCED_y.o build/temp.linux-x86_64-cpython-312/swig/SPARCED_wrap.o build/temp.linux-x86_64-cpython-312/wrapfunctions.o -L/home/chocolatecharlie/anaconda3/envs/sparced/lib/python3.12/site-packages/amici/libs -lamici -lsundials -lsuitesparse -lcblas -o /home/chocolatecharlie/Documents/SPARCED/SPARCED/models/SPARCED-tutorial/amici_SPARCED/SPARCED/_SPARCED.cpython-312-x86_64-linux-gnu.so -fopenmp\n",
      "\n",
      "SPARCED: Sucess compiling the model\n"
     ]
    }
   ],
   "source": [
    "# Model name\n",
    "model_name = \"SPARCED\"\n",
    "# Path to input files written in TSV\n",
    "f_compartments = \"../../SPARCED/data/core/Compartments.txt\"\n",
    "f_observables = \"../../SPARCED/data/core/Observables.txt\"\n",
    "f_species = \"../../SPARCED/data/core/Species.txt\"\n",
    "f_stoichmatrix = \"../../SPARCED/data/core/StoicMat.txt\"\n",
    "f_ratelaws = \"../../SPARCED/data/core/Ratelaws.txt\"\n",
    "# Path to store output files (Antimony, SBML and AMICI model)\n",
    "output_dir_path = \"../../SPARCED/models/SPARCED-tutorial/\" # Make sure that this directory exists ahead\n",
    "f_output_parameters = \"../../SPARCED/models/SPARCED-tutorial/out_Parameters.txt\"\n",
    "# Runtime options\n",
    "verbose = True\n",
    "is_SPARCED = True\n",
    "# Call the model creation function\n",
    "create_model(f_observables, model_name, f_compartments, f_stoichmatrix, output_dir_path,\n",
    "             f_output_parameters, f_ratelaws, f_species, verbose, is_SPARCED)\n",
    "# NB: AMICI is very verbose, don't be afraid if it loads tons of lines.\n",
    "# It will take several minutes for the model to compile."
   ]
  },
  {
   "cell_type": "markdown",
   "id": "97e838d4-166e-4208-9645-8a5688709711",
   "metadata": {},
   "source": [
    "Although this might seem overwhelming, note that you may simply call the ```launch_model_creation``` function from your script or the command line, which will collect all the default values and arguments you pass, process these and call the ```create_model``` function for you.\n",
    "We are not using it here to demonstrate which arguments the ```create_model``` function needs. A call to ```launch_model_creation``` looks as simple as this:"
   ]
  },
  {
   "cell_type": "code",
   "execution_count": 4,
   "id": "5c73259b-8416-4474-8c83-cd37df2fface",
   "metadata": {},
   "outputs": [],
   "source": [
    "# WARNING: the Notebook doesn\"t handle well command-line arguments\n",
    "# See the __main__.py file for a working example\n",
    "# launch_model_creation()"
   ]
  },
  {
   "cell_type": "markdown",
   "id": "17425419-2219-414c-8915-9aa99c6acaae",
   "metadata": {},
   "source": [
    "## 2 - Run a model simulation"
   ]
  },
  {
   "cell_type": "markdown",
   "id": "a0c9d376-2735-4c2b-ae92-3ee99105302b",
   "metadata": {},
   "source": [
    "### Ligands"
   ]
  },
  {
   "cell_type": "markdown",
   "id": "37f97e9c-51af-4472-8b4f-059dff6a968f",
   "metadata": {},
   "source": [
    "You may want to add ligands to your experiment before running it (EGF and insulin are the most common).\n",
    "There are several ways to do so, the idea being to chose the method that fits you best."
   ]
  },
  {
   "cell_type": "code",
   "execution_count": 5,
   "id": "031f5e99-17ee-48f1-878e-a82d2bb15376",
   "metadata": {},
   "outputs": [],
   "source": [
    "# 1. Manually\n",
    "c_egf = 1.0\n",
    "c_ins = 17.21\n",
    "ligands = basic_ligands(c_egf, c_ins)\n",
    "# 2. Automatically from the passed arguments\n",
    "# See the __main__.py file for a working example\n",
    "# ligands = basic_ligands_from_arguments\n",
    "# 3. Automatically from the ligands.txt input file\n",
    "# ligands = load_input_ligands(\"../../SPARCED/data/simulation/ligands.txt\")"
   ]
  },
  {
   "cell_type": "markdown",
   "id": "b5a99ce2-d397-4f89-ac73-6c23d955fb54",
   "metadata": {},
   "source": [
    "### Run an experiment"
   ]
  },
  {
   "cell_type": "markdown",
   "id": "6f948ca5-1538-4535-9f61-7dd69b576ee2",
   "metadata": {},
   "source": [
    "The ```run_experiment``` function is a wrapper that will call the ```run_single_simulation``` function for each cell in your population."
   ]
  },
  {
   "cell_type": "markdown",
   "id": "a463b0f5-6b4a-4156-be35-757f52db0d1b",
   "metadata": {},
   "source": [
    "_Please note that in the example bellow, we redefined some variables previously set to give you an overview of what you need to call the ```run_experiment``` function. In practice, you wouldn't want to redefine variables in your script._"
   ]
  },
  {
   "cell_type": "code",
   "execution_count": 6,
   "id": "f59adc1a-c40b-4c75-958d-8fa32911d83e",
   "metadata": {},
   "outputs": [
    {
     "name": "stdout",
     "output_type": "stream",
     "text": [
      "SPARCED: Successfully loaded <module 'SPARCED' from '/home/chocolatecharlie/Documents/SPARCED/SPARCED/models/SPARCED-tutorial/amici_SPARCED/SPARCED/__init__.py'>\n",
      "\n",
      "tutorial n°0: Now ready to run\n",
      "\n"
     ]
    },
    {
     "ename": "FileNotFoundError",
     "evalue": "[Errno 2] No such file or directory: './../data/simulation/OmicsData.txt'",
     "output_type": "error",
     "traceback": [
      "\u001b[0;31m---------------------------------------------------------------------------\u001b[0m",
      "\u001b[0;31mFileNotFoundError\u001b[0m                         Traceback (most recent call last)",
      "Cell \u001b[0;32mIn[6], line 20\u001b[0m\n\u001b[1;32m     18\u001b[0m dose \u001b[38;5;241m=\u001b[39m \u001b[38;5;28;01mNone\u001b[39;00m\n\u001b[1;32m     19\u001b[0m \u001b[38;5;66;03m# Call the run experimentfunction\u001b[39;00m\n\u001b[0;32m---> 20\u001b[0m \u001b[43mrun_experiment\u001b[49m\u001b[43m(\u001b[49m\u001b[43mmodel_name\u001b[49m\u001b[43m,\u001b[49m\u001b[43m \u001b[49m\u001b[43mmodel_path\u001b[49m\u001b[43m,\u001b[49m\u001b[43m \u001b[49m\u001b[43msimulation_name\u001b[49m\u001b[43m,\u001b[49m\u001b[43m \u001b[49m\u001b[43msbml_model\u001b[49m\u001b[43m,\u001b[49m\u001b[43m \u001b[49m\u001b[43mis_deterministic\u001b[49m\u001b[43m,\u001b[49m\u001b[43m \u001b[49m\u001b[43mexchange\u001b[49m\u001b[43m,\u001b[49m\n\u001b[1;32m     21\u001b[0m \u001b[43m               \u001b[49m\u001b[43mpopulation\u001b[49m\u001b[43m,\u001b[49m\u001b[43m \u001b[49m\u001b[43mduration\u001b[49m\u001b[43m,\u001b[49m\u001b[43m \u001b[49m\u001b[43mf_species\u001b[49m\u001b[43m,\u001b[49m\u001b[43m \u001b[49m\u001b[43mligands\u001b[49m\u001b[43m,\u001b[49m\u001b[43m \u001b[49m\u001b[43mverbose\u001b[49m\u001b[43m,\u001b[49m\u001b[43m \u001b[49m\u001b[43mis_SPARCED\u001b[49m\u001b[43m,\u001b[49m\u001b[43m \u001b[49m\u001b[43mcompound\u001b[49m\u001b[43m,\u001b[49m\u001b[43m \u001b[49m\u001b[43mdose\u001b[49m\u001b[43m)\u001b[49m\n\u001b[1;32m     22\u001b[0m \u001b[38;5;66;03m# It will take several minutes for the model to run.\u001b[39;00m\n",
      "File \u001b[0;32m~/Documents/SPARCED/SPARCED/src/simulation/run_model.py:42\u001b[0m, in \u001b[0;36mrun_experiment\u001b[0;34m(model_name, model_path, simulation_name, sbml_model, is_deterministic, exchange, population, duration, f_species, ligands, verbose, is_SPARCED, compound, dose)\u001b[0m\n\u001b[1;32m     40\u001b[0m cell_number \u001b[38;5;241m=\u001b[39m \u001b[38;5;241m0\u001b[39m\n\u001b[1;32m     41\u001b[0m \u001b[38;5;28;01mwhile\u001b[39;00m cell_number \u001b[38;5;241m<\u001b[39m \u001b[38;5;28mint\u001b[39m(population):\n\u001b[0;32m---> 42\u001b[0m     \u001b[43mrun_single_simulation\u001b[49m\u001b[43m(\u001b[49m\u001b[43mmodel\u001b[49m\u001b[43m,\u001b[49m\u001b[43m \u001b[49m\u001b[43msimulation_name\u001b[49m\u001b[43m,\u001b[49m\u001b[43m \u001b[49m\u001b[43mcell_number\u001b[49m\u001b[43m,\u001b[49m\u001b[43m \u001b[49m\u001b[43msbml_model\u001b[49m\u001b[43m,\u001b[49m\n\u001b[1;32m     43\u001b[0m \u001b[43m                          \u001b[49m\u001b[43mis_deterministic\u001b[49m\u001b[43m,\u001b[49m\u001b[43m \u001b[49m\u001b[43mexchange\u001b[49m\u001b[43m,\u001b[49m\u001b[43m \u001b[49m\u001b[43mduration\u001b[49m\u001b[43m,\u001b[49m\n\u001b[1;32m     44\u001b[0m \u001b[43m                          \u001b[49m\u001b[43mspecies_initial_conditions\u001b[49m\u001b[43m,\u001b[49m\u001b[43m \u001b[49m\u001b[43mverbose\u001b[49m\u001b[43m)\u001b[49m\n\u001b[1;32m     45\u001b[0m     cell_number \u001b[38;5;241m+\u001b[39m\u001b[38;5;241m=\u001b[39m \u001b[38;5;241m1\u001b[39m\n",
      "File \u001b[0;32m~/Documents/SPARCED/SPARCED/src/simulation/run_model.py:61\u001b[0m, in \u001b[0;36mrun_single_simulation\u001b[0;34m(model, simulation_name, simulation_number, sbml_model, is_deterministic, exchange, duration, species_initial_conditions, verbose)\u001b[0m\n\u001b[1;32m     58\u001b[0m     \u001b[38;5;28mprint\u001b[39m(\u001b[38;5;124m\"\u001b[39m\u001b[38;5;132;01m{name}\u001b[39;00m\u001b[38;5;124m n°\u001b[39m\u001b[38;5;132;01m{number}\u001b[39;00m\u001b[38;5;124m: Now ready to run\u001b[39m\u001b[38;5;130;01m\\n\u001b[39;00m\u001b[38;5;124m\"\u001b[39m\n\u001b[1;32m     59\u001b[0m           \u001b[38;5;241m.\u001b[39mformat(name\u001b[38;5;241m=\u001b[39msimulation_name, number\u001b[38;5;241m=\u001b[39msimulation_number))\n\u001b[1;32m     60\u001b[0m \u001b[38;5;66;03m# Run the simulation\u001b[39;00m\n\u001b[0;32m---> 61\u001b[0m xoutS_all, xoutG_all, tout_all \u001b[38;5;241m=\u001b[39m \u001b[43mRunSPARCED\u001b[49m\u001b[43m(\u001b[49m\u001b[43mis_deterministic\u001b[49m\u001b[43m,\u001b[49m\u001b[43m \u001b[49m\u001b[38;5;28;43mfloat\u001b[39;49m\u001b[43m(\u001b[49m\u001b[43mduration\u001b[49m\u001b[43m)\u001b[49m\u001b[43m,\u001b[49m\n\u001b[1;32m     62\u001b[0m \u001b[43m                                            \u001b[49m\u001b[43mspecies_initial_conditions\u001b[49m\u001b[43m,\u001b[49m\u001b[43m \u001b[49m\u001b[43m[\u001b[49m\u001b[43m]\u001b[49m\u001b[43m,\u001b[49m\n\u001b[1;32m     63\u001b[0m \u001b[43m                                            \u001b[49m\u001b[43msbml_model\u001b[49m\u001b[43m,\u001b[49m\u001b[43m \u001b[49m\u001b[43mmodel\u001b[49m\u001b[43m)\u001b[49m\n\u001b[1;32m     64\u001b[0m \u001b[38;5;28;01mif\u001b[39;00m verbose:\n\u001b[1;32m     65\u001b[0m     \u001b[38;5;28mprint\u001b[39m(\u001b[38;5;124m\"\u001b[39m\u001b[38;5;132;01m{name}\u001b[39;00m\u001b[38;5;124m n°\u001b[39m\u001b[38;5;132;01m{number}\u001b[39;00m\u001b[38;5;124m: Simulation is over. Now saving results, \u001b[39m\u001b[38;5;130;01m\\\u001b[39;00m\n\u001b[1;32m     66\u001b[0m \u001b[38;5;124m            please do not exit.\u001b[39m\u001b[38;5;130;01m\\n\u001b[39;00m\u001b[38;5;124m\"\u001b[39m\u001b[38;5;241m.\u001b[39mformat(name\u001b[38;5;241m=\u001b[39msimulation_name,\n\u001b[1;32m     67\u001b[0m                                           number\u001b[38;5;241m=\u001b[39msimulation_number))\n",
      "File \u001b[0;32m~/Documents/SPARCED/SPARCED/src/simulation/modules/RunSPARCED.py:28\u001b[0m, in \u001b[0;36mRunSPARCED\u001b[0;34m(flagD, th, spdata, genedata, sbml_file, model)\u001b[0m\n\u001b[1;32m     25\u001b[0m     spdata \u001b[38;5;241m=\u001b[39m np\u001b[38;5;241m.\u001b[39mfloat(spdata0\u001b[38;5;241m.\u001b[39mvalues[:,\u001b[38;5;241m1\u001b[39m])  \n\u001b[1;32m     27\u001b[0m \u001b[38;5;66;03m# calculate \u001b[39;00m\n\u001b[0;32m---> 28\u001b[0m genedata, GenePositionMatrix, AllGenesVec, kTCmaxs, kTCleak, kGin_1, kGac_1, kTCd, TARs0, tcnas, tcnrs, tck50as, tck50rs, spIDs \u001b[38;5;241m=\u001b[39m \u001b[43mRunPrep\u001b[49m\u001b[43m(\u001b[49m\u001b[43mflagD\u001b[49m\u001b[43m,\u001b[49m\u001b[43mVn\u001b[49m\u001b[43m,\u001b[49m\u001b[43mmodel\u001b[49m\u001b[43m)\u001b[49m  \n\u001b[1;32m     30\u001b[0m xoutS_all \u001b[38;5;241m=\u001b[39m np\u001b[38;5;241m.\u001b[39mzeros(shape\u001b[38;5;241m=\u001b[39m(NSteps\u001b[38;5;241m+\u001b[39m\u001b[38;5;241m1\u001b[39m,\u001b[38;5;28mlen\u001b[39m(spdata)))\n\u001b[1;32m     31\u001b[0m xoutS_all[\u001b[38;5;241m0\u001b[39m,:] \u001b[38;5;241m=\u001b[39m spdata \u001b[38;5;66;03m# 24hr time point\u001b[39;00m\n",
      "File \u001b[0;32m~/Documents/SPARCED/SPARCED/src/simulation/modules/RunPrep.py:5\u001b[0m, in \u001b[0;36mRunPrep\u001b[0;34m(flagD, Vn, model)\u001b[0m\n\u001b[1;32m      4\u001b[0m \u001b[38;5;28;01mdef\u001b[39;00m \u001b[38;5;21mRunPrep\u001b[39m(flagD,Vn,model):\n\u001b[0;32m----> 5\u001b[0m     kGsRead \u001b[38;5;241m=\u001b[39m \u001b[43mpd\u001b[49m\u001b[38;5;241;43m.\u001b[39;49m\u001b[43mread_csv\u001b[49m\u001b[43m(\u001b[49m\u001b[38;5;124;43m'\u001b[39;49m\u001b[38;5;124;43m./../data/simulation/OmicsData.txt\u001b[39;49m\u001b[38;5;124;43m'\u001b[39;49m\u001b[43m,\u001b[49m\u001b[43mheader\u001b[49m\u001b[38;5;241;43m=\u001b[39;49m\u001b[38;5;241;43m0\u001b[39;49m\u001b[43m,\u001b[49m\u001b[43mindex_col\u001b[49m\u001b[38;5;241;43m=\u001b[39;49m\u001b[38;5;241;43m0\u001b[39;49m\u001b[43m,\u001b[49m\u001b[43msep\u001b[49m\u001b[38;5;241;43m=\u001b[39;49m\u001b[38;5;124;43m\"\u001b[39;49m\u001b[38;5;130;43;01m\\t\u001b[39;49;00m\u001b[38;5;124;43m\"\u001b[39;49m\u001b[43m)\u001b[49m\n\u001b[1;32m      6\u001b[0m     gExp_mpc \u001b[38;5;241m=\u001b[39m np\u001b[38;5;241m.\u001b[39mfloat64(kGsRead\u001b[38;5;241m.\u001b[39mvalues[:,\u001b[38;5;241m0\u001b[39m])\n\u001b[1;32m      7\u001b[0m     mExp_mpc \u001b[38;5;241m=\u001b[39m np\u001b[38;5;241m.\u001b[39mfloat64(kGsRead\u001b[38;5;241m.\u001b[39mvalues[:,\u001b[38;5;241m1\u001b[39m])\n",
      "File \u001b[0;32m~/anaconda3/envs/sparced/lib/python3.12/site-packages/pandas/io/parsers/readers.py:1026\u001b[0m, in \u001b[0;36mread_csv\u001b[0;34m(filepath_or_buffer, sep, delimiter, header, names, index_col, usecols, dtype, engine, converters, true_values, false_values, skipinitialspace, skiprows, skipfooter, nrows, na_values, keep_default_na, na_filter, verbose, skip_blank_lines, parse_dates, infer_datetime_format, keep_date_col, date_parser, date_format, dayfirst, cache_dates, iterator, chunksize, compression, thousands, decimal, lineterminator, quotechar, quoting, doublequote, escapechar, comment, encoding, encoding_errors, dialect, on_bad_lines, delim_whitespace, low_memory, memory_map, float_precision, storage_options, dtype_backend)\u001b[0m\n\u001b[1;32m   1013\u001b[0m kwds_defaults \u001b[38;5;241m=\u001b[39m _refine_defaults_read(\n\u001b[1;32m   1014\u001b[0m     dialect,\n\u001b[1;32m   1015\u001b[0m     delimiter,\n\u001b[0;32m   (...)\u001b[0m\n\u001b[1;32m   1022\u001b[0m     dtype_backend\u001b[38;5;241m=\u001b[39mdtype_backend,\n\u001b[1;32m   1023\u001b[0m )\n\u001b[1;32m   1024\u001b[0m kwds\u001b[38;5;241m.\u001b[39mupdate(kwds_defaults)\n\u001b[0;32m-> 1026\u001b[0m \u001b[38;5;28;01mreturn\u001b[39;00m \u001b[43m_read\u001b[49m\u001b[43m(\u001b[49m\u001b[43mfilepath_or_buffer\u001b[49m\u001b[43m,\u001b[49m\u001b[43m \u001b[49m\u001b[43mkwds\u001b[49m\u001b[43m)\u001b[49m\n",
      "File \u001b[0;32m~/anaconda3/envs/sparced/lib/python3.12/site-packages/pandas/io/parsers/readers.py:620\u001b[0m, in \u001b[0;36m_read\u001b[0;34m(filepath_or_buffer, kwds)\u001b[0m\n\u001b[1;32m    617\u001b[0m _validate_names(kwds\u001b[38;5;241m.\u001b[39mget(\u001b[38;5;124m\"\u001b[39m\u001b[38;5;124mnames\u001b[39m\u001b[38;5;124m\"\u001b[39m, \u001b[38;5;28;01mNone\u001b[39;00m))\n\u001b[1;32m    619\u001b[0m \u001b[38;5;66;03m# Create the parser.\u001b[39;00m\n\u001b[0;32m--> 620\u001b[0m parser \u001b[38;5;241m=\u001b[39m \u001b[43mTextFileReader\u001b[49m\u001b[43m(\u001b[49m\u001b[43mfilepath_or_buffer\u001b[49m\u001b[43m,\u001b[49m\u001b[43m \u001b[49m\u001b[38;5;241;43m*\u001b[39;49m\u001b[38;5;241;43m*\u001b[39;49m\u001b[43mkwds\u001b[49m\u001b[43m)\u001b[49m\n\u001b[1;32m    622\u001b[0m \u001b[38;5;28;01mif\u001b[39;00m chunksize \u001b[38;5;129;01mor\u001b[39;00m iterator:\n\u001b[1;32m    623\u001b[0m     \u001b[38;5;28;01mreturn\u001b[39;00m parser\n",
      "File \u001b[0;32m~/anaconda3/envs/sparced/lib/python3.12/site-packages/pandas/io/parsers/readers.py:1620\u001b[0m, in \u001b[0;36mTextFileReader.__init__\u001b[0;34m(self, f, engine, **kwds)\u001b[0m\n\u001b[1;32m   1617\u001b[0m     \u001b[38;5;28mself\u001b[39m\u001b[38;5;241m.\u001b[39moptions[\u001b[38;5;124m\"\u001b[39m\u001b[38;5;124mhas_index_names\u001b[39m\u001b[38;5;124m\"\u001b[39m] \u001b[38;5;241m=\u001b[39m kwds[\u001b[38;5;124m\"\u001b[39m\u001b[38;5;124mhas_index_names\u001b[39m\u001b[38;5;124m\"\u001b[39m]\n\u001b[1;32m   1619\u001b[0m \u001b[38;5;28mself\u001b[39m\u001b[38;5;241m.\u001b[39mhandles: IOHandles \u001b[38;5;241m|\u001b[39m \u001b[38;5;28;01mNone\u001b[39;00m \u001b[38;5;241m=\u001b[39m \u001b[38;5;28;01mNone\u001b[39;00m\n\u001b[0;32m-> 1620\u001b[0m \u001b[38;5;28mself\u001b[39m\u001b[38;5;241m.\u001b[39m_engine \u001b[38;5;241m=\u001b[39m \u001b[38;5;28;43mself\u001b[39;49m\u001b[38;5;241;43m.\u001b[39;49m\u001b[43m_make_engine\u001b[49m\u001b[43m(\u001b[49m\u001b[43mf\u001b[49m\u001b[43m,\u001b[49m\u001b[43m \u001b[49m\u001b[38;5;28;43mself\u001b[39;49m\u001b[38;5;241;43m.\u001b[39;49m\u001b[43mengine\u001b[49m\u001b[43m)\u001b[49m\n",
      "File \u001b[0;32m~/anaconda3/envs/sparced/lib/python3.12/site-packages/pandas/io/parsers/readers.py:1880\u001b[0m, in \u001b[0;36mTextFileReader._make_engine\u001b[0;34m(self, f, engine)\u001b[0m\n\u001b[1;32m   1878\u001b[0m     \u001b[38;5;28;01mif\u001b[39;00m \u001b[38;5;124m\"\u001b[39m\u001b[38;5;124mb\u001b[39m\u001b[38;5;124m\"\u001b[39m \u001b[38;5;129;01mnot\u001b[39;00m \u001b[38;5;129;01min\u001b[39;00m mode:\n\u001b[1;32m   1879\u001b[0m         mode \u001b[38;5;241m+\u001b[39m\u001b[38;5;241m=\u001b[39m \u001b[38;5;124m\"\u001b[39m\u001b[38;5;124mb\u001b[39m\u001b[38;5;124m\"\u001b[39m\n\u001b[0;32m-> 1880\u001b[0m \u001b[38;5;28mself\u001b[39m\u001b[38;5;241m.\u001b[39mhandles \u001b[38;5;241m=\u001b[39m \u001b[43mget_handle\u001b[49m\u001b[43m(\u001b[49m\n\u001b[1;32m   1881\u001b[0m \u001b[43m    \u001b[49m\u001b[43mf\u001b[49m\u001b[43m,\u001b[49m\n\u001b[1;32m   1882\u001b[0m \u001b[43m    \u001b[49m\u001b[43mmode\u001b[49m\u001b[43m,\u001b[49m\n\u001b[1;32m   1883\u001b[0m \u001b[43m    \u001b[49m\u001b[43mencoding\u001b[49m\u001b[38;5;241;43m=\u001b[39;49m\u001b[38;5;28;43mself\u001b[39;49m\u001b[38;5;241;43m.\u001b[39;49m\u001b[43moptions\u001b[49m\u001b[38;5;241;43m.\u001b[39;49m\u001b[43mget\u001b[49m\u001b[43m(\u001b[49m\u001b[38;5;124;43m\"\u001b[39;49m\u001b[38;5;124;43mencoding\u001b[39;49m\u001b[38;5;124;43m\"\u001b[39;49m\u001b[43m,\u001b[49m\u001b[43m \u001b[49m\u001b[38;5;28;43;01mNone\u001b[39;49;00m\u001b[43m)\u001b[49m\u001b[43m,\u001b[49m\n\u001b[1;32m   1884\u001b[0m \u001b[43m    \u001b[49m\u001b[43mcompression\u001b[49m\u001b[38;5;241;43m=\u001b[39;49m\u001b[38;5;28;43mself\u001b[39;49m\u001b[38;5;241;43m.\u001b[39;49m\u001b[43moptions\u001b[49m\u001b[38;5;241;43m.\u001b[39;49m\u001b[43mget\u001b[49m\u001b[43m(\u001b[49m\u001b[38;5;124;43m\"\u001b[39;49m\u001b[38;5;124;43mcompression\u001b[39;49m\u001b[38;5;124;43m\"\u001b[39;49m\u001b[43m,\u001b[49m\u001b[43m \u001b[49m\u001b[38;5;28;43;01mNone\u001b[39;49;00m\u001b[43m)\u001b[49m\u001b[43m,\u001b[49m\n\u001b[1;32m   1885\u001b[0m \u001b[43m    \u001b[49m\u001b[43mmemory_map\u001b[49m\u001b[38;5;241;43m=\u001b[39;49m\u001b[38;5;28;43mself\u001b[39;49m\u001b[38;5;241;43m.\u001b[39;49m\u001b[43moptions\u001b[49m\u001b[38;5;241;43m.\u001b[39;49m\u001b[43mget\u001b[49m\u001b[43m(\u001b[49m\u001b[38;5;124;43m\"\u001b[39;49m\u001b[38;5;124;43mmemory_map\u001b[39;49m\u001b[38;5;124;43m\"\u001b[39;49m\u001b[43m,\u001b[49m\u001b[43m \u001b[49m\u001b[38;5;28;43;01mFalse\u001b[39;49;00m\u001b[43m)\u001b[49m\u001b[43m,\u001b[49m\n\u001b[1;32m   1886\u001b[0m \u001b[43m    \u001b[49m\u001b[43mis_text\u001b[49m\u001b[38;5;241;43m=\u001b[39;49m\u001b[43mis_text\u001b[49m\u001b[43m,\u001b[49m\n\u001b[1;32m   1887\u001b[0m \u001b[43m    \u001b[49m\u001b[43merrors\u001b[49m\u001b[38;5;241;43m=\u001b[39;49m\u001b[38;5;28;43mself\u001b[39;49m\u001b[38;5;241;43m.\u001b[39;49m\u001b[43moptions\u001b[49m\u001b[38;5;241;43m.\u001b[39;49m\u001b[43mget\u001b[49m\u001b[43m(\u001b[49m\u001b[38;5;124;43m\"\u001b[39;49m\u001b[38;5;124;43mencoding_errors\u001b[39;49m\u001b[38;5;124;43m\"\u001b[39;49m\u001b[43m,\u001b[49m\u001b[43m \u001b[49m\u001b[38;5;124;43m\"\u001b[39;49m\u001b[38;5;124;43mstrict\u001b[39;49m\u001b[38;5;124;43m\"\u001b[39;49m\u001b[43m)\u001b[49m\u001b[43m,\u001b[49m\n\u001b[1;32m   1888\u001b[0m \u001b[43m    \u001b[49m\u001b[43mstorage_options\u001b[49m\u001b[38;5;241;43m=\u001b[39;49m\u001b[38;5;28;43mself\u001b[39;49m\u001b[38;5;241;43m.\u001b[39;49m\u001b[43moptions\u001b[49m\u001b[38;5;241;43m.\u001b[39;49m\u001b[43mget\u001b[49m\u001b[43m(\u001b[49m\u001b[38;5;124;43m\"\u001b[39;49m\u001b[38;5;124;43mstorage_options\u001b[39;49m\u001b[38;5;124;43m\"\u001b[39;49m\u001b[43m,\u001b[49m\u001b[43m \u001b[49m\u001b[38;5;28;43;01mNone\u001b[39;49;00m\u001b[43m)\u001b[49m\u001b[43m,\u001b[49m\n\u001b[1;32m   1889\u001b[0m \u001b[43m\u001b[49m\u001b[43m)\u001b[49m\n\u001b[1;32m   1890\u001b[0m \u001b[38;5;28;01massert\u001b[39;00m \u001b[38;5;28mself\u001b[39m\u001b[38;5;241m.\u001b[39mhandles \u001b[38;5;129;01mis\u001b[39;00m \u001b[38;5;129;01mnot\u001b[39;00m \u001b[38;5;28;01mNone\u001b[39;00m\n\u001b[1;32m   1891\u001b[0m f \u001b[38;5;241m=\u001b[39m \u001b[38;5;28mself\u001b[39m\u001b[38;5;241m.\u001b[39mhandles\u001b[38;5;241m.\u001b[39mhandle\n",
      "File \u001b[0;32m~/anaconda3/envs/sparced/lib/python3.12/site-packages/pandas/io/common.py:873\u001b[0m, in \u001b[0;36mget_handle\u001b[0;34m(path_or_buf, mode, encoding, compression, memory_map, is_text, errors, storage_options)\u001b[0m\n\u001b[1;32m    868\u001b[0m \u001b[38;5;28;01melif\u001b[39;00m \u001b[38;5;28misinstance\u001b[39m(handle, \u001b[38;5;28mstr\u001b[39m):\n\u001b[1;32m    869\u001b[0m     \u001b[38;5;66;03m# Check whether the filename is to be opened in binary mode.\u001b[39;00m\n\u001b[1;32m    870\u001b[0m     \u001b[38;5;66;03m# Binary mode does not support 'encoding' and 'newline'.\u001b[39;00m\n\u001b[1;32m    871\u001b[0m     \u001b[38;5;28;01mif\u001b[39;00m ioargs\u001b[38;5;241m.\u001b[39mencoding \u001b[38;5;129;01mand\u001b[39;00m \u001b[38;5;124m\"\u001b[39m\u001b[38;5;124mb\u001b[39m\u001b[38;5;124m\"\u001b[39m \u001b[38;5;129;01mnot\u001b[39;00m \u001b[38;5;129;01min\u001b[39;00m ioargs\u001b[38;5;241m.\u001b[39mmode:\n\u001b[1;32m    872\u001b[0m         \u001b[38;5;66;03m# Encoding\u001b[39;00m\n\u001b[0;32m--> 873\u001b[0m         handle \u001b[38;5;241m=\u001b[39m \u001b[38;5;28;43mopen\u001b[39;49m\u001b[43m(\u001b[49m\n\u001b[1;32m    874\u001b[0m \u001b[43m            \u001b[49m\u001b[43mhandle\u001b[49m\u001b[43m,\u001b[49m\n\u001b[1;32m    875\u001b[0m \u001b[43m            \u001b[49m\u001b[43mioargs\u001b[49m\u001b[38;5;241;43m.\u001b[39;49m\u001b[43mmode\u001b[49m\u001b[43m,\u001b[49m\n\u001b[1;32m    876\u001b[0m \u001b[43m            \u001b[49m\u001b[43mencoding\u001b[49m\u001b[38;5;241;43m=\u001b[39;49m\u001b[43mioargs\u001b[49m\u001b[38;5;241;43m.\u001b[39;49m\u001b[43mencoding\u001b[49m\u001b[43m,\u001b[49m\n\u001b[1;32m    877\u001b[0m \u001b[43m            \u001b[49m\u001b[43merrors\u001b[49m\u001b[38;5;241;43m=\u001b[39;49m\u001b[43merrors\u001b[49m\u001b[43m,\u001b[49m\n\u001b[1;32m    878\u001b[0m \u001b[43m            \u001b[49m\u001b[43mnewline\u001b[49m\u001b[38;5;241;43m=\u001b[39;49m\u001b[38;5;124;43m\"\u001b[39;49m\u001b[38;5;124;43m\"\u001b[39;49m\u001b[43m,\u001b[49m\n\u001b[1;32m    879\u001b[0m \u001b[43m        \u001b[49m\u001b[43m)\u001b[49m\n\u001b[1;32m    880\u001b[0m     \u001b[38;5;28;01melse\u001b[39;00m:\n\u001b[1;32m    881\u001b[0m         \u001b[38;5;66;03m# Binary mode\u001b[39;00m\n\u001b[1;32m    882\u001b[0m         handle \u001b[38;5;241m=\u001b[39m \u001b[38;5;28mopen\u001b[39m(handle, ioargs\u001b[38;5;241m.\u001b[39mmode)\n",
      "\u001b[0;31mFileNotFoundError\u001b[0m: [Errno 2] No such file or directory: './../data/simulation/OmicsData.txt'"
     ]
    }
   ],
   "source": [
    "# Model and simulation names\n",
    "model_name = \"SPARCED\"\n",
    "simulation_name = \"tutorial\"\n",
    "# Path to input files\n",
    "f_species = \"../../SPARCED/data/core/Species.txt\"\n",
    "model_path = \"../../SPARCED/models/SPARCED-tutorial/amici_SPARCED\"\n",
    "sbml_model = \"../../SPARCED/models/SPARCED-tutorial/sbml_SPARCED.xml\"\n",
    "# Runtime options\n",
    "is_deterministic = True # False implies stochastic simulation\n",
    "exchange = 30 # Don't change this unless you are familiar with systems biology & models\n",
    "population = 1 # Size of the cell population to simulation, one cell is enough here\n",
    "duration = 1 # Duration of the simulated experiment, here 1 hour\n",
    "verbose = True\n",
    "is_SPARCED = True\n",
    "# Additional arguments to run experiments involving drugs\n",
    "# This part is not covered in this tutorial\n",
    "compound = None\n",
    "dose = None\n",
    "# Call the run experimentfunction\n",
    "run_experiment(model_name, model_path, simulation_name, sbml_model, is_deterministic, exchange,\n",
    "               population, duration, f_species, ligands, verbose, is_SPARCED, compound, dose)\n",
    "# It will take several minutes for the model to run."
   ]
  },
  {
   "cell_type": "markdown",
   "id": "d9b8abd6-7e8e-49ff-b9aa-0edf23d82a07",
   "metadata": {},
   "source": [
    "Although this might seem overwhelming, note that you may simply call the ```launch_experiment_simulation``` function from your script or the command line, which will collect all the default values and arguments you pass, process these and call the ```run_experiment``` function for you.\n",
    "We are not using it here to demonstrate which arguments the ```run_experiment``` function needs. A call to ```launch_experiment_simulation``` looks as simple as this:"
   ]
  },
  {
   "cell_type": "code",
   "execution_count": 7,
   "id": "a9e70250-bb28-4b37-9418-f88fd970c013",
   "metadata": {},
   "outputs": [],
   "source": [
    "# WARNING: the Notebook doesn\"t handle well command-line arguments\n",
    "# See the __main__.py file for a working example\n",
    "# launch_experiment_simulation(ligands)"
   ]
  },
  {
   "cell_type": "markdown",
   "id": "feaa92b7-ea76-4deb-b0af-17be86c38471",
   "metadata": {},
   "source": []
  }
 ],
 "metadata": {
  "kernelspec": {
   "display_name": "Python 3 (ipykernel)",
   "language": "python",
   "name": "python3"
  },
  "language_info": {
   "codemirror_mode": {
    "name": "ipython",
    "version": 3
   },
   "file_extension": ".py",
   "mimetype": "text/x-python",
   "name": "python",
   "nbconvert_exporter": "python",
   "pygments_lexer": "ipython3",
   "version": "3.12.2"
  }
 },
 "nbformat": 4,
 "nbformat_minor": 5
}
