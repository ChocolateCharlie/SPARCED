{
 "cells": [
  {
   "cell_type": "markdown",
   "id": "4640375a-adb5-4dcf-8725-c584f83330ce",
   "metadata": {},
   "source": [
    "# SPARCED's Interactive Tutorial"
   ]
  },
  {
   "cell_type": "markdown",
   "id": "803e1496-256e-4d1c-8f3b-6675d361684b",
   "metadata": {},
   "source": [
    "Welcome to SPARCED!\n",
    "\n",
    "This tutorial covers the internals of SPARCED's pipeline, including compilation and simulation. It aims to explain:\n",
    "  - which steps are followed to compile and run the model\n",
    "  - which arguments are required\n",
    "  - how those arguments are processed"
   ]
  },
  {
   "cell_type": "markdown",
   "id": "9ca63fe2-3428-46cd-a43c-531e66e66e6b",
   "metadata": {},
   "source": [
    "## (Optional) Place yourself into the correct folder"
   ]
  },
  {
   "cell_type": "markdown",
   "id": "834cdf7e-4ce1-4013-80d0-c7eb7b2861e6",
   "metadata": {},
   "source": [
    "SPARCED is designed to be run from the ```SPARCED/src``` subfolder. If you want to run SPARCED from elsewhere (which is the case of this tutorial, that is located by default in the ```examples/notebooks``` subfolder), you will first need to add a path to that folder."
   ]
  },
  {
   "cell_type": "markdown",
   "id": "28e816ec-bd36-4f3b-92b7-8cffb4eab2d7",
   "metadata": {},
   "source": [
    "**WARNING:** If you moved this tutorial from its default location, please make sure the relative path is still correct."
   ]
  },
  {
   "cell_type": "code",
   "execution_count": 1,
   "id": "bb08ce48-b387-435d-bc82-377d14df6569",
   "metadata": {},
   "outputs": [],
   "source": [
    "import os\n",
    "import sys\n",
    "\n",
    "from pathlib import Path\n",
    "import yaml\n",
    "\n",
    "sys.path.insert(0, os.path.abspath(\"../../SPARCED/src\"))"
   ]
  },
  {
   "cell_type": "markdown",
   "id": "26a6631b-780d-45cf-9dc5-195a6dfd1580",
   "metadata": {},
   "source": [
    "## 0 - Imports"
   ]
  },
  {
   "cell_type": "markdown",
   "id": "f6060f36-3b64-4751-bea0-7259df00a047",
   "metadata": {},
   "source": [
    "It is a good practice to add the imports at the beginning of your script or notebook."
   ]
  },
  {
   "cell_type": "code",
   "execution_count": 2,
   "id": "c3190d5e-16a5-4f52-8f95-37b81856d8cc",
   "metadata": {},
   "outputs": [],
   "source": [
    "# Step 1: model creation\n",
    "from compilation.launcher import load_compilation_input_files\n",
    "from compilation.create_model import create_model\n",
    "# Step 2: model simulation\n",
    "from simulation.launchers import load_simulation_input_files\n",
    "from simulation.run_model import run_experiment"
   ]
  },
  {
   "cell_type": "markdown",
   "id": "61986548-5af7-460d-8c13-1de4b8b0b376",
   "metadata": {},
   "source": [
    "## 1 - Create the Model: Compilation"
   ]
  },
  {
   "cell_type": "markdown",
   "id": "ea2203ed-4b34-498d-a577-f89b79c5803c",
   "metadata": {},
   "source": [
    "### Overview"
   ]
  },
  {
   "cell_type": "markdown",
   "id": "b61b8851-d164-48f5-b05e-d96b7bb4bc91",
   "metadata": {},
   "source": [
    "The model creation pipeline works as follow:\n",
    "  1. Some TSV (tab separated values) **input files** are read to generate an Antimony model.\n",
    "  2. Next, this **Antimony model** is converted into SBML format.\n",
    "  3. Finally, the **SBML model** is compiled into an AMICI model\n",
    "SPARCED can only run if an **AMICI model** was generated.\n",
    "\n",
    "_NB: Although it is possible to run SPARCED starting from an Antimony or an SBML file, in this tutorial will only cover how to create a SPARCED model from the input files._"
   ]
  },
  {
   "cell_type": "markdown",
   "id": "e338831a-3e04-4236-845f-9400038f3fd3",
   "metadata": {},
   "source": [
    "### Details"
   ]
  },
  {
   "cell_type": "markdown",
   "id": "eb19f038-3a6a-4a61-9cf4-ffa70cc508bc",
   "metadata": {},
   "source": [
    "Instead of using the launcher, we will cover what it does by directly calling the ```create_model()``` function."
   ]
  },
  {
   "cell_type": "code",
   "execution_count": 3,
   "id": "95f4045b-4641-42f8-9ac1-b84a7975f728",
   "metadata": {},
   "outputs": [
    {
     "name": "stdout",
     "output_type": "stream",
     "text": [
      "WARNING: Subfolder doesn't exist yet. This is normal if you are creating a new subfolder.\n",
      "Subfolder name: ant_SPARCED_tutorial.txt.\n",
      "SPARCED_tutorial: Success loading Antimony file\n",
      "WARNING: Subfolder doesn't exist yet. This is normal if you are creating a new subfolder.\n",
      "Subfolder name: sbml_SPARCED_tutorial.xml.\n",
      "SPARCED_tutorial: Success converting Antimony file to SBML\n",
      "WARNING: Subfolder doesn't exist yet. This is normal if you are creating a new subfolder.\n",
      "Subfolder name: amici_SPARCED_tutorial.\n"
     ]
    },
    {
     "name": "stderr",
     "output_type": "stream",
     "text": [
      "2024-05-22 18:18:35.761 - amici.sbml_import - INFO - Finished gathering local SBML symbols        + (8.60E+00s)\n",
      "2024-05-22 18:18:35.989 - amici.sbml_import - INFO - Finished processing SBML parameters          + (2.19E-01s)\n",
      "2024-05-22 18:18:36.001 - amici.sbml_import - INFO - Finished processing SBML compartments        + (6.53E-04s)\n",
      "2024-05-22 18:18:37.619 - amici.sbml_import - INFO - Finished processing SBML species initials   ++ (1.52E+00s)\n",
      "2024-05-22 18:18:37.626 - amici.sbml_import - INFO - Finished processing SBML rate rules         ++ (2.92E-05s)\n",
      "2024-05-22 18:18:37.627 - amici.sbml_import - INFO - Finished processing SBML species             + (1.62E+00s)\n",
      "2024-05-22 18:18:38.955 - amici.sbml_import - INFO - Finished processing SBML reactions           + (1.32E+00s)\n",
      "2024-05-22 18:18:40.619 - amici.sbml_import - INFO - Finished processing SBML rules               + (1.65E+00s)\n",
      "2024-05-22 18:18:40.626 - amici.sbml_import - INFO - Finished processing SBML initial assignments + (5.01E-05s)\n",
      "2024-05-22 18:18:41.233 - amici.sbml_import - INFO - Finished processing SBML species references  + (5.99E-01s)\n",
      "2024-05-22 18:18:41.234 - amici.sbml_import - INFO - Finished importing SBML                        (1.41E+01s)\n",
      "2024-05-22 18:18:53.085 - amici.sbml_import - INFO - Finished processing SBML observables           (1.18E+01s)\n",
      "2024-05-22 18:21:31.118 - amici.ode_export - INFO - Finished running smart_multiply               + (2.43E+00s)\n",
      "2024-05-22 18:22:03.904 - amici.ode_export - INFO - Finished importing SbmlImporter                 (3.54E+01s)\n",
      "2024-05-22 18:22:19.684 - amici.ode_export - INFO - Finished simplifying Jy                     +++ (1.57E+01s)\n",
      "2024-05-22 18:22:19.685 - amici.ode_export - INFO - Finished computing Jy                        ++ (1.57E+01s)\n",
      "2024-05-22 18:22:29.469 - amici.ode_export - INFO - Finished writing Jy.cpp                       + (2.55E+01s)\n",
      "2024-05-22 18:24:26.442 - amici.ode_export - INFO - Finished running smart_jacobian             +++ (1.17E+02s)\n",
      "2024-05-22 18:24:45.233 - amici.ode_export - INFO - Finished simplifying dJydsigmay             +++ (1.88E+01s)\n",
      "2024-05-22 18:24:45.237 - amici.ode_export - INFO - Finished computing dJydsigmay                ++ (1.36E+02s)\n",
      "2024-05-22 18:25:01.174 - amici.ode_export - INFO - Finished writing dJydsigmay.cpp               + (1.52E+02s)\n",
      "2024-05-22 18:26:47.220 - amici.ode_export - INFO - Finished running smart_jacobian             +++ (1.06E+02s)\n",
      "2024-05-22 18:27:12.944 - amici.ode_export - INFO - Finished simplifying dJydy                  +++ (2.57E+01s)\n",
      "2024-05-22 18:27:12.947 - amici.ode_export - INFO - Finished computing dJydy                     ++ (1.32E+02s)\n",
      "2024-05-22 18:27:27.094 - amici.ode_export - INFO - Finished writing dJydy.cpp                    + (1.46E+02s)\n",
      "2024-05-22 18:27:27.367 - amici.ode_export - INFO - Finished simplifying root                   +++ (8.28E-05s)\n",
      "2024-05-22 18:27:27.368 - amici.ode_export - INFO - Finished computing root                      ++ (1.06E-02s)\n",
      "2024-05-22 18:27:27.370 - amici.ode_export - INFO - Finished writing root.cpp                     + (2.13E-02s)\n",
      "2024-05-22 18:27:35.103 - amici.ode_export - INFO - Finished simplifying w                    +++++ (7.64E+00s)\n",
      "2024-05-22 18:27:35.105 - amici.ode_export - INFO - Finished computing w                       ++++ (7.69E+00s)\n",
      "2024-05-22 18:33:37.885 - amici.ode_export - INFO - Finished running smart_jacobian            ++++ (3.63E+02s)\n",
      "2024-05-22 18:35:07.114 - amici.ode_export - INFO - Finished simplifying dwdp                  ++++ (8.92E+01s)\n",
      "2024-05-22 18:35:07.131 - amici.ode_export - INFO - Finished computing dwdp                     +++ (4.60E+02s)\n",
      "2024-05-22 18:35:35.636 - amici.ode_export - INFO - Finished running smart_jacobian            ++++ (2.85E+01s)\n",
      "2024-05-22 18:35:39.426 - amici.ode_export - INFO - Finished simplifying dwdtcl                ++++ (3.78E+00s)\n",
      "2024-05-22 18:35:39.428 - amici.ode_export - INFO - Finished computing dwdtcl                   +++ (3.23E+01s)\n",
      "2024-05-22 18:36:45.256 - amici.ode_export - INFO - Finished simplifying dwdp                   +++ (6.41E+01s)\n",
      "2024-05-22 18:36:45.262 - amici.ode_export - INFO - Finished computing dwdp                      ++ (5.58E+02s)\n",
      "2024-05-22 18:37:15.164 - amici.ode_export - INFO - Finished writing dwdp.cpp                     + (5.88E+02s)\n",
      "2024-05-22 18:38:57.912 - amici.ode_export - INFO - Finished running smart_jacobian             +++ (1.03E+02s)\n",
      "2024-05-22 18:39:22.068 - amici.ode_export - INFO - Finished simplifying dwdx                   +++ (2.41E+01s)\n",
      "2024-05-22 18:39:22.074 - amici.ode_export - INFO - Finished computing dwdx                      ++ (1.27E+02s)\n",
      "2024-05-22 18:39:33.077 - amici.ode_export - INFO - Finished writing dwdx.cpp                     + (1.38E+02s)\n",
      "2024-05-22 18:46:04.145 - amici.ode_export - INFO - Finished running smart_jacobian             +++ (3.91E+02s)\n",
      "2024-05-22 18:50:57.956 - amici.ode_export - INFO - Finished simplifying dwdw                   +++ (6.75E+01s)\n",
      "2024-05-22 18:50:57.957 - amici.ode_export - INFO - Finished computing dwdw                      ++ (6.85E+02s)\n",
      "2024-05-22 18:51:23.050 - amici.ode_export - INFO - Finished writing dwdw.cpp                     + (7.10E+02s)\n",
      "2024-05-22 18:51:27.816 - amici.ode_export - INFO - Finished simplifying xdot                   +++ (4.62E+00s)\n",
      "2024-05-22 18:51:27.817 - amici.ode_export - INFO - Finished computing xdot                      ++ (4.72E+00s)\n",
      "2024-05-22 18:51:44.142 - amici.ode_export - INFO - Finished writing dxdotdw.cpp                  + (2.11E+01s)\n",
      "2024-05-22 18:51:44.212 - amici.ode_export - INFO - Finished running smart_jacobian             +++ (3.91E-02s)\n",
      "2024-05-22 18:51:51.113 - amici.ode_export - INFO - Finished simplifying dxdotdx_explicit       +++ (6.89E+00s)\n",
      "2024-05-22 18:51:51.114 - amici.ode_export - INFO - Finished computing dxdotdx_explicit          ++ (6.95E+00s)\n",
      "2024-05-22 18:51:54.176 - amici.ode_export - INFO - Finished writing dxdotdx_explicit.cpp         + (1.00E+01s)\n",
      "2024-05-22 18:51:54.321 - amici.ode_export - INFO - Finished running smart_jacobian             +++ (6.57E-02s)\n",
      "2024-05-22 18:52:16.458 - amici.ode_export - INFO - Finished simplifying dxdotdp_explicit       +++ (2.21E+01s)\n",
      "2024-05-22 18:52:16.459 - amici.ode_export - INFO - Finished computing dxdotdp_explicit          ++ (2.22E+01s)\n",
      "2024-05-22 18:52:26.668 - amici.ode_export - INFO - Finished writing dxdotdp_explicit.cpp         + (3.25E+01s)\n",
      "2024-05-22 18:52:26.794 - amici.ode_export - INFO - Finished simplifying y                    +++++ (1.16E-02s)\n",
      "2024-05-22 18:52:26.795 - amici.ode_export - INFO - Finished computing y                       ++++ (3.92E-02s)\n",
      "2024-05-22 18:52:58.551 - amici.ode_export - INFO - Finished running smart_jacobian            ++++ (3.17E+01s)\n",
      "2024-05-22 18:53:05.471 - amici.ode_export - INFO - Finished simplifying dydx                  ++++ (6.91E+00s)\n",
      "2024-05-22 18:53:05.472 - amici.ode_export - INFO - Finished computing dydx                     +++ (3.87E+01s)\n",
      "2024-05-22 18:54:56.972 - amici.ode_export - INFO - Finished running smart_jacobian            ++++ (1.11E+02s)\n",
      "2024-05-22 18:54:57.982 - amici.ode_export - INFO - Finished running smart_multiply            ++++ (6.10E-01s)\n",
      "2024-05-22 18:55:21.245 - amici.ode_export - INFO - Finished simplifying dydw                  ++++ (2.28E+01s)\n",
      "2024-05-22 18:55:21.246 - amici.ode_export - INFO - Finished computing dydw                     +++ (1.36E+02s)\n",
      "2024-05-22 18:55:23.404 - amici.ode_export - INFO - Finished running smart_multiply             +++ (1.77E+00s)\n",
      "2024-05-22 18:55:29.579 - amici.ode_export - INFO - Finished simplifying dydx                   +++ (6.16E+00s)\n",
      "2024-05-22 18:55:29.580 - amici.ode_export - INFO - Finished computing dydx                      ++ (1.83E+02s)\n",
      "2024-05-22 18:55:34.195 - amici.ode_export - INFO - Finished writing dydx.cpp                     + (1.88E+02s)\n",
      "2024-05-22 18:55:34.245 - amici.ode_export - INFO - Finished running smart_jacobian            ++++ (1.82E-02s)\n",
      "2024-05-22 18:55:55.651 - amici.ode_export - INFO - Finished simplifying dydp                  ++++ (2.14E+01s)\n",
      "2024-05-22 18:55:55.652 - amici.ode_export - INFO - Finished computing dydp                     +++ (2.14E+01s)\n",
      "2024-05-22 18:55:57.210 - amici.ode_export - INFO - Finished running smart_multiply             +++ (1.02E+00s)\n",
      "2024-05-22 18:56:17.135 - amici.ode_export - INFO - Finished simplifying dydp                   +++ (1.99E+01s)\n",
      "2024-05-22 18:56:17.136 - amici.ode_export - INFO - Finished computing dydp                      ++ (4.29E+01s)\n",
      "2024-05-22 18:56:19.837 - amici.ode_export - INFO - Finished writing dydp.cpp                     + (4.56E+01s)\n",
      "2024-05-22 18:56:19.931 - amici.ode_export - INFO - Finished simplifying sigmay                ++++ (1.91E-02s)\n",
      "2024-05-22 18:56:19.935 - amici.ode_export - INFO - Finished computing sigmay                   +++ (5.89E-02s)\n",
      "2024-05-22 18:56:19.983 - amici.ode_export - INFO - Finished running smart_jacobian             +++ (3.36E-02s)\n",
      "2024-05-22 18:56:43.689 - amici.ode_export - INFO - Finished simplifying dsigmaydp              +++ (2.37E+01s)\n",
      "2024-05-22 18:56:43.691 - amici.ode_export - INFO - Finished computing dsigmaydp                 ++ (2.38E+01s)\n",
      "2024-05-22 18:56:45.792 - amici.ode_export - INFO - Finished writing dsigmaydp.cpp                + (2.59E+01s)\n",
      "2024-05-22 18:56:46.164 - amici.ode_export - INFO - Finished writing sigmay.cpp                   + (3.62E-01s)\n",
      "2024-05-22 18:56:46.181 - amici.ode_export - INFO - Finished computing stau                      ++ (1.32E-04s)\n",
      "2024-05-22 18:56:46.182 - amici.ode_export - INFO - Finished writing stau.cpp                     + (1.05E-02s)\n",
      "2024-05-22 18:56:46.213 - amici.ode_export - INFO - Finished computing deltasx                   ++ (1.50E-04s)\n",
      "2024-05-22 18:56:46.214 - amici.ode_export - INFO - Finished writing deltasx.cpp                  + (1.76E-02s)\n",
      "2024-05-22 18:56:48.029 - amici.ode_export - INFO - Finished writing w.cpp                        + (1.80E+00s)\n",
      "2024-05-22 18:56:48.078 - amici.ode_export - INFO - Finished simplifying x0                     +++ (1.10E-02s)\n",
      "2024-05-22 18:56:48.084 - amici.ode_export - INFO - Finished computing x0                        ++ (4.21E-02s)\n",
      "2024-05-22 18:56:48.453 - amici.ode_export - INFO - Finished writing x0.cpp                       + (4.17E-01s)\n",
      "2024-05-22 18:56:48.486 - amici.ode_export - INFO - Finished simplifying x0_fixedParameters     +++ (8.12E-05s)\n",
      "2024-05-22 18:56:48.486 - amici.ode_export - INFO - Finished computing x0_fixedParameters        ++ (1.42E-02s)\n",
      "2024-05-22 18:56:48.487 - amici.ode_export - INFO - Finished writing x0_fixedParameters.cpp       + (2.26E-02s)\n",
      "2024-05-22 18:56:48.552 - amici.ode_export - INFO - Finished running smart_jacobian             +++ (2.91E-02s)\n",
      "2024-05-22 18:57:12.113 - amici.ode_export - INFO - Finished simplifying sx0                    +++ (2.35E+01s)\n",
      "2024-05-22 18:57:12.114 - amici.ode_export - INFO - Finished computing sx0                       ++ (2.36E+01s)\n",
      "2024-05-22 18:57:14.923 - amici.ode_export - INFO - Finished writing sx0.cpp                      + (2.64E+01s)\n",
      "2024-05-22 18:57:14.951 - amici.ode_export - INFO - Finished running smart_jacobian             +++ (3.73E-05s)\n",
      "2024-05-22 18:57:14.959 - amici.ode_export - INFO - Finished running smart_jacobian             +++ (3.34E-05s)\n",
      "2024-05-22 18:57:14.969 - amici.ode_export - INFO - Finished simplifying sx0_fixedParameters    +++ (1.36E-04s)\n",
      "2024-05-22 18:57:14.969 - amici.ode_export - INFO - Finished computing sx0_fixedParameters       ++ (2.80E-02s)\n",
      "2024-05-22 18:57:14.970 - amici.ode_export - INFO - Finished writing sx0_fixedParameters.cpp      + (3.75E-02s)\n",
      "2024-05-22 18:57:19.180 - amici.ode_export - INFO - Finished writing xdot.cpp                     + (4.20E+00s)\n",
      "2024-05-22 18:57:19.910 - amici.ode_export - INFO - Finished writing y.cpp                        + (6.90E-01s)\n",
      "2024-05-22 18:57:20.060 - amici.ode_export - INFO - Finished simplifying x_rdata                +++ (2.43E-02s)\n",
      "2024-05-22 18:57:20.063 - amici.ode_export - INFO - Finished computing x_rdata                   ++ (7.55E-02s)\n",
      "2024-05-22 18:57:20.534 - amici.ode_export - INFO - Finished writing x_rdata.cpp                  + (5.67E-01s)\n",
      "2024-05-22 18:57:20.599 - amici.ode_export - INFO - Finished simplifying total_cl               +++ (1.79E-03s)\n",
      "2024-05-22 18:57:20.600 - amici.ode_export - INFO - Finished computing total_cl                  ++ (2.16E-02s)\n",
      "2024-05-22 18:57:20.672 - amici.ode_export - INFO - Finished writing total_cl.cpp                 + (1.17E-01s)\n",
      "2024-05-22 18:57:20.729 - amici.ode_export - INFO - Finished simplifying x_solver               +++ (1.08E-02s)\n",
      "2024-05-22 18:57:20.731 - amici.ode_export - INFO - Finished computing x_solver                  ++ (3.29E-02s)\n",
      "2024-05-22 18:57:21.018 - amici.ode_export - INFO - Finished writing x_solver.cpp                 + (3.33E-01s)\n",
      "2024-05-22 18:57:32.709 - amici.ode_export - INFO - Finished generating cpp code                    (2.13E+03s)\n",
      "2024-05-22 18:58:40.211 - amici.ode_export - INFO - Finished compiling cpp code                     (6.75E+01s)\n"
     ]
    },
    {
     "name": "stdout",
     "output_type": "stream",
     "text": [
      "running build_ext\n",
      "Changed extra_compile_args for unix to ['-fopenmp', '-std=c++14']\n",
      "building 'SPARCED_tutorial._SPARCED_tutorial' extension\n",
      "Testing SWIG executable swig4.0... SUCCEEDED.\n",
      "swigging swig/SPARCED_tutorial.i to swig/SPARCED_tutorial_wrap.cpp\n",
      "swig4.0 -python -c++ -modern -outdir SPARCED_tutorial -I/home/chocolatecharlie/anaconda3/envs/sparced/lib/python3.12/site-packages/amici/swig -I/home/chocolatecharlie/anaconda3/envs/sparced/lib/python3.12/site-packages/amici/include -o swig/SPARCED_tutorial_wrap.cpp swig/SPARCED_tutorial.i\n",
      "Deprecated command line option: -modern. This option is now always on.\n",
      "creating build\n",
      "creating build/temp.linux-x86_64-cpython-312\n",
      "creating build/temp.linux-x86_64-cpython-312/swig\n",
      "gcc -pthread -B /home/chocolatecharlie/anaconda3/envs/sparced/compiler_compat -fno-strict-overflow -DNDEBUG -O2 -Wall -fPIC -O2 -isystem /home/chocolatecharlie/anaconda3/envs/sparced/include -fPIC -O2 -isystem /home/chocolatecharlie/anaconda3/envs/sparced/include -fPIC -I/home/chocolatecharlie/Documents/SPARCED/SPARCED/models/SPARCED_tutorial/amici_SPARCED_tutorial -I/home/chocolatecharlie/anaconda3/envs/sparced/lib/python3.12/site-packages/amici/include -I/home/chocolatecharlie/anaconda3/envs/sparced/lib/python3.12/site-packages/amici/ThirdParty/gsl -I/home/chocolatecharlie/anaconda3/envs/sparced/lib/python3.12/site-packages/amici/ThirdParty/sundials/include -I/home/chocolatecharlie/anaconda3/envs/sparced/lib/python3.12/site-packages/amici/ThirdParty/SuiteSparse/include -I/home/chocolatecharlie/anaconda3/envs/sparced/include/python3.12 -c SPARCED_tutorial.cpp -o build/temp.linux-x86_64-cpython-312/SPARCED_tutorial.o -fopenmp -std=c++14\n",
      "gcc -pthread -B /home/chocolatecharlie/anaconda3/envs/sparced/compiler_compat -fno-strict-overflow -DNDEBUG -O2 -Wall -fPIC -O2 -isystem /home/chocolatecharlie/anaconda3/envs/sparced/include -fPIC -O2 -isystem /home/chocolatecharlie/anaconda3/envs/sparced/include -fPIC -I/home/chocolatecharlie/Documents/SPARCED/SPARCED/models/SPARCED_tutorial/amici_SPARCED_tutorial -I/home/chocolatecharlie/anaconda3/envs/sparced/lib/python3.12/site-packages/amici/include -I/home/chocolatecharlie/anaconda3/envs/sparced/lib/python3.12/site-packages/amici/ThirdParty/gsl -I/home/chocolatecharlie/anaconda3/envs/sparced/lib/python3.12/site-packages/amici/ThirdParty/sundials/include -I/home/chocolatecharlie/anaconda3/envs/sparced/lib/python3.12/site-packages/amici/ThirdParty/SuiteSparse/include -I/home/chocolatecharlie/anaconda3/envs/sparced/include/python3.12 -c SPARCED_tutorial_Jy.cpp -o build/temp.linux-x86_64-cpython-312/SPARCED_tutorial_Jy.o -fopenmp -std=c++14\n",
      "gcc -pthread -B /home/chocolatecharlie/anaconda3/envs/sparced/compiler_compat -fno-strict-overflow -DNDEBUG -O2 -Wall -fPIC -O2 -isystem /home/chocolatecharlie/anaconda3/envs/sparced/include -fPIC -O2 -isystem /home/chocolatecharlie/anaconda3/envs/sparced/include -fPIC -I/home/chocolatecharlie/Documents/SPARCED/SPARCED/models/SPARCED_tutorial/amici_SPARCED_tutorial -I/home/chocolatecharlie/anaconda3/envs/sparced/lib/python3.12/site-packages/amici/include -I/home/chocolatecharlie/anaconda3/envs/sparced/lib/python3.12/site-packages/amici/ThirdParty/gsl -I/home/chocolatecharlie/anaconda3/envs/sparced/lib/python3.12/site-packages/amici/ThirdParty/sundials/include -I/home/chocolatecharlie/anaconda3/envs/sparced/lib/python3.12/site-packages/amici/ThirdParty/SuiteSparse/include -I/home/chocolatecharlie/anaconda3/envs/sparced/include/python3.12 -c SPARCED_tutorial_dJydsigmay.cpp -o build/temp.linux-x86_64-cpython-312/SPARCED_tutorial_dJydsigmay.o -fopenmp -std=c++14\n",
      "gcc -pthread -B /home/chocolatecharlie/anaconda3/envs/sparced/compiler_compat -fno-strict-overflow -DNDEBUG -O2 -Wall -fPIC -O2 -isystem /home/chocolatecharlie/anaconda3/envs/sparced/include -fPIC -O2 -isystem /home/chocolatecharlie/anaconda3/envs/sparced/include -fPIC -I/home/chocolatecharlie/Documents/SPARCED/SPARCED/models/SPARCED_tutorial/amici_SPARCED_tutorial -I/home/chocolatecharlie/anaconda3/envs/sparced/lib/python3.12/site-packages/amici/include -I/home/chocolatecharlie/anaconda3/envs/sparced/lib/python3.12/site-packages/amici/ThirdParty/gsl -I/home/chocolatecharlie/anaconda3/envs/sparced/lib/python3.12/site-packages/amici/ThirdParty/sundials/include -I/home/chocolatecharlie/anaconda3/envs/sparced/lib/python3.12/site-packages/amici/ThirdParty/SuiteSparse/include -I/home/chocolatecharlie/anaconda3/envs/sparced/include/python3.12 -c SPARCED_tutorial_dJydy.cpp -o build/temp.linux-x86_64-cpython-312/SPARCED_tutorial_dJydy.o -fopenmp -std=c++14\n",
      "gcc -pthread -B /home/chocolatecharlie/anaconda3/envs/sparced/compiler_compat -fno-strict-overflow -DNDEBUG -O2 -Wall -fPIC -O2 -isystem /home/chocolatecharlie/anaconda3/envs/sparced/include -fPIC -O2 -isystem /home/chocolatecharlie/anaconda3/envs/sparced/include -fPIC -I/home/chocolatecharlie/Documents/SPARCED/SPARCED/models/SPARCED_tutorial/amici_SPARCED_tutorial -I/home/chocolatecharlie/anaconda3/envs/sparced/lib/python3.12/site-packages/amici/include -I/home/chocolatecharlie/anaconda3/envs/sparced/lib/python3.12/site-packages/amici/ThirdParty/gsl -I/home/chocolatecharlie/anaconda3/envs/sparced/lib/python3.12/site-packages/amici/ThirdParty/sundials/include -I/home/chocolatecharlie/anaconda3/envs/sparced/lib/python3.12/site-packages/amici/ThirdParty/SuiteSparse/include -I/home/chocolatecharlie/anaconda3/envs/sparced/include/python3.12 -c SPARCED_tutorial_dJydy_colptrs.cpp -o build/temp.linux-x86_64-cpython-312/SPARCED_tutorial_dJydy_colptrs.o -fopenmp -std=c++14\n",
      "gcc -pthread -B /home/chocolatecharlie/anaconda3/envs/sparced/compiler_compat -fno-strict-overflow -DNDEBUG -O2 -Wall -fPIC -O2 -isystem /home/chocolatecharlie/anaconda3/envs/sparced/include -fPIC -O2 -isystem /home/chocolatecharlie/anaconda3/envs/sparced/include -fPIC -I/home/chocolatecharlie/Documents/SPARCED/SPARCED/models/SPARCED_tutorial/amici_SPARCED_tutorial -I/home/chocolatecharlie/anaconda3/envs/sparced/lib/python3.12/site-packages/amici/include -I/home/chocolatecharlie/anaconda3/envs/sparced/lib/python3.12/site-packages/amici/ThirdParty/gsl -I/home/chocolatecharlie/anaconda3/envs/sparced/lib/python3.12/site-packages/amici/ThirdParty/sundials/include -I/home/chocolatecharlie/anaconda3/envs/sparced/lib/python3.12/site-packages/amici/ThirdParty/SuiteSparse/include -I/home/chocolatecharlie/anaconda3/envs/sparced/include/python3.12 -c SPARCED_tutorial_dJydy_rowvals.cpp -o build/temp.linux-x86_64-cpython-312/SPARCED_tutorial_dJydy_rowvals.o -fopenmp -std=c++14\n",
      "gcc -pthread -B /home/chocolatecharlie/anaconda3/envs/sparced/compiler_compat -fno-strict-overflow -DNDEBUG -O2 -Wall -fPIC -O2 -isystem /home/chocolatecharlie/anaconda3/envs/sparced/include -fPIC -O2 -isystem /home/chocolatecharlie/anaconda3/envs/sparced/include -fPIC -I/home/chocolatecharlie/Documents/SPARCED/SPARCED/models/SPARCED_tutorial/amici_SPARCED_tutorial -I/home/chocolatecharlie/anaconda3/envs/sparced/lib/python3.12/site-packages/amici/include -I/home/chocolatecharlie/anaconda3/envs/sparced/lib/python3.12/site-packages/amici/ThirdParty/gsl -I/home/chocolatecharlie/anaconda3/envs/sparced/lib/python3.12/site-packages/amici/ThirdParty/sundials/include -I/home/chocolatecharlie/anaconda3/envs/sparced/lib/python3.12/site-packages/amici/ThirdParty/SuiteSparse/include -I/home/chocolatecharlie/anaconda3/envs/sparced/include/python3.12 -c SPARCED_tutorial_deltasx.cpp -o build/temp.linux-x86_64-cpython-312/SPARCED_tutorial_deltasx.o -fopenmp -std=c++14\n",
      "gcc -pthread -B /home/chocolatecharlie/anaconda3/envs/sparced/compiler_compat -fno-strict-overflow -DNDEBUG -O2 -Wall -fPIC -O2 -isystem /home/chocolatecharlie/anaconda3/envs/sparced/include -fPIC -O2 -isystem /home/chocolatecharlie/anaconda3/envs/sparced/include -fPIC -I/home/chocolatecharlie/Documents/SPARCED/SPARCED/models/SPARCED_tutorial/amici_SPARCED_tutorial -I/home/chocolatecharlie/anaconda3/envs/sparced/lib/python3.12/site-packages/amici/include -I/home/chocolatecharlie/anaconda3/envs/sparced/lib/python3.12/site-packages/amici/ThirdParty/gsl -I/home/chocolatecharlie/anaconda3/envs/sparced/lib/python3.12/site-packages/amici/ThirdParty/sundials/include -I/home/chocolatecharlie/anaconda3/envs/sparced/lib/python3.12/site-packages/amici/ThirdParty/SuiteSparse/include -I/home/chocolatecharlie/anaconda3/envs/sparced/include/python3.12 -c SPARCED_tutorial_dsigmaydp.cpp -o build/temp.linux-x86_64-cpython-312/SPARCED_tutorial_dsigmaydp.o -fopenmp -std=c++14\n",
      "gcc -pthread -B /home/chocolatecharlie/anaconda3/envs/sparced/compiler_compat -fno-strict-overflow -DNDEBUG -O2 -Wall -fPIC -O2 -isystem /home/chocolatecharlie/anaconda3/envs/sparced/include -fPIC -O2 -isystem /home/chocolatecharlie/anaconda3/envs/sparced/include -fPIC -I/home/chocolatecharlie/Documents/SPARCED/SPARCED/models/SPARCED_tutorial/amici_SPARCED_tutorial -I/home/chocolatecharlie/anaconda3/envs/sparced/lib/python3.12/site-packages/amici/include -I/home/chocolatecharlie/anaconda3/envs/sparced/lib/python3.12/site-packages/amici/ThirdParty/gsl -I/home/chocolatecharlie/anaconda3/envs/sparced/lib/python3.12/site-packages/amici/ThirdParty/sundials/include -I/home/chocolatecharlie/anaconda3/envs/sparced/lib/python3.12/site-packages/amici/ThirdParty/SuiteSparse/include -I/home/chocolatecharlie/anaconda3/envs/sparced/include/python3.12 -c SPARCED_tutorial_dwdp.cpp -o build/temp.linux-x86_64-cpython-312/SPARCED_tutorial_dwdp.o -fopenmp -std=c++14\n",
      "gcc -pthread -B /home/chocolatecharlie/anaconda3/envs/sparced/compiler_compat -fno-strict-overflow -DNDEBUG -O2 -Wall -fPIC -O2 -isystem /home/chocolatecharlie/anaconda3/envs/sparced/include -fPIC -O2 -isystem /home/chocolatecharlie/anaconda3/envs/sparced/include -fPIC -I/home/chocolatecharlie/Documents/SPARCED/SPARCED/models/SPARCED_tutorial/amici_SPARCED_tutorial -I/home/chocolatecharlie/anaconda3/envs/sparced/lib/python3.12/site-packages/amici/include -I/home/chocolatecharlie/anaconda3/envs/sparced/lib/python3.12/site-packages/amici/ThirdParty/gsl -I/home/chocolatecharlie/anaconda3/envs/sparced/lib/python3.12/site-packages/amici/ThirdParty/sundials/include -I/home/chocolatecharlie/anaconda3/envs/sparced/lib/python3.12/site-packages/amici/ThirdParty/SuiteSparse/include -I/home/chocolatecharlie/anaconda3/envs/sparced/include/python3.12 -c SPARCED_tutorial_dwdp_colptrs.cpp -o build/temp.linux-x86_64-cpython-312/SPARCED_tutorial_dwdp_colptrs.o -fopenmp -std=c++14\n",
      "gcc -pthread -B /home/chocolatecharlie/anaconda3/envs/sparced/compiler_compat -fno-strict-overflow -DNDEBUG -O2 -Wall -fPIC -O2 -isystem /home/chocolatecharlie/anaconda3/envs/sparced/include -fPIC -O2 -isystem /home/chocolatecharlie/anaconda3/envs/sparced/include -fPIC -I/home/chocolatecharlie/Documents/SPARCED/SPARCED/models/SPARCED_tutorial/amici_SPARCED_tutorial -I/home/chocolatecharlie/anaconda3/envs/sparced/lib/python3.12/site-packages/amici/include -I/home/chocolatecharlie/anaconda3/envs/sparced/lib/python3.12/site-packages/amici/ThirdParty/gsl -I/home/chocolatecharlie/anaconda3/envs/sparced/lib/python3.12/site-packages/amici/ThirdParty/sundials/include -I/home/chocolatecharlie/anaconda3/envs/sparced/lib/python3.12/site-packages/amici/ThirdParty/SuiteSparse/include -I/home/chocolatecharlie/anaconda3/envs/sparced/include/python3.12 -c SPARCED_tutorial_dwdp_rowvals.cpp -o build/temp.linux-x86_64-cpython-312/SPARCED_tutorial_dwdp_rowvals.o -fopenmp -std=c++14\n",
      "gcc -pthread -B /home/chocolatecharlie/anaconda3/envs/sparced/compiler_compat -fno-strict-overflow -DNDEBUG -O2 -Wall -fPIC -O2 -isystem /home/chocolatecharlie/anaconda3/envs/sparced/include -fPIC -O2 -isystem /home/chocolatecharlie/anaconda3/envs/sparced/include -fPIC -I/home/chocolatecharlie/Documents/SPARCED/SPARCED/models/SPARCED_tutorial/amici_SPARCED_tutorial -I/home/chocolatecharlie/anaconda3/envs/sparced/lib/python3.12/site-packages/amici/include -I/home/chocolatecharlie/anaconda3/envs/sparced/lib/python3.12/site-packages/amici/ThirdParty/gsl -I/home/chocolatecharlie/anaconda3/envs/sparced/lib/python3.12/site-packages/amici/ThirdParty/sundials/include -I/home/chocolatecharlie/anaconda3/envs/sparced/lib/python3.12/site-packages/amici/ThirdParty/SuiteSparse/include -I/home/chocolatecharlie/anaconda3/envs/sparced/include/python3.12 -c SPARCED_tutorial_dwdw.cpp -o build/temp.linux-x86_64-cpython-312/SPARCED_tutorial_dwdw.o -fopenmp -std=c++14\n",
      "gcc -pthread -B /home/chocolatecharlie/anaconda3/envs/sparced/compiler_compat -fno-strict-overflow -DNDEBUG -O2 -Wall -fPIC -O2 -isystem /home/chocolatecharlie/anaconda3/envs/sparced/include -fPIC -O2 -isystem /home/chocolatecharlie/anaconda3/envs/sparced/include -fPIC -I/home/chocolatecharlie/Documents/SPARCED/SPARCED/models/SPARCED_tutorial/amici_SPARCED_tutorial -I/home/chocolatecharlie/anaconda3/envs/sparced/lib/python3.12/site-packages/amici/include -I/home/chocolatecharlie/anaconda3/envs/sparced/lib/python3.12/site-packages/amici/ThirdParty/gsl -I/home/chocolatecharlie/anaconda3/envs/sparced/lib/python3.12/site-packages/amici/ThirdParty/sundials/include -I/home/chocolatecharlie/anaconda3/envs/sparced/lib/python3.12/site-packages/amici/ThirdParty/SuiteSparse/include -I/home/chocolatecharlie/anaconda3/envs/sparced/include/python3.12 -c SPARCED_tutorial_dwdw_colptrs.cpp -o build/temp.linux-x86_64-cpython-312/SPARCED_tutorial_dwdw_colptrs.o -fopenmp -std=c++14\n",
      "gcc -pthread -B /home/chocolatecharlie/anaconda3/envs/sparced/compiler_compat -fno-strict-overflow -DNDEBUG -O2 -Wall -fPIC -O2 -isystem /home/chocolatecharlie/anaconda3/envs/sparced/include -fPIC -O2 -isystem /home/chocolatecharlie/anaconda3/envs/sparced/include -fPIC -I/home/chocolatecharlie/Documents/SPARCED/SPARCED/models/SPARCED_tutorial/amici_SPARCED_tutorial -I/home/chocolatecharlie/anaconda3/envs/sparced/lib/python3.12/site-packages/amici/include -I/home/chocolatecharlie/anaconda3/envs/sparced/lib/python3.12/site-packages/amici/ThirdParty/gsl -I/home/chocolatecharlie/anaconda3/envs/sparced/lib/python3.12/site-packages/amici/ThirdParty/sundials/include -I/home/chocolatecharlie/anaconda3/envs/sparced/lib/python3.12/site-packages/amici/ThirdParty/SuiteSparse/include -I/home/chocolatecharlie/anaconda3/envs/sparced/include/python3.12 -c SPARCED_tutorial_dwdw_rowvals.cpp -o build/temp.linux-x86_64-cpython-312/SPARCED_tutorial_dwdw_rowvals.o -fopenmp -std=c++14\n",
      "gcc -pthread -B /home/chocolatecharlie/anaconda3/envs/sparced/compiler_compat -fno-strict-overflow -DNDEBUG -O2 -Wall -fPIC -O2 -isystem /home/chocolatecharlie/anaconda3/envs/sparced/include -fPIC -O2 -isystem /home/chocolatecharlie/anaconda3/envs/sparced/include -fPIC -I/home/chocolatecharlie/Documents/SPARCED/SPARCED/models/SPARCED_tutorial/amici_SPARCED_tutorial -I/home/chocolatecharlie/anaconda3/envs/sparced/lib/python3.12/site-packages/amici/include -I/home/chocolatecharlie/anaconda3/envs/sparced/lib/python3.12/site-packages/amici/ThirdParty/gsl -I/home/chocolatecharlie/anaconda3/envs/sparced/lib/python3.12/site-packages/amici/ThirdParty/sundials/include -I/home/chocolatecharlie/anaconda3/envs/sparced/lib/python3.12/site-packages/amici/ThirdParty/SuiteSparse/include -I/home/chocolatecharlie/anaconda3/envs/sparced/include/python3.12 -c SPARCED_tutorial_dwdx.cpp -o build/temp.linux-x86_64-cpython-312/SPARCED_tutorial_dwdx.o -fopenmp -std=c++14\n",
      "gcc -pthread -B /home/chocolatecharlie/anaconda3/envs/sparced/compiler_compat -fno-strict-overflow -DNDEBUG -O2 -Wall -fPIC -O2 -isystem /home/chocolatecharlie/anaconda3/envs/sparced/include -fPIC -O2 -isystem /home/chocolatecharlie/anaconda3/envs/sparced/include -fPIC -I/home/chocolatecharlie/Documents/SPARCED/SPARCED/models/SPARCED_tutorial/amici_SPARCED_tutorial -I/home/chocolatecharlie/anaconda3/envs/sparced/lib/python3.12/site-packages/amici/include -I/home/chocolatecharlie/anaconda3/envs/sparced/lib/python3.12/site-packages/amici/ThirdParty/gsl -I/home/chocolatecharlie/anaconda3/envs/sparced/lib/python3.12/site-packages/amici/ThirdParty/sundials/include -I/home/chocolatecharlie/anaconda3/envs/sparced/lib/python3.12/site-packages/amici/ThirdParty/SuiteSparse/include -I/home/chocolatecharlie/anaconda3/envs/sparced/include/python3.12 -c SPARCED_tutorial_dwdx_colptrs.cpp -o build/temp.linux-x86_64-cpython-312/SPARCED_tutorial_dwdx_colptrs.o -fopenmp -std=c++14\n",
      "gcc -pthread -B /home/chocolatecharlie/anaconda3/envs/sparced/compiler_compat -fno-strict-overflow -DNDEBUG -O2 -Wall -fPIC -O2 -isystem /home/chocolatecharlie/anaconda3/envs/sparced/include -fPIC -O2 -isystem /home/chocolatecharlie/anaconda3/envs/sparced/include -fPIC -I/home/chocolatecharlie/Documents/SPARCED/SPARCED/models/SPARCED_tutorial/amici_SPARCED_tutorial -I/home/chocolatecharlie/anaconda3/envs/sparced/lib/python3.12/site-packages/amici/include -I/home/chocolatecharlie/anaconda3/envs/sparced/lib/python3.12/site-packages/amici/ThirdParty/gsl -I/home/chocolatecharlie/anaconda3/envs/sparced/lib/python3.12/site-packages/amici/ThirdParty/sundials/include -I/home/chocolatecharlie/anaconda3/envs/sparced/lib/python3.12/site-packages/amici/ThirdParty/SuiteSparse/include -I/home/chocolatecharlie/anaconda3/envs/sparced/include/python3.12 -c SPARCED_tutorial_dwdx_rowvals.cpp -o build/temp.linux-x86_64-cpython-312/SPARCED_tutorial_dwdx_rowvals.o -fopenmp -std=c++14\n",
      "gcc -pthread -B /home/chocolatecharlie/anaconda3/envs/sparced/compiler_compat -fno-strict-overflow -DNDEBUG -O2 -Wall -fPIC -O2 -isystem /home/chocolatecharlie/anaconda3/envs/sparced/include -fPIC -O2 -isystem /home/chocolatecharlie/anaconda3/envs/sparced/include -fPIC -I/home/chocolatecharlie/Documents/SPARCED/SPARCED/models/SPARCED_tutorial/amici_SPARCED_tutorial -I/home/chocolatecharlie/anaconda3/envs/sparced/lib/python3.12/site-packages/amici/include -I/home/chocolatecharlie/anaconda3/envs/sparced/lib/python3.12/site-packages/amici/ThirdParty/gsl -I/home/chocolatecharlie/anaconda3/envs/sparced/lib/python3.12/site-packages/amici/ThirdParty/sundials/include -I/home/chocolatecharlie/anaconda3/envs/sparced/lib/python3.12/site-packages/amici/ThirdParty/SuiteSparse/include -I/home/chocolatecharlie/anaconda3/envs/sparced/include/python3.12 -c SPARCED_tutorial_dxdotdp_explicit.cpp -o build/temp.linux-x86_64-cpython-312/SPARCED_tutorial_dxdotdp_explicit.o -fopenmp -std=c++14\n",
      "gcc -pthread -B /home/chocolatecharlie/anaconda3/envs/sparced/compiler_compat -fno-strict-overflow -DNDEBUG -O2 -Wall -fPIC -O2 -isystem /home/chocolatecharlie/anaconda3/envs/sparced/include -fPIC -O2 -isystem /home/chocolatecharlie/anaconda3/envs/sparced/include -fPIC -I/home/chocolatecharlie/Documents/SPARCED/SPARCED/models/SPARCED_tutorial/amici_SPARCED_tutorial -I/home/chocolatecharlie/anaconda3/envs/sparced/lib/python3.12/site-packages/amici/include -I/home/chocolatecharlie/anaconda3/envs/sparced/lib/python3.12/site-packages/amici/ThirdParty/gsl -I/home/chocolatecharlie/anaconda3/envs/sparced/lib/python3.12/site-packages/amici/ThirdParty/sundials/include -I/home/chocolatecharlie/anaconda3/envs/sparced/lib/python3.12/site-packages/amici/ThirdParty/SuiteSparse/include -I/home/chocolatecharlie/anaconda3/envs/sparced/include/python3.12 -c SPARCED_tutorial_dxdotdp_explicit_colptrs.cpp -o build/temp.linux-x86_64-cpython-312/SPARCED_tutorial_dxdotdp_explicit_colptrs.o -fopenmp -std=c++14\n",
      "gcc -pthread -B /home/chocolatecharlie/anaconda3/envs/sparced/compiler_compat -fno-strict-overflow -DNDEBUG -O2 -Wall -fPIC -O2 -isystem /home/chocolatecharlie/anaconda3/envs/sparced/include -fPIC -O2 -isystem /home/chocolatecharlie/anaconda3/envs/sparced/include -fPIC -I/home/chocolatecharlie/Documents/SPARCED/SPARCED/models/SPARCED_tutorial/amici_SPARCED_tutorial -I/home/chocolatecharlie/anaconda3/envs/sparced/lib/python3.12/site-packages/amici/include -I/home/chocolatecharlie/anaconda3/envs/sparced/lib/python3.12/site-packages/amici/ThirdParty/gsl -I/home/chocolatecharlie/anaconda3/envs/sparced/lib/python3.12/site-packages/amici/ThirdParty/sundials/include -I/home/chocolatecharlie/anaconda3/envs/sparced/lib/python3.12/site-packages/amici/ThirdParty/SuiteSparse/include -I/home/chocolatecharlie/anaconda3/envs/sparced/include/python3.12 -c SPARCED_tutorial_dxdotdp_explicit_rowvals.cpp -o build/temp.linux-x86_64-cpython-312/SPARCED_tutorial_dxdotdp_explicit_rowvals.o -fopenmp -std=c++14\n",
      "gcc -pthread -B /home/chocolatecharlie/anaconda3/envs/sparced/compiler_compat -fno-strict-overflow -DNDEBUG -O2 -Wall -fPIC -O2 -isystem /home/chocolatecharlie/anaconda3/envs/sparced/include -fPIC -O2 -isystem /home/chocolatecharlie/anaconda3/envs/sparced/include -fPIC -I/home/chocolatecharlie/Documents/SPARCED/SPARCED/models/SPARCED_tutorial/amici_SPARCED_tutorial -I/home/chocolatecharlie/anaconda3/envs/sparced/lib/python3.12/site-packages/amici/include -I/home/chocolatecharlie/anaconda3/envs/sparced/lib/python3.12/site-packages/amici/ThirdParty/gsl -I/home/chocolatecharlie/anaconda3/envs/sparced/lib/python3.12/site-packages/amici/ThirdParty/sundials/include -I/home/chocolatecharlie/anaconda3/envs/sparced/lib/python3.12/site-packages/amici/ThirdParty/SuiteSparse/include -I/home/chocolatecharlie/anaconda3/envs/sparced/include/python3.12 -c SPARCED_tutorial_dxdotdw.cpp -o build/temp.linux-x86_64-cpython-312/SPARCED_tutorial_dxdotdw.o -fopenmp -std=c++14\n",
      "gcc -pthread -B /home/chocolatecharlie/anaconda3/envs/sparced/compiler_compat -fno-strict-overflow -DNDEBUG -O2 -Wall -fPIC -O2 -isystem /home/chocolatecharlie/anaconda3/envs/sparced/include -fPIC -O2 -isystem /home/chocolatecharlie/anaconda3/envs/sparced/include -fPIC -I/home/chocolatecharlie/Documents/SPARCED/SPARCED/models/SPARCED_tutorial/amici_SPARCED_tutorial -I/home/chocolatecharlie/anaconda3/envs/sparced/lib/python3.12/site-packages/amici/include -I/home/chocolatecharlie/anaconda3/envs/sparced/lib/python3.12/site-packages/amici/ThirdParty/gsl -I/home/chocolatecharlie/anaconda3/envs/sparced/lib/python3.12/site-packages/amici/ThirdParty/sundials/include -I/home/chocolatecharlie/anaconda3/envs/sparced/lib/python3.12/site-packages/amici/ThirdParty/SuiteSparse/include -I/home/chocolatecharlie/anaconda3/envs/sparced/include/python3.12 -c SPARCED_tutorial_dxdotdw_colptrs.cpp -o build/temp.linux-x86_64-cpython-312/SPARCED_tutorial_dxdotdw_colptrs.o -fopenmp -std=c++14\n",
      "gcc -pthread -B /home/chocolatecharlie/anaconda3/envs/sparced/compiler_compat -fno-strict-overflow -DNDEBUG -O2 -Wall -fPIC -O2 -isystem /home/chocolatecharlie/anaconda3/envs/sparced/include -fPIC -O2 -isystem /home/chocolatecharlie/anaconda3/envs/sparced/include -fPIC -I/home/chocolatecharlie/Documents/SPARCED/SPARCED/models/SPARCED_tutorial/amici_SPARCED_tutorial -I/home/chocolatecharlie/anaconda3/envs/sparced/lib/python3.12/site-packages/amici/include -I/home/chocolatecharlie/anaconda3/envs/sparced/lib/python3.12/site-packages/amici/ThirdParty/gsl -I/home/chocolatecharlie/anaconda3/envs/sparced/lib/python3.12/site-packages/amici/ThirdParty/sundials/include -I/home/chocolatecharlie/anaconda3/envs/sparced/lib/python3.12/site-packages/amici/ThirdParty/SuiteSparse/include -I/home/chocolatecharlie/anaconda3/envs/sparced/include/python3.12 -c SPARCED_tutorial_dxdotdw_rowvals.cpp -o build/temp.linux-x86_64-cpython-312/SPARCED_tutorial_dxdotdw_rowvals.o -fopenmp -std=c++14\n",
      "gcc -pthread -B /home/chocolatecharlie/anaconda3/envs/sparced/compiler_compat -fno-strict-overflow -DNDEBUG -O2 -Wall -fPIC -O2 -isystem /home/chocolatecharlie/anaconda3/envs/sparced/include -fPIC -O2 -isystem /home/chocolatecharlie/anaconda3/envs/sparced/include -fPIC -I/home/chocolatecharlie/Documents/SPARCED/SPARCED/models/SPARCED_tutorial/amici_SPARCED_tutorial -I/home/chocolatecharlie/anaconda3/envs/sparced/lib/python3.12/site-packages/amici/include -I/home/chocolatecharlie/anaconda3/envs/sparced/lib/python3.12/site-packages/amici/ThirdParty/gsl -I/home/chocolatecharlie/anaconda3/envs/sparced/lib/python3.12/site-packages/amici/ThirdParty/sundials/include -I/home/chocolatecharlie/anaconda3/envs/sparced/lib/python3.12/site-packages/amici/ThirdParty/SuiteSparse/include -I/home/chocolatecharlie/anaconda3/envs/sparced/include/python3.12 -c SPARCED_tutorial_dxdotdx_explicit.cpp -o build/temp.linux-x86_64-cpython-312/SPARCED_tutorial_dxdotdx_explicit.o -fopenmp -std=c++14\n",
      "gcc -pthread -B /home/chocolatecharlie/anaconda3/envs/sparced/compiler_compat -fno-strict-overflow -DNDEBUG -O2 -Wall -fPIC -O2 -isystem /home/chocolatecharlie/anaconda3/envs/sparced/include -fPIC -O2 -isystem /home/chocolatecharlie/anaconda3/envs/sparced/include -fPIC -I/home/chocolatecharlie/Documents/SPARCED/SPARCED/models/SPARCED_tutorial/amici_SPARCED_tutorial -I/home/chocolatecharlie/anaconda3/envs/sparced/lib/python3.12/site-packages/amici/include -I/home/chocolatecharlie/anaconda3/envs/sparced/lib/python3.12/site-packages/amici/ThirdParty/gsl -I/home/chocolatecharlie/anaconda3/envs/sparced/lib/python3.12/site-packages/amici/ThirdParty/sundials/include -I/home/chocolatecharlie/anaconda3/envs/sparced/lib/python3.12/site-packages/amici/ThirdParty/SuiteSparse/include -I/home/chocolatecharlie/anaconda3/envs/sparced/include/python3.12 -c SPARCED_tutorial_dxdotdx_explicit_colptrs.cpp -o build/temp.linux-x86_64-cpython-312/SPARCED_tutorial_dxdotdx_explicit_colptrs.o -fopenmp -std=c++14\n",
      "gcc -pthread -B /home/chocolatecharlie/anaconda3/envs/sparced/compiler_compat -fno-strict-overflow -DNDEBUG -O2 -Wall -fPIC -O2 -isystem /home/chocolatecharlie/anaconda3/envs/sparced/include -fPIC -O2 -isystem /home/chocolatecharlie/anaconda3/envs/sparced/include -fPIC -I/home/chocolatecharlie/Documents/SPARCED/SPARCED/models/SPARCED_tutorial/amici_SPARCED_tutorial -I/home/chocolatecharlie/anaconda3/envs/sparced/lib/python3.12/site-packages/amici/include -I/home/chocolatecharlie/anaconda3/envs/sparced/lib/python3.12/site-packages/amici/ThirdParty/gsl -I/home/chocolatecharlie/anaconda3/envs/sparced/lib/python3.12/site-packages/amici/ThirdParty/sundials/include -I/home/chocolatecharlie/anaconda3/envs/sparced/lib/python3.12/site-packages/amici/ThirdParty/SuiteSparse/include -I/home/chocolatecharlie/anaconda3/envs/sparced/include/python3.12 -c SPARCED_tutorial_dxdotdx_explicit_rowvals.cpp -o build/temp.linux-x86_64-cpython-312/SPARCED_tutorial_dxdotdx_explicit_rowvals.o -fopenmp -std=c++14\n",
      "gcc -pthread -B /home/chocolatecharlie/anaconda3/envs/sparced/compiler_compat -fno-strict-overflow -DNDEBUG -O2 -Wall -fPIC -O2 -isystem /home/chocolatecharlie/anaconda3/envs/sparced/include -fPIC -O2 -isystem /home/chocolatecharlie/anaconda3/envs/sparced/include -fPIC -I/home/chocolatecharlie/Documents/SPARCED/SPARCED/models/SPARCED_tutorial/amici_SPARCED_tutorial -I/home/chocolatecharlie/anaconda3/envs/sparced/lib/python3.12/site-packages/amici/include -I/home/chocolatecharlie/anaconda3/envs/sparced/lib/python3.12/site-packages/amici/ThirdParty/gsl -I/home/chocolatecharlie/anaconda3/envs/sparced/lib/python3.12/site-packages/amici/ThirdParty/sundials/include -I/home/chocolatecharlie/anaconda3/envs/sparced/lib/python3.12/site-packages/amici/ThirdParty/SuiteSparse/include -I/home/chocolatecharlie/anaconda3/envs/sparced/include/python3.12 -c SPARCED_tutorial_dydp.cpp -o build/temp.linux-x86_64-cpython-312/SPARCED_tutorial_dydp.o -fopenmp -std=c++14\n",
      "gcc -pthread -B /home/chocolatecharlie/anaconda3/envs/sparced/compiler_compat -fno-strict-overflow -DNDEBUG -O2 -Wall -fPIC -O2 -isystem /home/chocolatecharlie/anaconda3/envs/sparced/include -fPIC -O2 -isystem /home/chocolatecharlie/anaconda3/envs/sparced/include -fPIC -I/home/chocolatecharlie/Documents/SPARCED/SPARCED/models/SPARCED_tutorial/amici_SPARCED_tutorial -I/home/chocolatecharlie/anaconda3/envs/sparced/lib/python3.12/site-packages/amici/include -I/home/chocolatecharlie/anaconda3/envs/sparced/lib/python3.12/site-packages/amici/ThirdParty/gsl -I/home/chocolatecharlie/anaconda3/envs/sparced/lib/python3.12/site-packages/amici/ThirdParty/sundials/include -I/home/chocolatecharlie/anaconda3/envs/sparced/lib/python3.12/site-packages/amici/ThirdParty/SuiteSparse/include -I/home/chocolatecharlie/anaconda3/envs/sparced/include/python3.12 -c SPARCED_tutorial_dydx.cpp -o build/temp.linux-x86_64-cpython-312/SPARCED_tutorial_dydx.o -fopenmp -std=c++14\n",
      "gcc -pthread -B /home/chocolatecharlie/anaconda3/envs/sparced/compiler_compat -fno-strict-overflow -DNDEBUG -O2 -Wall -fPIC -O2 -isystem /home/chocolatecharlie/anaconda3/envs/sparced/include -fPIC -O2 -isystem /home/chocolatecharlie/anaconda3/envs/sparced/include -fPIC -I/home/chocolatecharlie/Documents/SPARCED/SPARCED/models/SPARCED_tutorial/amici_SPARCED_tutorial -I/home/chocolatecharlie/anaconda3/envs/sparced/lib/python3.12/site-packages/amici/include -I/home/chocolatecharlie/anaconda3/envs/sparced/lib/python3.12/site-packages/amici/ThirdParty/gsl -I/home/chocolatecharlie/anaconda3/envs/sparced/lib/python3.12/site-packages/amici/ThirdParty/sundials/include -I/home/chocolatecharlie/anaconda3/envs/sparced/lib/python3.12/site-packages/amici/ThirdParty/SuiteSparse/include -I/home/chocolatecharlie/anaconda3/envs/sparced/include/python3.12 -c SPARCED_tutorial_root.cpp -o build/temp.linux-x86_64-cpython-312/SPARCED_tutorial_root.o -fopenmp -std=c++14\n",
      "gcc -pthread -B /home/chocolatecharlie/anaconda3/envs/sparced/compiler_compat -fno-strict-overflow -DNDEBUG -O2 -Wall -fPIC -O2 -isystem /home/chocolatecharlie/anaconda3/envs/sparced/include -fPIC -O2 -isystem /home/chocolatecharlie/anaconda3/envs/sparced/include -fPIC -I/home/chocolatecharlie/Documents/SPARCED/SPARCED/models/SPARCED_tutorial/amici_SPARCED_tutorial -I/home/chocolatecharlie/anaconda3/envs/sparced/lib/python3.12/site-packages/amici/include -I/home/chocolatecharlie/anaconda3/envs/sparced/lib/python3.12/site-packages/amici/ThirdParty/gsl -I/home/chocolatecharlie/anaconda3/envs/sparced/lib/python3.12/site-packages/amici/ThirdParty/sundials/include -I/home/chocolatecharlie/anaconda3/envs/sparced/lib/python3.12/site-packages/amici/ThirdParty/SuiteSparse/include -I/home/chocolatecharlie/anaconda3/envs/sparced/include/python3.12 -c SPARCED_tutorial_sigmay.cpp -o build/temp.linux-x86_64-cpython-312/SPARCED_tutorial_sigmay.o -fopenmp -std=c++14\n",
      "gcc -pthread -B /home/chocolatecharlie/anaconda3/envs/sparced/compiler_compat -fno-strict-overflow -DNDEBUG -O2 -Wall -fPIC -O2 -isystem /home/chocolatecharlie/anaconda3/envs/sparced/include -fPIC -O2 -isystem /home/chocolatecharlie/anaconda3/envs/sparced/include -fPIC -I/home/chocolatecharlie/Documents/SPARCED/SPARCED/models/SPARCED_tutorial/amici_SPARCED_tutorial -I/home/chocolatecharlie/anaconda3/envs/sparced/lib/python3.12/site-packages/amici/include -I/home/chocolatecharlie/anaconda3/envs/sparced/lib/python3.12/site-packages/amici/ThirdParty/gsl -I/home/chocolatecharlie/anaconda3/envs/sparced/lib/python3.12/site-packages/amici/ThirdParty/sundials/include -I/home/chocolatecharlie/anaconda3/envs/sparced/lib/python3.12/site-packages/amici/ThirdParty/SuiteSparse/include -I/home/chocolatecharlie/anaconda3/envs/sparced/include/python3.12 -c SPARCED_tutorial_stau.cpp -o build/temp.linux-x86_64-cpython-312/SPARCED_tutorial_stau.o -fopenmp -std=c++14\n",
      "gcc -pthread -B /home/chocolatecharlie/anaconda3/envs/sparced/compiler_compat -fno-strict-overflow -DNDEBUG -O2 -Wall -fPIC -O2 -isystem /home/chocolatecharlie/anaconda3/envs/sparced/include -fPIC -O2 -isystem /home/chocolatecharlie/anaconda3/envs/sparced/include -fPIC -I/home/chocolatecharlie/Documents/SPARCED/SPARCED/models/SPARCED_tutorial/amici_SPARCED_tutorial -I/home/chocolatecharlie/anaconda3/envs/sparced/lib/python3.12/site-packages/amici/include -I/home/chocolatecharlie/anaconda3/envs/sparced/lib/python3.12/site-packages/amici/ThirdParty/gsl -I/home/chocolatecharlie/anaconda3/envs/sparced/lib/python3.12/site-packages/amici/ThirdParty/sundials/include -I/home/chocolatecharlie/anaconda3/envs/sparced/lib/python3.12/site-packages/amici/ThirdParty/SuiteSparse/include -I/home/chocolatecharlie/anaconda3/envs/sparced/include/python3.12 -c SPARCED_tutorial_sx0.cpp -o build/temp.linux-x86_64-cpython-312/SPARCED_tutorial_sx0.o -fopenmp -std=c++14\n",
      "gcc -pthread -B /home/chocolatecharlie/anaconda3/envs/sparced/compiler_compat -fno-strict-overflow -DNDEBUG -O2 -Wall -fPIC -O2 -isystem /home/chocolatecharlie/anaconda3/envs/sparced/include -fPIC -O2 -isystem /home/chocolatecharlie/anaconda3/envs/sparced/include -fPIC -I/home/chocolatecharlie/Documents/SPARCED/SPARCED/models/SPARCED_tutorial/amici_SPARCED_tutorial -I/home/chocolatecharlie/anaconda3/envs/sparced/lib/python3.12/site-packages/amici/include -I/home/chocolatecharlie/anaconda3/envs/sparced/lib/python3.12/site-packages/amici/ThirdParty/gsl -I/home/chocolatecharlie/anaconda3/envs/sparced/lib/python3.12/site-packages/amici/ThirdParty/sundials/include -I/home/chocolatecharlie/anaconda3/envs/sparced/lib/python3.12/site-packages/amici/ThirdParty/SuiteSparse/include -I/home/chocolatecharlie/anaconda3/envs/sparced/include/python3.12 -c SPARCED_tutorial_sx0_fixedParameters.cpp -o build/temp.linux-x86_64-cpython-312/SPARCED_tutorial_sx0_fixedParameters.o -fopenmp -std=c++14\n",
      "gcc -pthread -B /home/chocolatecharlie/anaconda3/envs/sparced/compiler_compat -fno-strict-overflow -DNDEBUG -O2 -Wall -fPIC -O2 -isystem /home/chocolatecharlie/anaconda3/envs/sparced/include -fPIC -O2 -isystem /home/chocolatecharlie/anaconda3/envs/sparced/include -fPIC -I/home/chocolatecharlie/Documents/SPARCED/SPARCED/models/SPARCED_tutorial/amici_SPARCED_tutorial -I/home/chocolatecharlie/anaconda3/envs/sparced/lib/python3.12/site-packages/amici/include -I/home/chocolatecharlie/anaconda3/envs/sparced/lib/python3.12/site-packages/amici/ThirdParty/gsl -I/home/chocolatecharlie/anaconda3/envs/sparced/lib/python3.12/site-packages/amici/ThirdParty/sundials/include -I/home/chocolatecharlie/anaconda3/envs/sparced/lib/python3.12/site-packages/amici/ThirdParty/SuiteSparse/include -I/home/chocolatecharlie/anaconda3/envs/sparced/include/python3.12 -c SPARCED_tutorial_total_cl.cpp -o build/temp.linux-x86_64-cpython-312/SPARCED_tutorial_total_cl.o -fopenmp -std=c++14\n",
      "gcc -pthread -B /home/chocolatecharlie/anaconda3/envs/sparced/compiler_compat -fno-strict-overflow -DNDEBUG -O2 -Wall -fPIC -O2 -isystem /home/chocolatecharlie/anaconda3/envs/sparced/include -fPIC -O2 -isystem /home/chocolatecharlie/anaconda3/envs/sparced/include -fPIC -I/home/chocolatecharlie/Documents/SPARCED/SPARCED/models/SPARCED_tutorial/amici_SPARCED_tutorial -I/home/chocolatecharlie/anaconda3/envs/sparced/lib/python3.12/site-packages/amici/include -I/home/chocolatecharlie/anaconda3/envs/sparced/lib/python3.12/site-packages/amici/ThirdParty/gsl -I/home/chocolatecharlie/anaconda3/envs/sparced/lib/python3.12/site-packages/amici/ThirdParty/sundials/include -I/home/chocolatecharlie/anaconda3/envs/sparced/lib/python3.12/site-packages/amici/ThirdParty/SuiteSparse/include -I/home/chocolatecharlie/anaconda3/envs/sparced/include/python3.12 -c SPARCED_tutorial_w.cpp -o build/temp.linux-x86_64-cpython-312/SPARCED_tutorial_w.o -fopenmp -std=c++14\n",
      "gcc -pthread -B /home/chocolatecharlie/anaconda3/envs/sparced/compiler_compat -fno-strict-overflow -DNDEBUG -O2 -Wall -fPIC -O2 -isystem /home/chocolatecharlie/anaconda3/envs/sparced/include -fPIC -O2 -isystem /home/chocolatecharlie/anaconda3/envs/sparced/include -fPIC -I/home/chocolatecharlie/Documents/SPARCED/SPARCED/models/SPARCED_tutorial/amici_SPARCED_tutorial -I/home/chocolatecharlie/anaconda3/envs/sparced/lib/python3.12/site-packages/amici/include -I/home/chocolatecharlie/anaconda3/envs/sparced/lib/python3.12/site-packages/amici/ThirdParty/gsl -I/home/chocolatecharlie/anaconda3/envs/sparced/lib/python3.12/site-packages/amici/ThirdParty/sundials/include -I/home/chocolatecharlie/anaconda3/envs/sparced/lib/python3.12/site-packages/amici/ThirdParty/SuiteSparse/include -I/home/chocolatecharlie/anaconda3/envs/sparced/include/python3.12 -c SPARCED_tutorial_x0.cpp -o build/temp.linux-x86_64-cpython-312/SPARCED_tutorial_x0.o -fopenmp -std=c++14\n",
      "gcc -pthread -B /home/chocolatecharlie/anaconda3/envs/sparced/compiler_compat -fno-strict-overflow -DNDEBUG -O2 -Wall -fPIC -O2 -isystem /home/chocolatecharlie/anaconda3/envs/sparced/include -fPIC -O2 -isystem /home/chocolatecharlie/anaconda3/envs/sparced/include -fPIC -I/home/chocolatecharlie/Documents/SPARCED/SPARCED/models/SPARCED_tutorial/amici_SPARCED_tutorial -I/home/chocolatecharlie/anaconda3/envs/sparced/lib/python3.12/site-packages/amici/include -I/home/chocolatecharlie/anaconda3/envs/sparced/lib/python3.12/site-packages/amici/ThirdParty/gsl -I/home/chocolatecharlie/anaconda3/envs/sparced/lib/python3.12/site-packages/amici/ThirdParty/sundials/include -I/home/chocolatecharlie/anaconda3/envs/sparced/lib/python3.12/site-packages/amici/ThirdParty/SuiteSparse/include -I/home/chocolatecharlie/anaconda3/envs/sparced/include/python3.12 -c SPARCED_tutorial_x0_fixedParameters.cpp -o build/temp.linux-x86_64-cpython-312/SPARCED_tutorial_x0_fixedParameters.o -fopenmp -std=c++14\n",
      "gcc -pthread -B /home/chocolatecharlie/anaconda3/envs/sparced/compiler_compat -fno-strict-overflow -DNDEBUG -O2 -Wall -fPIC -O2 -isystem /home/chocolatecharlie/anaconda3/envs/sparced/include -fPIC -O2 -isystem /home/chocolatecharlie/anaconda3/envs/sparced/include -fPIC -I/home/chocolatecharlie/Documents/SPARCED/SPARCED/models/SPARCED_tutorial/amici_SPARCED_tutorial -I/home/chocolatecharlie/anaconda3/envs/sparced/lib/python3.12/site-packages/amici/include -I/home/chocolatecharlie/anaconda3/envs/sparced/lib/python3.12/site-packages/amici/ThirdParty/gsl -I/home/chocolatecharlie/anaconda3/envs/sparced/lib/python3.12/site-packages/amici/ThirdParty/sundials/include -I/home/chocolatecharlie/anaconda3/envs/sparced/lib/python3.12/site-packages/amici/ThirdParty/SuiteSparse/include -I/home/chocolatecharlie/anaconda3/envs/sparced/include/python3.12 -c SPARCED_tutorial_x_rdata.cpp -o build/temp.linux-x86_64-cpython-312/SPARCED_tutorial_x_rdata.o -fopenmp -std=c++14\n",
      "gcc -pthread -B /home/chocolatecharlie/anaconda3/envs/sparced/compiler_compat -fno-strict-overflow -DNDEBUG -O2 -Wall -fPIC -O2 -isystem /home/chocolatecharlie/anaconda3/envs/sparced/include -fPIC -O2 -isystem /home/chocolatecharlie/anaconda3/envs/sparced/include -fPIC -I/home/chocolatecharlie/Documents/SPARCED/SPARCED/models/SPARCED_tutorial/amici_SPARCED_tutorial -I/home/chocolatecharlie/anaconda3/envs/sparced/lib/python3.12/site-packages/amici/include -I/home/chocolatecharlie/anaconda3/envs/sparced/lib/python3.12/site-packages/amici/ThirdParty/gsl -I/home/chocolatecharlie/anaconda3/envs/sparced/lib/python3.12/site-packages/amici/ThirdParty/sundials/include -I/home/chocolatecharlie/anaconda3/envs/sparced/lib/python3.12/site-packages/amici/ThirdParty/SuiteSparse/include -I/home/chocolatecharlie/anaconda3/envs/sparced/include/python3.12 -c SPARCED_tutorial_x_solver.cpp -o build/temp.linux-x86_64-cpython-312/SPARCED_tutorial_x_solver.o -fopenmp -std=c++14\n",
      "gcc -pthread -B /home/chocolatecharlie/anaconda3/envs/sparced/compiler_compat -fno-strict-overflow -DNDEBUG -O2 -Wall -fPIC -O2 -isystem /home/chocolatecharlie/anaconda3/envs/sparced/include -fPIC -O2 -isystem /home/chocolatecharlie/anaconda3/envs/sparced/include -fPIC -I/home/chocolatecharlie/Documents/SPARCED/SPARCED/models/SPARCED_tutorial/amici_SPARCED_tutorial -I/home/chocolatecharlie/anaconda3/envs/sparced/lib/python3.12/site-packages/amici/include -I/home/chocolatecharlie/anaconda3/envs/sparced/lib/python3.12/site-packages/amici/ThirdParty/gsl -I/home/chocolatecharlie/anaconda3/envs/sparced/lib/python3.12/site-packages/amici/ThirdParty/sundials/include -I/home/chocolatecharlie/anaconda3/envs/sparced/lib/python3.12/site-packages/amici/ThirdParty/SuiteSparse/include -I/home/chocolatecharlie/anaconda3/envs/sparced/include/python3.12 -c SPARCED_tutorial_xdot.cpp -o build/temp.linux-x86_64-cpython-312/SPARCED_tutorial_xdot.o -fopenmp -std=c++14\n",
      "gcc -pthread -B /home/chocolatecharlie/anaconda3/envs/sparced/compiler_compat -fno-strict-overflow -DNDEBUG -O2 -Wall -fPIC -O2 -isystem /home/chocolatecharlie/anaconda3/envs/sparced/include -fPIC -O2 -isystem /home/chocolatecharlie/anaconda3/envs/sparced/include -fPIC -I/home/chocolatecharlie/Documents/SPARCED/SPARCED/models/SPARCED_tutorial/amici_SPARCED_tutorial -I/home/chocolatecharlie/anaconda3/envs/sparced/lib/python3.12/site-packages/amici/include -I/home/chocolatecharlie/anaconda3/envs/sparced/lib/python3.12/site-packages/amici/ThirdParty/gsl -I/home/chocolatecharlie/anaconda3/envs/sparced/lib/python3.12/site-packages/amici/ThirdParty/sundials/include -I/home/chocolatecharlie/anaconda3/envs/sparced/lib/python3.12/site-packages/amici/ThirdParty/SuiteSparse/include -I/home/chocolatecharlie/anaconda3/envs/sparced/include/python3.12 -c SPARCED_tutorial_y.cpp -o build/temp.linux-x86_64-cpython-312/SPARCED_tutorial_y.o -fopenmp -std=c++14\n",
      "gcc -pthread -B /home/chocolatecharlie/anaconda3/envs/sparced/compiler_compat -fno-strict-overflow -DNDEBUG -O2 -Wall -fPIC -O2 -isystem /home/chocolatecharlie/anaconda3/envs/sparced/include -fPIC -O2 -isystem /home/chocolatecharlie/anaconda3/envs/sparced/include -fPIC -I/home/chocolatecharlie/Documents/SPARCED/SPARCED/models/SPARCED_tutorial/amici_SPARCED_tutorial -I/home/chocolatecharlie/anaconda3/envs/sparced/lib/python3.12/site-packages/amici/include -I/home/chocolatecharlie/anaconda3/envs/sparced/lib/python3.12/site-packages/amici/ThirdParty/gsl -I/home/chocolatecharlie/anaconda3/envs/sparced/lib/python3.12/site-packages/amici/ThirdParty/sundials/include -I/home/chocolatecharlie/anaconda3/envs/sparced/lib/python3.12/site-packages/amici/ThirdParty/SuiteSparse/include -I/home/chocolatecharlie/anaconda3/envs/sparced/include/python3.12 -c swig/SPARCED_tutorial_wrap.cpp -o build/temp.linux-x86_64-cpython-312/swig/SPARCED_tutorial_wrap.o -fopenmp -std=c++14\n",
      "gcc -pthread -B /home/chocolatecharlie/anaconda3/envs/sparced/compiler_compat -fno-strict-overflow -DNDEBUG -O2 -Wall -fPIC -O2 -isystem /home/chocolatecharlie/anaconda3/envs/sparced/include -fPIC -O2 -isystem /home/chocolatecharlie/anaconda3/envs/sparced/include -fPIC -I/home/chocolatecharlie/Documents/SPARCED/SPARCED/models/SPARCED_tutorial/amici_SPARCED_tutorial -I/home/chocolatecharlie/anaconda3/envs/sparced/lib/python3.12/site-packages/amici/include -I/home/chocolatecharlie/anaconda3/envs/sparced/lib/python3.12/site-packages/amici/ThirdParty/gsl -I/home/chocolatecharlie/anaconda3/envs/sparced/lib/python3.12/site-packages/amici/ThirdParty/sundials/include -I/home/chocolatecharlie/anaconda3/envs/sparced/lib/python3.12/site-packages/amici/ThirdParty/SuiteSparse/include -I/home/chocolatecharlie/anaconda3/envs/sparced/include/python3.12 -c wrapfunctions.cpp -o build/temp.linux-x86_64-cpython-312/wrapfunctions.o -fopenmp -std=c++14\n",
      "g++ -pthread -B /home/chocolatecharlie/anaconda3/envs/sparced/compiler_compat -shared -Wl,-rpath,/home/chocolatecharlie/anaconda3/envs/sparced/lib -Wl,-rpath-link,/home/chocolatecharlie/anaconda3/envs/sparced/lib -L/home/chocolatecharlie/anaconda3/envs/sparced/lib -Wl,-rpath,/home/chocolatecharlie/anaconda3/envs/sparced/lib -Wl,-rpath-link,/home/chocolatecharlie/anaconda3/envs/sparced/lib -L/home/chocolatecharlie/anaconda3/envs/sparced/lib build/temp.linux-x86_64-cpython-312/SPARCED_tutorial.o build/temp.linux-x86_64-cpython-312/SPARCED_tutorial_Jy.o build/temp.linux-x86_64-cpython-312/SPARCED_tutorial_dJydsigmay.o build/temp.linux-x86_64-cpython-312/SPARCED_tutorial_dJydy.o build/temp.linux-x86_64-cpython-312/SPARCED_tutorial_dJydy_colptrs.o build/temp.linux-x86_64-cpython-312/SPARCED_tutorial_dJydy_rowvals.o build/temp.linux-x86_64-cpython-312/SPARCED_tutorial_deltasx.o build/temp.linux-x86_64-cpython-312/SPARCED_tutorial_dsigmaydp.o build/temp.linux-x86_64-cpython-312/SPARCED_tutorial_dwdp.o build/temp.linux-x86_64-cpython-312/SPARCED_tutorial_dwdp_colptrs.o build/temp.linux-x86_64-cpython-312/SPARCED_tutorial_dwdp_rowvals.o build/temp.linux-x86_64-cpython-312/SPARCED_tutorial_dwdw.o build/temp.linux-x86_64-cpython-312/SPARCED_tutorial_dwdw_colptrs.o build/temp.linux-x86_64-cpython-312/SPARCED_tutorial_dwdw_rowvals.o build/temp.linux-x86_64-cpython-312/SPARCED_tutorial_dwdx.o build/temp.linux-x86_64-cpython-312/SPARCED_tutorial_dwdx_colptrs.o build/temp.linux-x86_64-cpython-312/SPARCED_tutorial_dwdx_rowvals.o build/temp.linux-x86_64-cpython-312/SPARCED_tutorial_dxdotdp_explicit.o build/temp.linux-x86_64-cpython-312/SPARCED_tutorial_dxdotdp_explicit_colptrs.o build/temp.linux-x86_64-cpython-312/SPARCED_tutorial_dxdotdp_explicit_rowvals.o build/temp.linux-x86_64-cpython-312/SPARCED_tutorial_dxdotdw.o build/temp.linux-x86_64-cpython-312/SPARCED_tutorial_dxdotdw_colptrs.o build/temp.linux-x86_64-cpython-312/SPARCED_tutorial_dxdotdw_rowvals.o build/temp.linux-x86_64-cpython-312/SPARCED_tutorial_dxdotdx_explicit.o build/temp.linux-x86_64-cpython-312/SPARCED_tutorial_dxdotdx_explicit_colptrs.o build/temp.linux-x86_64-cpython-312/SPARCED_tutorial_dxdotdx_explicit_rowvals.o build/temp.linux-x86_64-cpython-312/SPARCED_tutorial_dydp.o build/temp.linux-x86_64-cpython-312/SPARCED_tutorial_dydx.o build/temp.linux-x86_64-cpython-312/SPARCED_tutorial_root.o build/temp.linux-x86_64-cpython-312/SPARCED_tutorial_sigmay.o build/temp.linux-x86_64-cpython-312/SPARCED_tutorial_stau.o build/temp.linux-x86_64-cpython-312/SPARCED_tutorial_sx0.o build/temp.linux-x86_64-cpython-312/SPARCED_tutorial_sx0_fixedParameters.o build/temp.linux-x86_64-cpython-312/SPARCED_tutorial_total_cl.o build/temp.linux-x86_64-cpython-312/SPARCED_tutorial_w.o build/temp.linux-x86_64-cpython-312/SPARCED_tutorial_x0.o build/temp.linux-x86_64-cpython-312/SPARCED_tutorial_x0_fixedParameters.o build/temp.linux-x86_64-cpython-312/SPARCED_tutorial_x_rdata.o build/temp.linux-x86_64-cpython-312/SPARCED_tutorial_x_solver.o build/temp.linux-x86_64-cpython-312/SPARCED_tutorial_xdot.o build/temp.linux-x86_64-cpython-312/SPARCED_tutorial_y.o build/temp.linux-x86_64-cpython-312/swig/SPARCED_tutorial_wrap.o build/temp.linux-x86_64-cpython-312/wrapfunctions.o -L/home/chocolatecharlie/anaconda3/envs/sparced/lib/python3.12/site-packages/amici/libs -lamici -lsundials -lsuitesparse -lcblas -o /home/chocolatecharlie/Documents/SPARCED/SPARCED/models/SPARCED_tutorial/amici_SPARCED_tutorial/SPARCED_tutorial/_SPARCED_tutorial.cpython-312-x86_64-linux-gnu.so -fopenmp\n",
      "\n",
      "SPARCED_tutorial: Sucess compiling the model\n"
     ]
    }
   ],
   "source": [
    "# Model name\n",
    "# The launcher gets and sanitizes that variable based on the \"name\" argument\n",
    "model_name = \"SPARCED_tutorial\"\n",
    "# Model path\n",
    "# The launcher automatically reconstructs that path based on:\n",
    "#     - the \"model\" argument, which is the path to the models directory\n",
    "#     - the model_name variable above\n",
    "model_path = Path(\"../../SPARCED/models/SPARCED_tutorial\")\n",
    "# Input data files\n",
    "# The launcher loads a dictionnary containing the paths of all the input data files based on:\n",
    "#     - the model_path variable name above\n",
    "#     - the \"input_data\" argument, which is the name of the folder containing this data\n",
    "#     - the \"yaml\" argument, which is the name of the YAML file containing description of the data organization\n",
    "input_data_folder = Path(\"../../SPARCED/models/SPARCED_tutorial/data\")\n",
    "input_files = load_compilation_input_files(input_data_folder, \"config.yaml\")\n",
    "# Output parameters\n",
    "# The launcher automatically reconstructs that path based on:\n",
    "#     - the model_path variable name above\n",
    "#     - the \"output_parameters\" argument, which is the desired name for this file\n",
    "output_parameters_path = Path(\"../../SPARCED/models/SPARCED_tutorial/out_Parameters.txt\")\n",
    "# Runtime booleans\n",
    "# The launcher gets those variables based on the \"wild\" and \"verbose\" arguments\n",
    "is_SPARCED = True\n",
    "verbose = True\n",
    "create_model(model_name, model_path, input_files, output_parameters_path, verbose, is_SPARCED)\n",
    "# NB: AMICI is very verbose, so don't be afraid if it loads tons of lines.\n",
    "# The model takes several minutes to compile."
   ]
  },
  {
   "cell_type": "markdown",
   "id": "97e838d4-166e-4208-9645-8a5688709711",
   "metadata": {},
   "source": [
    "Although this might seem overwhelming, note that you may simply call the ```launch_model_creation()``` function from your script or the command line, which will collect all the default values and arguments you pass, process these and call the ```create_model()``` function for you."
   ]
  },
  {
   "cell_type": "markdown",
   "id": "5f861681-c4a4-4248-be5d-7d78b8f1824f",
   "metadata": {},
   "source": [
    "A call to ```launch_model_creation()``` looks as simple as this:"
   ]
  },
  {
   "cell_type": "code",
   "execution_count": 4,
   "id": "5c73259b-8416-4474-8c83-cd37df2fface",
   "metadata": {},
   "outputs": [],
   "source": [
    "# WARNING: the Notebook doesn\"t handle well command-line arguments\n",
    "# We encourage you to see the __main__.py file located in SPARCED/src for a working example\n",
    "# from compilation.launcher import launch_model_creation()\n",
    "# launch_model_creation()"
   ]
  },
  {
   "cell_type": "markdown",
   "id": "17425419-2219-414c-8915-9aa99c6acaae",
   "metadata": {},
   "source": [
    "## 2 - Run the Model: Simulation"
   ]
  },
  {
   "cell_type": "markdown",
   "id": "b5a99ce2-d397-4f89-ac73-6c23d955fb54",
   "metadata": {},
   "source": [
    "### Overview"
   ]
  },
  {
   "cell_type": "markdown",
   "id": "4c16b76e-7f1a-4357-ba17-d7cf1555fe0a",
   "metadata": {},
   "source": [
    "The model simulation pipeline works as follow:\n",
    "  1. The experiment's model and **initial conditions** are loaded.\n",
    "  2. A **single-cell simulation** is run until reaching the desired number of cells.\n",
    "  3. Files are **saved** at the end of each single-cell simulation."
   ]
  },
  {
   "cell_type": "markdown",
   "id": "0e627c79-557f-4681-aefb-068667d38ea5",
   "metadata": {},
   "source": [
    "### Details"
   ]
  },
  {
   "cell_type": "markdown",
   "id": "8a0bae7e-2a81-4c80-86e6-6f04a0f308f2",
   "metadata": {},
   "source": [
    "Instead of using the launcher, we will cover what it does by directly calling the ```run_experiment()``` function.\n",
    "The ```run_experiment()``` function is a wrapper that will call the ```run_single_simulation()``` function for each cell in your population."
   ]
  },
  {
   "cell_type": "markdown",
   "id": "a463b0f5-6b4a-4156-be35-757f52db0d1b",
   "metadata": {},
   "source": [
    "_Please note that in the example bellow, we redefined some variables previously set to give you an overview of what you need to call the ```run_experiment()``` function. In practice, you wouldn't want to redefine variables in your script of course._"
   ]
  },
  {
   "cell_type": "code",
   "execution_count": 7,
   "id": "f59adc1a-c40b-4c75-958d-8fa32911d83e",
   "metadata": {},
   "outputs": [
    {
     "name": "stdout",
     "output_type": "stream",
     "text": [
      "SPARCED_tutorial: Successfully loaded <module 'SPARCED_tutorial' from '/home/chocolatecharlie/Documents/SPARCED/SPARCED/models/SPARCED_tutorial/amici_SPARCED_tutorial/SPARCED_tutorial/__init__.py'>\n",
      "\n",
      "Tutorial n°0: Now ready to run\n",
      "\n",
      "Tutorial n°0: Simulation is over. Now saving results,                 please do not exit.\n",
      "\n",
      "Tutorial n°0: Simulation saved.\n",
      "\n"
     ]
    }
   ],
   "source": [
    "# Model name\n",
    "# The launcher gets and sanitizes that variable based on the \"name\" argument\n",
    "model_name = \"SPARCED_tutorial\"\n",
    "# Model path\n",
    "# The launcher automatically reconstructs that path based on:\n",
    "#     - the \"model\" argument, which is the path to the models directory\n",
    "#     - the model_name variable above\n",
    "model_path = Path(\"../../SPARCED/models/SPARCED_tutorial\")\n",
    "# Simulation name\n",
    "# The launcher gets that variable based on the \"simulation\" argument\n",
    "simulation_name = \"Tutorial\"\n",
    "# Results path\n",
    "# The launcher automatically reconstructs that path based on the \"results\" argument,\n",
    "# which is the path to the directory where you wish the results to be saved\n",
    "results_path = \"../../SPARCED/results/New-Simulation\"\n",
    "# AMICI and SBML paths\n",
    "# The launcher automatically reconstructs those paths based on the model_name and model_path variables above.\n",
    "amici_path = Path(\"../../SPARCED/models/SPARCED_tutorial/amici_SPARCED_tutorial\")\n",
    "sbml_path = Path(\"../../SPARCED/models/SPARCED_tutorial/sbml_SPARCED_tutorial.xml\")\n",
    "# Input data files\n",
    "# The launcher loads a dictionnary containing the paths of all the input data files based on:\n",
    "#     - the model_path variable name above\n",
    "#     - the \"input_data\" argument, which is the name of the folder containing this data\n",
    "#     - the \"yaml\" argument, which is the name of the YAML file containing description of the data organization\n",
    "#     - the \"perturbations\" argument, which is the name of the file to override default perturbations\n",
    "input_data_folder = Path(\"../../SPARCED/models/SPARCED_tutorial/data\")\n",
    "input_files, perturbations = load_simulation_input_files(input_data_folder, \"config.yaml\", None)\n",
    "# Runtime variables\n",
    "# The launcher gets those variables based on the \"deterministic\", \"population_size\", \"time\", \"exchange\", \"verbose\" and \"wild\" arguments.\n",
    "deterministic = True\n",
    "population_size = 1\n",
    "time = 1.0 # in hours\n",
    "exchange = 30 # don't touch this if you don't know how a systems biology model works\n",
    "verbose = True\n",
    "is_SPARCED = True\n",
    "run_experiment(model_name, simulation_name, results_path, amici_path, sbml_path, input_files, deterministic, population_size, \\\n",
    "               time, exchange, verbose, is_SPARCED, perturbations)\n",
    "# It will take several minutes for the model to run."
   ]
  },
  {
   "cell_type": "markdown",
   "id": "d9b8abd6-7e8e-49ff-b9aa-0edf23d82a07",
   "metadata": {},
   "source": [
    "Although this might seem overwhelming, note that you may simply call the ```launch_experiment_simulation()``` function from your script or the command line, which will collect all the default values and arguments you pass, process these and call the ```run_experiment()``` function for you."
   ]
  },
  {
   "cell_type": "markdown",
   "id": "9485823f-2c64-4f99-8c98-337a5367004d",
   "metadata": {},
   "source": [
    "A call to ```launch_experiment_simulation()``` looks as simple as this:"
   ]
  },
  {
   "cell_type": "code",
   "execution_count": 8,
   "id": "a9e70250-bb28-4b37-9418-f88fd970c013",
   "metadata": {},
   "outputs": [],
   "source": [
    "# WARNING: the Notebook doesn\"t handle well command-line arguments\n",
    "# We encourage you to see the __main__.py file located in SPARCED/src for a working example\n",
    "# from simulation.launchers import launch_experiment_simulation()\n",
    "# launch_experiment_simulation()"
   ]
  }
 ],
 "metadata": {
  "kernelspec": {
   "display_name": "Python 3 (ipykernel)",
   "language": "python",
   "name": "python3"
  },
  "language_info": {
   "codemirror_mode": {
    "name": "ipython",
    "version": 3
   },
   "file_extension": ".py",
   "mimetype": "text/x-python",
   "name": "python",
   "nbconvert_exporter": "python",
   "pygments_lexer": "ipython3",
   "version": "3.12.2"
  }
 },
 "nbformat": 4,
 "nbformat_minor": 5
}
