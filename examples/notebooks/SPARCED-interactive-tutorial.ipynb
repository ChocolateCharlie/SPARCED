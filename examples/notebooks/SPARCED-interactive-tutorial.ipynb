{
 "cells": [
  {
   "cell_type": "markdown",
   "id": "f08ea4c3-ffe8-440f-96b0-337673e2fd80",
   "metadata": {},
   "source": [
    "# SPARCED's Interactive Tutorial"
   ]
  },
  {
   "cell_type": "markdown",
   "id": "4743d739-abcc-4182-af12-052c5d2efae5",
   "metadata": {},
   "source": [
    "Start here if you are new to the SPARCED model.\n",
    "This tutorial covers both how to create and how to run a SPARCED model."
   ]
  },
  {
   "cell_type": "markdown",
   "id": "61986548-5af7-460d-8c13-1de4b8b0b376",
   "metadata": {},
   "source": [
    "## 1 - Model creation"
   ]
  },
  {
   "cell_type": "markdown",
   "id": "b61b8851-d164-48f5-b05e-d96b7bb4bc91",
   "metadata": {},
   "source": [
    "The model creation pipeline works as follow:\n",
    "  - some TSV (tab separated values) input files are read to generate an Antimony model\n",
    "  - next, this Antimony model is converted into SBML format\n",
    "  - finally, the SBML model is compiled into an AMICI model\n",
    "SPARCED can only run if an AMICI model was generated.\n",
    "Although it is possible to run SPARCED starting from an Antimony or an SBML file, we will only cover how to create a SPARCED model from the input files."
   ]
  },
  {
   "cell_type": "code",
   "execution_count": 4,
   "id": "95f4045b-4641-42f8-9ac1-b84a7975f728",
   "metadata": {},
   "outputs": [
    {
     "ename": "ModuleNotFoundError",
     "evalue": "No module named 'compilation'",
     "output_type": "error",
     "traceback": [
      "\u001b[0;31m---------------------------------------------------------------------------\u001b[0m",
      "\u001b[0;31mModuleNotFoundError\u001b[0m                       Traceback (most recent call last)",
      "Cell \u001b[0;32mIn[4], line 1\u001b[0m\n\u001b[0;32m----> 1\u001b[0m \u001b[38;5;28;01mfrom\u001b[39;00m \u001b[38;5;21;01mcompilation\u001b[39;00m\u001b[38;5;21;01m.\u001b[39;00m\u001b[38;5;21;01mcreate_model\u001b[39;00m \u001b[38;5;28;01mimport\u001b[39;00m \u001b[38;5;241m*\u001b[39m \u001b[38;5;66;03m# Import the functions available to create a model\u001b[39;00m\n",
      "\u001b[0;31mModuleNotFoundError\u001b[0m: No module named 'compilation'"
     ]
    }
   ],
   "source": [
    "from compilation.create_model import * # Import the functions available to create a model"
   ]
  },
  {
   "cell_type": "code",
   "execution_count": null,
   "id": "99165187-d0de-4f5a-9550-f65777eb0e68",
   "metadata": {},
   "outputs": [],
   "source": []
  }
 ],
 "metadata": {
  "kernelspec": {
   "display_name": "Python 3 (ipykernel)",
   "language": "python",
   "name": "python3"
  },
  "language_info": {
   "codemirror_mode": {
    "name": "ipython",
    "version": 3
   },
   "file_extension": ".py",
   "mimetype": "text/x-python",
   "name": "python",
   "nbconvert_exporter": "python",
   "pygments_lexer": "ipython3",
   "version": "3.12.2"
  }
 },
 "nbformat": 4,
 "nbformat_minor": 5
}
