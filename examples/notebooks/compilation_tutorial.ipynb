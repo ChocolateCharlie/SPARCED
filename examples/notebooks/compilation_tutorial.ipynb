{
 "cells": [
  {
   "cell_type": "markdown",
   "id": "208dc40d-6673-47af-a7d2-c43e96f9f3b7",
   "metadata": {},
   "source": [
    "# SPARCED's Compilation Interactive Tutorial"
   ]
  },
  {
   "cell_type": "markdown",
   "id": "84dc1278-dd56-40bd-9438-8472a5dd8173",
   "metadata": {},
   "source": [
    "Welcome to SPARCED!\n",
    "\n",
    "This tutorial covers the internals of **SPARCED's compilation pipeline**, including the compilation of a model from:\n",
    "  - a set of SPARCED's **custom input files**\n",
    "  - an **Antimony** file\n",
    "  - an **SBML** file\n",
    "We will discuss the functions you may call, where to find them, which arguments to pass and what behavior to expect."
   ]
  },
  {
   "cell_type": "markdown",
   "id": "0ab783e7-d237-4fde-a614-bdd593b91a09",
   "metadata": {},
   "source": [
    "_**NB:** This tutorial relies on the_ SPARCEd_tutorial _model._\n",
    "_Any alteration of the tutorial model might result into unexpected behavior._"
   ]
  },
  {
   "cell_type": "markdown",
   "id": "5896e639-0583-4a14-9137-fcc5b60ddc0b",
   "metadata": {},
   "source": [
    "## (Optional) Preliminaries: Place yourself into the correct folder"
   ]
  },
  {
   "cell_type": "markdown",
   "id": "98a79a00-d16e-4e1a-a245-cf80ac25b5c5",
   "metadata": {},
   "source": [
    "**WARNING:** If you moved this tutorial from its default location, please make sure the relative path is still correct."
   ]
  },
  {
   "cell_type": "code",
   "execution_count": 2,
   "id": "f314ea12-7616-48d5-94b6-6c326fea50b7",
   "metadata": {},
   "outputs": [],
   "source": [
    "import os\n",
    "import sys\n",
    "\n",
    "from pathlib import Path\n",
    "import yaml\n",
    "\n",
    "sys.path.insert(0, os.path.abspath(\"../../SPARCED/src\"))"
   ]
  },
  {
   "cell_type": "markdown",
   "id": "f2021e14-00fe-4af6-acd6-9f44898bb76c",
   "metadata": {},
   "source": [
    "## 1 - Overview"
   ]
  },
  {
   "cell_type": "markdown",
   "id": "080aea7f-a1c3-442f-a0e9-613879b6daad",
   "metadata": {},
   "source": [
    "The SPARCED compilation pipeline works as follow:\n",
    "  1. Some SPARCED custom TSV (tab separated values) **input files** are read to generate an Antimony model.\n",
    "  2. Next, this **Antimony model** is converted into SBML format.\n",
    "  3. Finally, the **SBML model** is compiled into an AMICI model.\n",
    "SPARCED can only run if an **AMICI model** was generated.\n",
    "\n",
    "It is possible to **skip a step** and run SPARCED starting from an Antimony or an SBML file."
   ]
  },
  {
   "cell_type": "markdown",
   "id": "867c2f9a-6b4a-4b07-b64b-11c9488f2510",
   "metadata": {},
   "source": [
    "SPARCED is designed to be run from the ```SPARCED/src``` subfolder.\n",
    "If you want to run SPARCED from elsewhere (which is the case of this tutorial,\n",
    "that is located by default in the ```examples/notebooks``` subfolder),\n",
    "you will first need to add a path to that folder."
   ]
  },
  {
   "cell_type": "markdown",
   "id": "df60294e-0ae8-485b-806f-13bb10943a3f",
   "metadata": {},
   "source": [
    "### Imports"
   ]
  },
  {
   "cell_type": "markdown",
   "id": "196d5481-3744-41af-afe2-17c70403bab5",
   "metadata": {},
   "source": [
    "Although it is a good practice to add the imports at the beginning of your script or notebook,\n",
    "we will proceed to imports all along this tutorial so that you can easily find back how to import each function covered."
   ]
  },
  {
   "cell_type": "markdown",
   "id": "a19da473-a165-4cd2-aea6-7e56d27f3c27",
   "metadata": {},
   "source": [
    "### Constants"
   ]
  },
  {
   "cell_type": "markdown",
   "id": "186c495f-04a4-4968-a8dc-ad3383763fd2",
   "metadata": {},
   "source": [
    "A set of constants is provided in the ```constants.py``` file, and may be edited as needed.\n",
    "We highly recommend to **avoid altering constants** in the scripts.\n",
    "If you want to change a constant's value, simply edit the file in which it is defined."
   ]
  },
  {
   "cell_type": "code",
   "execution_count": null,
   "id": "ac577185-6173-4362-8054-61e734bc9cda",
   "metadata": {},
   "outputs": [],
   "source": [
    "import constants as const"
   ]
  },
  {
   "cell_type": "markdown",
   "id": "fa22d267-2fa2-4e55-abbd-14a9c1eadd67",
   "metadata": {},
   "source": [
    "## 2 - SPARCED's custom input files"
   ]
  },
  {
   "cell_type": "code",
   "execution_count": null,
   "id": "3d3ded86-cfa1-4541-9c20-9e69df4c5607",
   "metadata": {},
   "outputs": [],
   "source": [
    "# Variables of this section use the prefix cif_ (Custom Input Files)\n",
    "from compilation.compilation import create_and_compile_model\n",
    "\n",
    "# Model name is the name of the model's folder in the directory that contains all the models.\n",
    "cif_model_name = \n",
    "# Path towards the directory where the model folder can be found.\n",
    "# We expect the default value to be correct for most cases.\n",
    "cif_models_directory = const.DEFAULT_MODELS_DIRECTORY\n",
    "# Name of the configuration file of the model.\n",
    "# We expect the default value to be correct for most cases.\n",
    "cif_config_name = const.DEFAULT_CONFIG_FILE\n",
    "\n",
    "# Arguments are set automatically to the default constant values.\n",
    "# Unless you do not want to use those defaults, you may simply skip\n",
    "# those arguments (here cif_models_directory and _cif_config_name).\n",
    "cif_model, cif_amici_path = create_and_compile_model(cif_model_name)\n",
    "# The function returns:\n",
    "#   - a Model object representing all the paths and files that specify the model\n",
    "#   - the path towards the compiled AMICI model folder "
   ]
  },
  {
   "cell_type": "markdown",
   "id": "67068600-a9f1-4725-ad14-b6c69f285794",
   "metadata": {},
   "source": [
    "## 3 - Antimony model file"
   ]
  },
  {
   "cell_type": "code",
   "execution_count": null,
   "id": "96bcc510-06b0-49f5-8ab1-b01d70738eb3",
   "metadata": {},
   "outputs": [],
   "source": [
    "# Variables of this section use the prefix antimony_\n",
    "from compilation.conversion_scripts.antimony_to_sbml import convert_antimony_to_sbml\n",
    "\n",
    "# Path towards the Antimony file.\n",
    "antimony_path = \n",
    "# Model name is the name of the model's folder in the directory that containts all the models.\n",
    "antimony_model_name =\n",
    "# Path towards the model folder.\n",
    "antimony_model_folder = const.DEFAULT_MODELS_DIRECTORY +\n",
    "# Verbose\n",
    "verbose = True\n",
    "\n",
    "sbml_path = convert_antimony_to_sbml(antimony_path, antimony_model_name, antimony_model_path, verbose)\n",
    "# The function returns the path towards the generated SBML file.\n",
    "# You may then use the function presented in the next section to compile the model."
   ]
  },
  {
   "cell_type": "markdown",
   "id": "c2fec25e-289e-4dda-97bc-19cb2ad08738",
   "metadata": {},
   "source": [
    "## 4 - SBML model file"
   ]
  },
  {
   "cell_type": "code",
   "execution_count": null,
   "id": "a3fd5bea-0282-421d-bee4-0cd8c180c40a",
   "metadata": {},
   "outputs": [],
   "source": []
  }
 ],
 "metadata": {
  "kernelspec": {
   "display_name": "Python 3 (ipykernel)",
   "language": "python",
   "name": "python3"
  },
  "language_info": {
   "codemirror_mode": {
    "name": "ipython",
    "version": 3
   },
   "file_extension": ".py",
   "mimetype": "text/x-python",
   "name": "python",
   "nbconvert_exporter": "python",
   "pygments_lexer": "ipython3",
   "version": "3.11.9"
  }
 },
 "nbformat": 4,
 "nbformat_minor": 5
}
