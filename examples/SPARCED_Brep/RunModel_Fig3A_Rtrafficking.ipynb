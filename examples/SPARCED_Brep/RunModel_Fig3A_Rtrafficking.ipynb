{
 "cells": [
  {
   "cell_type": "code",
   "execution_count": null,
   "metadata": {},
   "outputs": [],
   "source": [
    "import libsbml\n",
    "import importlib\n",
    "import amici\n",
    "import amici.plotting\n",
    "import os\n",
    "import sys\n",
    "import numpy as np\n",
    "import matplotlib.pyplot as plt\n",
    "import pandas as pd\n",
    "from datetime import datetime\n",
    "import scipy.stats\n",
    "\n",
    "from gm import gm\n",
    "from gm_Prep import gm_Prep"
   ]
  },
  {
   "cell_type": "code",
   "execution_count": null,
   "metadata": {},
   "outputs": [],
   "source": [
    "# np.random.seed(1337) # set a random seed number or not"
   ]
  },
  {
   "cell_type": "code",
   "execution_count": null,
   "metadata": {},
   "outputs": [],
   "source": [
    "flagD = 1\n",
    "th = 2\n",
    "ts = 30\n",
    "NSteps = th*3600/ts\n",
    "NSteps = int(NSteps)\n",
    "\n",
    "# SBML model we want to import\n",
    "sbml_file = 'SPARCED_Brep.xml'\n",
    "# Name of the model that will also be the name of the python module\n",
    "model_name = sbml_file[0:-4]\n",
    "# Directory to which the generated model code is written\n",
    "model_output_dir = model_name\n",
    "\n",
    "sys.path.insert(0, os.path.abspath(model_output_dir))\n",
    "model_module = importlib.import_module(model_name)\n",
    "model = model_module.getModel()\n",
    "solver = model.getSolver() # Create solver instance\n",
    "solver.setMaxSteps = 1e10\n",
    "model.setTimepoints(np.linspace(0,ts)) # np.linspace(0, 30) # set timepoints\n",
    "\n",
    "spdata0 = pd.read_csv('Species_Brep.txt',header=0,index_col=0,sep=\"\\t\")\n",
    "spdata = np.double(spdata0.values[:,1])\n",
    "# spdata[np.argwhere(spdata <= 1e-6)] = 0.0\n",
    "\n",
    "kGsRead = pd.read_csv('OmicsData.txt',header=0,index_col=0,sep=\"\\t\")\n",
    "gExp_mpc = np.float64(kGsRead.values[:,0])\n",
    "mExp_mpc = np.float64(kGsRead.values[:,1])\n",
    "kGin = np.float64(kGsRead.values[:,2])\n",
    "kGac = np.float64(kGsRead.values[:,3])\n",
    "kTCleak = np.float64(kGsRead.values[:,4])\n",
    "kTCmaxs = np.float64(kGsRead.values[:,5])\n",
    "kTCd = np.float64(kGsRead.values[:,6])\n",
    "kmRNAs = kGsRead.values[:,7]\n",
    "\n",
    "# Read-in the activators matrix and assign concentrations of activators\n",
    "TAsRead = pd.read_csv('TAs.csv',header=0,index_col=0)\n",
    "TAs0 = np.float64(TAsRead.values)\n",
    "# Read-in the repressors matrix and assign concentrations of repressors\n",
    "TRsRead = pd.read_csv('TRs.csv',header=0,index_col=0)\n",
    "TRs0 = np.float64(TRsRead.values)"
   ]
  },
  {
   "cell_type": "code",
   "execution_count": null,
   "metadata": {},
   "outputs": [],
   "source": [
    "genedata, GenePositionMatrix, AllGenesVec, xgac_mpc_D, xgin_mpc_D, xgac_mpc, xgin_mpc, kTCleak2 \\\n",
    "= gm_Prep(flagD, gExp_mpc, mExp_mpc, kGin, kGac, kTCleak, kTCmaxs, kTCd)"
   ]
  },
  {
   "cell_type": "code",
   "execution_count": null,
   "metadata": {},
   "outputs": [],
   "source": [
    "startTime = datetime.now()\n",
    "Vn = 1.75E-12\n",
    "Vc = 5.25E-12\n",
    "\n",
    "# ligInds = [10.0,0.0,0.0,0.0,0.0,0.0,0.0] # E, H, HGF, P, F, I, INS\n",
    "inds_Rint = np.array([np.arange(290,352),np.arange(381,410),np.arange(497,526)])\n",
    "inds_Rint = np.concatenate(inds_Rint, axis=0)\n",
    "inds_R = np.array([np.arange(228,261),np.arange(352,381),np.arange(410,497),np.arange(526,642)])\n",
    "inds_R = np.concatenate(inds_R, axis=0)\n",
    "\n",
    "spdata[155] = 10.0 # [EGF] \n",
    "xoutS_all = np.zeros(shape=(NSteps+1,len(spdata)))\n",
    "xoutS_all[0,:] = spdata\n",
    "for qq in range(NSteps):\n",
    "    genedata,AllGenesVec = gm(flagD,ts,genedata,xoutS_all[qq,:],Vn,Vc,kGin,kGac, \\\n",
    "                               kTCmaxs,kTCleak,kTCd,AllGenesVec,GenePositionMatrix,TAs0,TRs0)\n",
    "    for ii,kk in enumerate(kmRNAs):\n",
    "        model.setFixedParameterById(kk,genedata[ii+282]*(1E9/(Vc*6.023E+23)))\n",
    "    model.setInitialStates(xoutS_all[qq,:])\n",
    "    rdata = amici.runAmiciSimulation(model, solver)  # Run simulation\n",
    "    spdata = rdata['x'][-1,:]\n",
    "    xoutS_all[qq+1,:] = spdata   \n",
    "print(datetime.now() - startTime)"
   ]
  },
  {
   "cell_type": "code",
   "execution_count": null,
   "metadata": {},
   "outputs": [],
   "source": [
    "RintSum = np.sum(xoutS_all[:,inds_Rint], axis=1) # Sum internalized receptor species\n",
    "RSum = np.sum(xoutS_all[:,inds_R], axis=1) # Sum all activated receptor complexes\n",
    "RsSumDF = pd.DataFrame()\n",
    "RsSumDF['RIntSum'] = RintSum \n",
    "RsSumDF['RSum'] = RSum\n",
    "RsSumDF.to_csv('Phos_Receptor_Dynamics_2hr.txt',sep=\"\\t\")    "
   ]
  }
 ],
 "metadata": {
  "kernelspec": {
   "display_name": "Python 3",
   "language": "python",
   "name": "python3"
  },
  "language_info": {
   "codemirror_mode": {
    "name": "ipython",
    "version": 3
   },
   "file_extension": ".py",
   "mimetype": "text/x-python",
   "name": "python",
   "nbconvert_exporter": "python",
   "pygments_lexer": "ipython3",
   "version": "3.7.4"
  }
 },
 "nbformat": 4,
 "nbformat_minor": 2
}
