{
 "cells": [
  {
   "cell_type": "code",
   "execution_count": 1,
   "metadata": {},
   "outputs": [],
   "source": [
    "import libsbml\n",
    "import importlib\n",
    "import amici\n",
    "import amici.plotting\n",
    "import os\n",
    "import sys\n",
    "import numpy as np\n",
    "import matplotlib.pyplot as plt\n",
    "import pandas as pd\n",
    "from datetime import datetime\n",
    "import scipy.stats\n",
    "\n",
    "from SGEmodule import SGEmodule\n",
    "from RunPrep import RunPrep\n",
    "from RunSPARCED import RunSPARCED"
   ]
  },
  {
   "cell_type": "code",
   "execution_count": 2,
   "metadata": {},
   "outputs": [],
   "source": [
    "# np.random.seed(6)"
   ]
  },
  {
   "cell_type": "code",
   "execution_count": 3,
   "metadata": {},
   "outputs": [],
   "source": [
    "# SBML model we want to import\n",
    "sbml_file = 'SPARCEDv6.xml'\n",
    "# Name of the model that will also be the name of the python module\n",
    "model_name = sbml_file[0:-4] # 'BigModel_byparts_v1'\n",
    "# Directory to which the generated model code is written\n",
    "model_output_dir = model_name\n",
    "\n",
    "Vn = 1.75E-12\n",
    "Vc = 5.25E-12\n",
    "\n",
    "currentDirectory = os.getcwd()"
   ]
  },
  {
   "cell_type": "code",
   "execution_count": 4,
   "metadata": {},
   "outputs": [
    {
     "name": "stdout",
     "output_type": "stream",
     "text": [
      "2020-03-24 20:02:17.972336\n",
      "0:00:50.947376\n",
      "2020-03-24 20:03:08.919983\n"
     ]
    }
   ],
   "source": [
    "flagD = 0\n",
    "th = 2\n",
    "ts = 30\n",
    "numStocCells = 1\n",
    "STIMligs = [100,100.0,100.0,100.0,100.0,100.0,1721.0] # EGF, Her, HGF, PDGF, FGF, IGF, INS\n",
    "flagWr = 1\n",
    "nmxlsfile = 'GrowthStim_stoc_'\n",
    "\n",
    "sys.path.insert(0, os.path.abspath(model_output_dir))\n",
    "\n",
    "spdata0 = pd.read_excel('Species_v6.xlsx',header=0,index_col=0)\n",
    "spdata = np.double(spdata0.values[:,1])\n",
    "spdata[np.argwhere(spdata <= 1e-6)] = 0.0\n",
    "\n",
    "startTime = datetime.now()\n",
    "print(startTime)\n",
    "for nn in range(numStocCells):\n",
    "    spdata[155:162] = STIMligs\n",
    "    \n",
    "    model_module = importlib.import_module(model_name)\n",
    "    model = model_module.getModel()\n",
    "    solver = model.getSolver() # Create solver instance\n",
    "    solver.setMaxSteps = 1e10\n",
    "    model.setTimepoints(np.linspace(0,ts)) # np.linspace(0, 30) # set timepoints\n",
    "\n",
    "    xoutS_all, xoutG_all, tout_all = RunSPARCED(flagD,th,spdata,[],Vn,Vc,model)\n",
    "    \n",
    "    if flagWr==1:\n",
    "        columnsS=[ele for ele in model.getStateIds()]\n",
    "        columnsG = columnsS[773:914]\n",
    "        resa = [sub.replace('m_', 'ag_') for sub in columnsG]\n",
    "        resi = [sub.replace('m_', 'ig_') for sub in columnsG]\n",
    "        columnsG2 = np.concatenate((resa, resi), axis=None)\n",
    "        condsSDF = pd.DataFrame(data=xoutS_all,columns=columnsS) \n",
    "        condsSDF.to_excel(nmxlsfile+'S_'+str(nn)+'.xlsx')    \n",
    "        condsSDF = None\n",
    "        condsGDF = pd.DataFrame(data=xoutG_all,columns=columnsG2)  \n",
    "        condsGDF.to_excel(nmxlsfile+'G_'+str(nn)+'.xlsx')    \n",
    "        condsGDF = None    \n",
    "    print(datetime.now() - startTime)\n",
    "print(datetime.now())"
   ]
  },
  {
   "cell_type": "code",
   "execution_count": null,
   "metadata": {},
   "outputs": [],
   "source": [
    "flagD = 1\n",
    "th = 2\n",
    "ts = 30\n",
    "numStocCells = 1\n",
    "STIMligs = [100,100.0,100.0,100.0,100.0,100.0,1721.0] # EGF, Her, HGF, PDGF, FGF, IGF, INS\n",
    "flagWr = 1\n",
    "nmxlsfile = 'GrowthStim_det_'\n",
    "\n",
    "sys.path.insert(0, os.path.abspath(model_output_dir))\n",
    "\n",
    "spdata0 = pd.read_excel('Species_v6.xlsx',header=0,index_col=0)\n",
    "spdata = np.double(spdata0.values[:,1])\n",
    "spdata[np.argwhere(spdata <= 1e-6)] = 0.0\n",
    "\n",
    "startTime = datetime.now()\n",
    "print(startTime)\n",
    "for nn in range(numStocCells):\n",
    "    spdata[155:162] = STIMligs\n",
    "    \n",
    "    model_module = importlib.import_module(model_name)\n",
    "    model = model_module.getModel()\n",
    "    solver = model.getSolver() # Create solver instance\n",
    "    solver.setMaxSteps = 1e10\n",
    "    model.setTimepoints(np.linspace(0,ts)) # np.linspace(0, 30) # set timepoints\n",
    "\n",
    "    xoutS_all, xoutG_all, tout_all = RunSPARCED(flagD,th,spdata,[],Vn,Vc,model)\n",
    "    \n",
    "    if flagWr==1:\n",
    "        columnsS=[ele for ele in model.getStateIds()]\n",
    "        columnsG = columnsS[773:914]\n",
    "        resa = [sub.replace('m_', 'ag_') for sub in columnsG]\n",
    "        resi = [sub.replace('m_', 'ig_') for sub in columnsG]\n",
    "        columnsG2 = np.concatenate((resa, resi), axis=None)\n",
    "        condsSDF = pd.DataFrame(data=xoutS_all,columns=columnsS) \n",
    "        condsSDF.to_excel(nmxlsfile+'S_'+str(nn)+'.xlsx')    \n",
    "        condsSDF = None\n",
    "        condsGDF = pd.DataFrame(data=xoutG_all,columns=columnsG2)  \n",
    "        condsGDF.to_excel(nmxlsfile+'G_'+str(nn)+'.xlsx')    \n",
    "        condsGDF = None    \n",
    "    print(datetime.now() - startTime)\n",
    "print(datetime.now())"
   ]
  },
  {
   "cell_type": "code",
   "execution_count": null,
   "metadata": {},
   "outputs": [],
   "source": []
  }
 ],
 "metadata": {
  "kernelspec": {
   "display_name": "Python 3",
   "language": "python",
   "name": "python3"
  },
  "language_info": {
   "codemirror_mode": {
    "name": "ipython",
    "version": 3
   },
   "file_extension": ".py",
   "mimetype": "text/x-python",
   "name": "python",
   "nbconvert_exporter": "python",
   "pygments_lexer": "ipython3",
   "version": "3.6.9"
  }
 },
 "nbformat": 4,
 "nbformat_minor": 2
}
