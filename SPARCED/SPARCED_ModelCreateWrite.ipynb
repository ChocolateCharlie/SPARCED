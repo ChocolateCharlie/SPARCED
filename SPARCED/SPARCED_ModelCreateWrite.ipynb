{
 "cells": [
  {
   "cell_type": "code",
   "execution_count": 1,
   "metadata": {},
   "outputs": [
    {
     "data": {
      "text/plain": [
       "18"
      ]
     },
     "execution_count": 1,
     "metadata": {},
     "output_type": "execute_result"
    }
   ],
   "source": [
    "# Antimony model name and text\n",
    "fileModel = open('SPARCEDv6.txt','w') # file name\n",
    "fileModel.write(\"// PanCancer Model by Birtwistle Lab \\n\") # some explanation\n",
    "fileModel.write(\"model SPARCEDv6()\\n\") # model name"
   ]
  },
  {
   "cell_type": "code",
   "execution_count": 2,
   "metadata": {},
   "outputs": [],
   "source": [
    "# Input and output file name definitions\n",
    "fileComps = 'Compartments_v6.xlsx' # input\n",
    "fileSpecies = 'Species_v6.xlsx' # input\n",
    "fileStoic = 'StoicMat_v6.xlsx' # input\n",
    "fileRatelaws = 'Ratelaws_v6.xlsx' # input\n",
    "fileParams = 'ParamsO_v6.xlsx' # output"
   ]
  },
  {
   "cell_type": "code",
   "execution_count": 3,
   "metadata": {},
   "outputs": [],
   "source": [
    "# SBML model we want to import\n",
    "sbml_file = 'SPARCEDv6.xml'\n",
    "# Name of the model that will also be the name of the python module\n",
    "model_name = sbml_file[0:-4] # 'BigModel_byparts_v1'\n",
    "# Directory to which the generated model code is written\n",
    "model_output_dir = model_name"
   ]
  },
  {
   "cell_type": "code",
   "execution_count": 4,
   "metadata": {},
   "outputs": [],
   "source": [
    "import libsbml\n",
    "import importlib\n",
    "import amici\n",
    "import amici.plotting\n",
    "import os\n",
    "import sys\n",
    "import numpy as np\n",
    "import matplotlib.pyplot as plt\n",
    "import pandas as pd\n",
    "import csv\n",
    "import re"
   ]
  },
  {
   "cell_type": "code",
   "execution_count": 5,
   "metadata": {},
   "outputs": [
    {
     "name": "stdout",
     "output_type": "stream",
     "text": [
      "4\n"
     ]
    }
   ],
   "source": [
    "# Create/write compartments\n",
    "CoVols = pd.read_excel(fileComps,header=0,index_col=0)\n",
    "Comps = CoVols.index\n",
    "Vols = CoVols.values[:,0]\n",
    "CompAnnots = CoVols.values[:,1]\n",
    "lenCmps = Vols.shape[0]\n",
    "fileModel.write(\"\\n  // Compartments and Species:\\n\")\n",
    "for inds in range(lenCmps):\n",
    "    compName = Comps[inds]\n",
    "    fileModel.write(\"  Compartment %s; \" % (compName))\n",
    "fileModel.write(\"\\n\")\n",
    "print(lenCmps)"
   ]
  },
  {
   "cell_type": "code",
   "execution_count": 6,
   "metadata": {},
   "outputs": [],
   "source": [
    "# Write species and assign compartments\n",
    "ICf = pd.read_excel(fileSpecies,header=0,index_col=0)\n",
    "ICs = np.double(ICf.values[:,1])\n",
    "SpComps = ICf.values[:,0]\n",
    "numSpecies = ICf.values.shape[0]-1\n",
    "count = 0\n",
    "count2 = 0\n",
    "fileModel.write(\"\\n\")\n",
    "for val in ICf.index: \n",
    "    if count2 == 0:\n",
    "        fileModel.write(\"  Species \")\n",
    "    if count == numSpecies:\n",
    "        fileModel.write(\"%s in %s;\" % (val, SpComps[count]))\n",
    "    elif count2 < 4:\n",
    "        fileModel.write(\"%s in %s,\" % (val, SpComps[count]))\n",
    "        count2 = count2 + 1\n",
    "    else:\n",
    "        fileModel.write(\"%s in %s;\\n\" % (val, SpComps[count]))\n",
    "        count2 = 0\n",
    "    count = count + 1"
   ]
  },
  {
   "cell_type": "code",
   "execution_count": null,
   "metadata": {},
   "outputs": [],
   "source": [
    "# Write reactions and rate laws\n",
    "fileModel.write(\"\\n\\n  // Reactions:\\n\")\n",
    "\n",
    "Sdf = pd.read_excel(fileStoic,header=0,index_col=0)\n",
    "S = Sdf.values\n",
    "Ratelawsf = pd.read_excel(fileRatelaws,header=0,index_col=0)\n",
    "numRlaws = Ratelawsf.shape[0]\n",
    "\n",
    "paramnames = []\n",
    "paramvals = []\n",
    "count = 0        \n",
    "for rr in range(numRlaws):\n",
    "    reactants = []\n",
    "    products = []\n",
    "    i = 0\n",
    "    formula=\"k\"+str(count+1)+\"*\"\n",
    "    line = np.array(Ratelawsf.iloc[rr])\n",
    "    for sp in Sdf.index:\n",
    "        if S[i,count] < 0:\n",
    "            for j in range(0,S[i,count]*-1):\n",
    "                reactants.append(sp)\n",
    "                formula=formula+sp+\"*\"\n",
    "        elif S[i,count] > 0:\n",
    "            for j in range(0,S[i,count]):\n",
    "                products.append(sp)\n",
    "        i +=1\n",
    "    if \"k\" not in str(line[1]):\n",
    "        # the mass-action formula\n",
    "        formula=formula[:-1]\n",
    "        #the parameter\n",
    "        paramnames.append(\"k\"+str(count+1))\n",
    "        paramvals.append(np.double(line[1]))\n",
    "    else:  \n",
    "        # specific formula (non-mass-action)\n",
    "        formula = line[1]\n",
    "        j = 1\n",
    "        params = np.array(list(line[2:])) # parameters\n",
    "        params = params[~np.isnan(params)]\n",
    "        if len(params) == 1:\n",
    "            paramnames.append(\"k\"+str(count+1)+\"_\"+str(j))\n",
    "            paramvals.append(float(line[j+1]))\n",
    "            pattern = 'k\\D*\\d*'\n",
    "            compiled = re.compile(pattern)\n",
    "            matches = compiled.finditer(formula)\n",
    "            for ematch in matches:\n",
    "                formula = formula.replace(ematch.group(),paramnames[-1]) \n",
    "        else:              \n",
    "            for p in params:\n",
    "                paramnames.append(\"k\"+str(count+1)+\"_\"+str(j))\n",
    "                paramvals.append(float(line[j+1]))\n",
    "                pattern1 = 'k(\\D*)\\d*'+'_'+str(j)\n",
    "                compiled1 = re.compile(pattern1)\n",
    "                matches1 = compiled1.finditer(formula)\n",
    "                for ematch in matches1:\n",
    "                    formula = formula.replace(ematch.group(),paramnames[-1]) \n",
    "                j +=1\n",
    "    if line[0] == 'Cytoplasm':\n",
    "        valcomp = 5.25e-12\n",
    "    elif line[0] == 'Extracellular':\n",
    "        valcomp = 5.00e-5\n",
    "    elif line[0] == 'Nucleus':\n",
    "        valcomp = 1.75e-12\n",
    "    elif line[0] == 'Mitochondrion':\n",
    "        valcomp = 3.675e-13              \n",
    "    fileModel.write(\"  %s: %s => %s; (%s)*%.6e;\\n\" % (Sdf.columns[count], \" + \".join(reactants), \" + \".join(products), formula, valcomp))\n",
    "    count +=1\n",
    "paramsSet =  pd.DataFrame(paramvals, columns = ['param_values'], index=paramnames)\n",
    "paramsSet.to_excel(fileParams)"
   ]
  },
  {
   "cell_type": "code",
   "execution_count": 8,
   "metadata": {},
   "outputs": [],
   "source": [
    "# Write compartment ICs\n",
    "fileModel.write(\"\\n  // Compartment initializations:\\n\")\n",
    "for inds in range(lenCmps): \n",
    "    fileModel.write(\"  %s = %.6e;\\n\" % (Comps[inds], np.double(Vols[inds]))) # '%.3e'  \"%.4g\"\n",
    "    fileModel.write(\"  %s has volume;\\n\" % (Comps[inds]))"
   ]
  },
  {
   "cell_type": "code",
   "execution_count": 9,
   "metadata": {},
   "outputs": [],
   "source": [
    "# Write species ICs\n",
    "fileModel.write(\"\\n  // Species initializations:\\n\")\n",
    "count = 0\n",
    "for sp in ICf.index:\n",
    "    vall = np.double(ICf.values[count,1])\n",
    "    fileModel.write(\"  %s = %.6e;\\n\" % (sp,vall)) # '%.3e'  \"%.4g\"\n",
    "    count += 1"
   ]
  },
  {
   "cell_type": "code",
   "execution_count": 10,
   "metadata": {},
   "outputs": [],
   "source": [
    "# Write parameter ICs\n",
    "fileModel.write(\"\\n  // Parameter initializations:\\n\")\n",
    "count = 0\n",
    "for param in paramnames: \n",
    "    fileModel.write(\"  %s = %.6e;\\n\" % (param, np.double(paramvals[count]))) # '%.3e'  \"%.4g\"\n",
    "    count += 1"
   ]
  },
  {
   "cell_type": "code",
   "execution_count": 11,
   "metadata": {},
   "outputs": [],
   "source": [
    "# Write other declarations\n",
    "constantVars = ['Cytoplasm','Extracellular','Nucleus','Mitochondrion']\n",
    "# constantVars = ['Cytoplasm']\n",
    "lenConVs = len(constantVars)\n",
    "\n",
    "fileModel.write(\"\\n  // Other declarations:\\n\")\n",
    "fileModel.write(\"  const\")\n",
    "count = 1\n",
    "for teconst in constantVars:\n",
    "    if count<lenConVs:\n",
    "        fileModel.write(\"  %s,\" % (teconst))\n",
    "        count+=1\n",
    "    else:\n",
    "        fileModel.write(\"  %s;\\n\" % (teconst))"
   ]
  },
  {
   "cell_type": "code",
   "execution_count": 12,
   "metadata": {},
   "outputs": [
    {
     "data": {
      "text/plain": [
       "1"
      ]
     },
     "execution_count": 12,
     "metadata": {},
     "output_type": "execute_result"
    }
   ],
   "source": [
    "# Write unit definitions\n",
    "fileModel.write(\"\\n  // Unit definitions:\")\n",
    "fileModel.write(\"\\n  unit time_unit = second;\")\n",
    "fileModel.write(\"\\n  unit volume = litre;\")\n",
    "fileModel.write(\"\\n  unit substance = 1e-9 mole;\")\n",
    "fileModel.write(\"\\n  unit nM = 1e-9 mole / litre;\")\n",
    "fileModel.write(\"\\n\")"
   ]
  },
  {
   "cell_type": "code",
   "execution_count": 13,
   "metadata": {},
   "outputs": [],
   "source": [
    "# End the model file\n",
    "fileModel.write(\"\\nend\")\n",
    "# Close the file\n",
    "fileModel.close()"
   ]
  },
  {
   "cell_type": "code",
   "execution_count": null,
   "metadata": {},
   "outputs": [],
   "source": []
  },
  {
   "cell_type": "code",
   "execution_count": 14,
   "metadata": {},
   "outputs": [
    {
     "data": {
      "text/plain": [
       "True"
      ]
     },
     "execution_count": 14,
     "metadata": {},
     "output_type": "execute_result"
    }
   ],
   "source": [
    "# To add annotations for the species, read-in the xml and Species files, then write a new xml with annotations.\n",
    "# This is because Antimony does not support annotations\n",
    "\n",
    "sbml_reader = libsbml.SBMLReader()\n",
    "sbml_doc = sbml_reader.readSBML(sbml_file)\n",
    "sbml_model = sbml_doc.getModel()\n",
    "\n",
    "# Set species annotations\n",
    "ICf = pd.read_excel(fileSpecies,header=0,index_col=0)\n",
    "for count,val in enumerate(ICf.index):\n",
    "    Annot=\"\"\n",
    "    for col in range(3,(ICf.shape[1])):\n",
    "        aa=str(ICf.values[count,col])\n",
    "        if aa==\"nan\":\n",
    "            break\n",
    "        else:\n",
    "            Annot=Annot+\" \"+ICf.values[count,col]\n",
    "    sbml_model.getSpecies(val).setAnnotation(Annot)\n",
    "\n",
    "# Set compartment annotations\n",
    "CoVols = pd.read_excel(fileComps,header=0,index_col=0)\n",
    "for count,val in enumerate(CoVols.index):\n",
    "    sbml_model.getCompartment(val).setAnnotation(CoVols.values[count,1])\n",
    "     \n",
    "# Write with the same name or use the next section instead of below lines\n",
    "writer = libsbml.SBMLWriter()\n",
    "writer.writeSBML(sbml_doc, sbml_file)\n",
    "\n",
    "# # Change model name and write with a new name\n",
    "# sbml_model.setName(model_name+'_Annot')\n",
    "# sbml_model.setId(model_name+'_Annot')\n",
    "# sbml_filewAnnot = model_name+'_Annot.xml'\n",
    "# writer = libsbml.SBMLWriter()\n",
    "# writer.writeSBML(sbml_doc, sbml_filewAnnot)"
   ]
  },
  {
   "cell_type": "code",
   "execution_count": 15,
   "metadata": {},
   "outputs": [],
   "source": [
    "# sbml_file = sbml_filewAnnot # Comment-out to use the file name  w/t annotations\n",
    "model_name = sbml_file[0:-4] \n",
    "model_output_dir = model_name\n",
    "\n",
    "sbml_reader = libsbml.SBMLReader()\n",
    "sbml_doc = sbml_reader.readSBML(sbml_file)\n",
    "sbml_model = sbml_doc.getModel()"
   ]
  },
  {
   "cell_type": "code",
   "execution_count": 16,
   "metadata": {},
   "outputs": [],
   "source": [
    "# Create an SbmlImporter instance for our SBML model\n",
    "sbml_importer = amici.SbmlImporter(sbml_file)"
   ]
  },
  {
   "cell_type": "code",
   "execution_count": 17,
   "metadata": {},
   "outputs": [
    {
     "data": {
      "text/plain": [
       "'k2438'"
      ]
     },
     "execution_count": 17,
     "metadata": {},
     "output_type": "execute_result"
    }
   ],
   "source": [
    "constantParameters = [params.getId() for params in sbml_model.getListOfParameters()]\n",
    "constantParameters[-1]"
   ]
  },
  {
   "cell_type": "code",
   "execution_count": 18,
   "metadata": {},
   "outputs": [],
   "source": [
    "observables={'actp53':{'formula': 'p53ac'},'phERK':{'formula': 'ppERK'},'egfLR':{'formula': 'EE1'}}"
   ]
  },
  {
   "cell_type": "code",
   "execution_count": 19,
   "metadata": {},
   "outputs": [],
   "source": [
    "sbml_importer.sbml2amici(model_name, \n",
    "                         model_output_dir, \n",
    "                         verbose=False,\n",
    "                         observables=observables,\n",
    "                         constantParameters=constantParameters)"
   ]
  },
  {
   "cell_type": "code",
   "execution_count": 20,
   "metadata": {},
   "outputs": [],
   "source": [
    "sys.path.insert(0, os.path.abspath(model_output_dir))\n",
    "model_module = importlib.import_module(model_name)\n",
    "model = model_module.getModel()"
   ]
  },
  {
   "cell_type": "code",
   "execution_count": 21,
   "metadata": {},
   "outputs": [],
   "source": [
    "# set timepoints for which we want to simulate the model\n",
    "model.setTimepoints(np.linspace(0, 86400, 2881)) \n",
    "# Create solver instance\n",
    "solver = model.getSolver()\n",
    "solver.setMaxSteps = 1e10\n",
    "# Run simulation using default model parameters and solver options\n",
    "rdata = amici.runAmiciSimulation(model, solver)"
   ]
  },
  {
   "cell_type": "code",
   "execution_count": 22,
   "metadata": {},
   "outputs": [
    {
     "data": {
      "text/plain": [
       "array([296.6386    , 296.63796644, 296.63735041, ..., 296.62098301,\n",
       "       296.6209829 , 296.62098278])"
      ]
     },
     "execution_count": 22,
     "metadata": {},
     "output_type": "execute_result"
    }
   ],
   "source": [
    "rdata['x'][:,1]"
   ]
  },
  {
   "cell_type": "code",
   "execution_count": 23,
   "metadata": {},
   "outputs": [
    {
     "data": {
      "text/plain": [
       "array([6.245528  , 6.24552801, 6.24552802, ..., 6.2460608 , 6.24606081,\n",
       "       6.24606081])"
      ]
     },
     "execution_count": 23,
     "metadata": {},
     "output_type": "execute_result"
    }
   ],
   "source": [
    "rdata['y'][:,0]"
   ]
  },
  {
   "cell_type": "code",
   "execution_count": null,
   "metadata": {},
   "outputs": [],
   "source": [
    "#### Stuff that can be useful\n",
    "\n",
    "# rdata['t']\n",
    "# rdata['x'][:, 1]\n",
    "# rdata['y'][:,1]\n",
    "\n",
    "# for count,ele in enumerate(model.getStateIds()): \n",
    "#     print(count,ele) \n",
    "    \n",
    "# amici.plotting.plotStateTrajectories(rdata,state_indices=[0])\n",
    "# amici.plotting.plotStateTrajectories(rdata,state_indices=[2])\n",
    "# amici.plotting.plotStateTrajectories(rdata,state_indices=[105])\n",
    "\n",
    "# rdataDF = pd.DataFrame(data=rdata['x'],columns=model.getStateIds()) \n",
    "# rdataDF.to_excel('rdataDF.xlsx')    "
   ]
  }
 ],
 "metadata": {
  "kernelspec": {
   "display_name": "Python 3",
   "language": "python",
   "name": "python3"
  },
  "language_info": {
   "codemirror_mode": {
    "name": "ipython",
    "version": 3
   },
   "file_extension": ".py",
   "mimetype": "text/x-python",
   "name": "python",
   "nbconvert_exporter": "python",
   "pygments_lexer": "ipython3",
   "version": "3.6.9"
  }
 },
 "nbformat": 4,
 "nbformat_minor": 2
}
