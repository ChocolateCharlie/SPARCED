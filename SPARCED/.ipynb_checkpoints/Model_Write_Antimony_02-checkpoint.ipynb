{
 "cells": [
  {
   "cell_type": "code",
   "execution_count": 1,
   "metadata": {},
   "outputs": [],
   "source": [
    "import sys\n",
    "import pandas as pd\n",
    "import numpy as np\n",
    "import csv\n",
    "import re\n",
    "from libsbml import *"
   ]
  },
  {
   "cell_type": "code",
   "execution_count": 2,
   "metadata": {},
   "outputs": [],
   "source": [
    "# Antimony model name and text\n",
    "fileModel = open('BigModel_PARCDL2.txt','w') # file name\n",
    "fileModel.write(\"// Big Model Testing by BirtwistleLab\\n\") # some explanation\n",
    "fileModel.write(\"model BigModel_PARCDL()\\n\") # model name\n",
    "\n",
    "# Input and output file name definitions\n",
    "# fileComps = 'Compartments.csv' # input\n",
    "# fileSpecies = 'Species.csv' # input\n",
    "# fileStoic = 'StoicMat.csv' # input\n",
    "# fileRatelaws = 'Ratelaws.csv' # input\n",
    "# fileParams = 'ParamsO.csv' # output\n",
    "fileComps = 'Compartments.csv' # input\n",
    "fileSpecies = 'Species_PARCDL.csv' # input\n",
    "fileStoic = 'StoicMat_PARCDL2.csv' # input\n",
    "fileRatelaws = 'Ratelaws_PARCDL2.csv' # input\n",
    "fileParams = 'ParamsO_PARCDL2.csv' # output"
   ]
  },
  {
   "cell_type": "code",
   "execution_count": 3,
   "metadata": {},
   "outputs": [],
   "source": [
    "# Create/write compartments\n",
    "CoVols=pd.read_csv(fileComps,header=0,index_col=0)\n",
    "Comps=CoVols.index\n",
    "Vols=CoVols.values[:,0]\n",
    "CompAnnots = CoVols.values[:,1]\n",
    "lenCmps=Vols.shape[0]\n",
    "fileModel.write(\"\\n  // Compartments and Species:\\n\")\n",
    "for inds in range(lenCmps):\n",
    "    compName=Comps[inds]\n",
    "    fileModel.write(\"  Compartment %s; \" % (compName))"
   ]
  },
  {
   "cell_type": "code",
   "execution_count": 4,
   "metadata": {},
   "outputs": [],
   "source": [
    "# Write species and assign compartments\n",
    "ICf = pd.read_csv(fileSpecies,header=0,index_col=0)\n",
    "ICs = ICf.values[:,1]\n",
    "numSpecies = ICf.values.shape[0]-1\n",
    "count = 0\n",
    "count2 = 0\n",
    "fileModel.write(\"\\n\")\n",
    "for val in ICf.index: \n",
    "    if count2 == 0:\n",
    "        fileModel.write(\"  Species \")\n",
    "    if count == numSpecies:\n",
    "        fileModel.write(\"%s in %s;\" % (val, ICf.values[count,0]))\n",
    "    elif count2 < 4:\n",
    "        fileModel.write(\"%s in %s,\" % (val, ICf.values[count,0]))\n",
    "        count2 = count2 + 1\n",
    "    else:\n",
    "        fileModel.write(\"%s in %s;\\n\" % (val, ICf.values[count,0]))\n",
    "        count2 = 0\n",
    "    count = count + 1"
   ]
  },
  {
   "cell_type": "code",
   "execution_count": 5,
   "metadata": {},
   "outputs": [],
   "source": [
    "# Write reactions and rate laws\n",
    "Sdf=pd.read_csv(fileStoic,header=0,index_col=0)\n",
    "S=Sdf.values\n",
    "fileModel.write(\"\\n\\n  // Reactions:\\n\")\n",
    "paramnames = []\n",
    "paramvals = []\n",
    "with open(fileParams,'w',newline='') as paramfile:\n",
    "    filewriter = csv.writer(paramfile, delimiter=',', quotechar='|', quoting=csv.QUOTE_MINIMAL)\n",
    "    with open(fileRatelaws) as f:\n",
    "        reader = csv.reader(f)\n",
    "        count=0\n",
    "        for line in reader:\n",
    "            #print(line)\n",
    "            reactants = []\n",
    "            products = []\n",
    "            i=0\n",
    "            formula=\"k\"+str(count+1)+\"*\"\n",
    "            for sp in Sdf.index:\n",
    "                if S[i,count] < 0:\n",
    "                    for j in range(0,S[i,count]*-1):\n",
    "                        reactants.append(sp)\n",
    "                        formula=formula+sp+\"*\"\n",
    "                elif S[i,count] > 0:\n",
    "                    for j in range(0,S[i,count]):\n",
    "                        products.append(sp)\n",
    "                i +=1\n",
    "            if \"k\" not in line[1]:\n",
    "                # the mass-action formula\n",
    "                formula=formula[:-1]\n",
    "                #the parameter\n",
    "                paramnames.append(\"k\"+str(count+1))\n",
    "                paramvals.append(float(line[1]))\n",
    "                filewriter.writerow([paramnames[-1], line[1]])\n",
    "            else:                   \n",
    "                # specific formula (non-mass-action)\n",
    "                formula=line[1]\n",
    "                j=1\n",
    "                params=list(filter(None,line[2:])) # parameters\n",
    "                \n",
    "                if len(params) == 1:\n",
    "                    paramnames.append(\"k\"+str(count+1)+\"_\"+str(j))\n",
    "                    paramvals.append(float(line[j+1]))\n",
    "                    filewriter.writerow([paramnames[-1], line[j+1]])                  \n",
    "                    pattern = 'k\\D*\\d*'\n",
    "                    compiled = re.compile(pattern)\n",
    "                    matches = compiled.finditer(formula)\n",
    "                    for ematch in matches:\n",
    "                        formula = formula.replace(ematch.group(),paramnames[-1]) \n",
    "                else:              \n",
    "                    for p in params:\n",
    "                        paramnames.append(\"k\"+str(count+1)+\"_\"+str(j))\n",
    "                        paramvals.append(float(line[j+1]))\n",
    "                        filewriter.writerow([paramnames[-1], line[j+1]])\n",
    "                        pattern1 = 'k(\\D*)\\d*'+'_'+str(j)\n",
    "                        compiled1 = re.compile(pattern1)\n",
    "                        matches1 = compiled1.finditer(formula)\n",
    "                        for ematch in matches1:\n",
    "                            formula = formula.replace(ematch.group(),paramnames[-1]) \n",
    "                        j +=1\n",
    "            fileModel.write(\"  %s: %s => %s; %s;\\n\" % (Sdf.columns[count], \" + \".join(reactants), \" + \".join(products), formula))\n",
    "            count +=1"
   ]
  },
  {
   "cell_type": "code",
   "execution_count": 6,
   "metadata": {},
   "outputs": [],
   "source": [
    "# Write compartment ICs\n",
    "fileModel.write(\"\\n  // Compartment initializations:\\n\")\n",
    "for inds in range(lenCmps):\n",
    "    fileModel.write(\"  %s = %f;\\n\" % (Comps[inds], np.double(Vols[inds])))"
   ]
  },
  {
   "cell_type": "code",
   "execution_count": 7,
   "metadata": {},
   "outputs": [],
   "source": [
    "# Write species ICs\n",
    "fileModel.write(\"\\n  // Species initializations:\\n\")\n",
    "count = 0\n",
    "for sp in ICf.index: \n",
    "    fileModel.write(\"  %s = %f;\\n\" % (sp, np.double(ICf.values[count,1])))\n",
    "    count += 1"
   ]
  },
  {
   "cell_type": "code",
   "execution_count": 8,
   "metadata": {},
   "outputs": [],
   "source": [
    "# Write parameter ICs\n",
    "fileModel.write(\"\\n  // Parameter initializations:\\n\")\n",
    "count = 0\n",
    "for param in paramnames: \n",
    "    fileModel.write(\"  %s = %f;\\n\" % (param, np.double(paramvals[count])))\n",
    "    count += 1"
   ]
  },
  {
   "cell_type": "code",
   "execution_count": 9,
   "metadata": {},
   "outputs": [
    {
     "data": {
      "text/plain": [
       "3"
      ]
     },
     "execution_count": 9,
     "metadata": {},
     "output_type": "execute_result"
    }
   ],
   "source": [
    "# End the model file\n",
    "fileModel.write(\"end\")\n"
   ]
  },
  {
   "cell_type": "code",
   "execution_count": 10,
   "metadata": {},
   "outputs": [],
   "source": [
    "# Close the file\n",
    "fileModel.close()"
   ]
  },
  {
   "cell_type": "code",
   "execution_count": null,
   "metadata": {},
   "outputs": [],
   "source": [
    "# Adding annotations\n",
    "\n",
    "reader = SBMLReader()\n",
    "Doc=reader.readSBML(\"BigModel_PARCDL2.xml\")\n",
    "\n",
    "Model = Doc.getModel()\n",
    "ICf=pd.read_csv('Species_PARCDL.csv',header=0,index_col=0)\n"
   ]
  },
  {
   "cell_type": "code",
   "execution_count": null,
   "metadata": {},
   "outputs": [],
   "source": [
    "count=0\n",
    "for val in ICf.index:\n",
    "    val=val.strip()\n",
    "    blank=\"\"\n",
    "    for col in range(3,(ICf.shape[1])):\n",
    "        aa=str(ICf.values[count,col])\n",
    "        if aa==\"nan\":\n",
    "            break\n",
    "        else:\n",
    "            blank=blank+\" \"+ICf.values[count,col]\n",
    "\n",
    "    Model.getSpecies(val).setAnnotation(blank)\n",
    "    count +=1"
   ]
  },
  {
   "cell_type": "code",
   "execution_count": null,
   "metadata": {},
   "outputs": [],
   "source": [
    "writer  = SBMLWriter()\n",
    "writer.writeSBML(Doc, \"BigModel_PARCDL2_annotated.xml\")"
   ]
  }
 ],
 "metadata": {
  "kernelspec": {
   "display_name": "Python 3",
   "language": "python",
   "name": "python3"
  },
  "language_info": {
   "codemirror_mode": {
    "name": "ipython",
    "version": 3
   },
   "file_extension": ".py",
   "mimetype": "text/x-python",
   "name": "python",
   "nbconvert_exporter": "python",
   "pygments_lexer": "ipython3",
   "version": "3.7.4"
  }
 },
 "nbformat": 4,
 "nbformat_minor": 2
}
